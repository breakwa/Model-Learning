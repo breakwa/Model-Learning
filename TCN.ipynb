{
  "nbformat": 4,
  "nbformat_minor": 0,
  "metadata": {
    "colab": {
      "name": "TCN.ipynb",
      "provenance": [],
      "collapsed_sections": [
        "BtbeEvtaWstG",
        "ByVy7NZze6Ry"
      ],
      "toc_visible": true,
      "authorship_tag": "ABX9TyOtQoChBeOgpcaOfnqTyenB",
      "include_colab_link": true
    },
    "kernelspec": {
      "name": "python3",
      "display_name": "Python 3"
    },
    "language_info": {
      "name": "python"
    },
    "widgets": {
      "application/vnd.jupyter.widget-state+json": {
        "40aa21381c324e3388821dbbf72a04e0": {
          "model_module": "@jupyter-widgets/controls",
          "model_name": "HBoxModel",
          "model_module_version": "1.5.0",
          "state": {
            "_dom_classes": [],
            "_model_module": "@jupyter-widgets/controls",
            "_model_module_version": "1.5.0",
            "_model_name": "HBoxModel",
            "_view_count": null,
            "_view_module": "@jupyter-widgets/controls",
            "_view_module_version": "1.5.0",
            "_view_name": "HBoxView",
            "box_style": "",
            "children": [
              "IPY_MODEL_8addb508093b429aaafd7f7f9ea9232e",
              "IPY_MODEL_fa90586360ce44f390a728b7d071684a",
              "IPY_MODEL_e67505ac1f30415fb34c5c24ef599aab"
            ],
            "layout": "IPY_MODEL_bbd76bf6a8174673a6ca1bf8614017d2"
          }
        },
        "8addb508093b429aaafd7f7f9ea9232e": {
          "model_module": "@jupyter-widgets/controls",
          "model_name": "HTMLModel",
          "model_module_version": "1.5.0",
          "state": {
            "_dom_classes": [],
            "_model_module": "@jupyter-widgets/controls",
            "_model_module_version": "1.5.0",
            "_model_name": "HTMLModel",
            "_view_count": null,
            "_view_module": "@jupyter-widgets/controls",
            "_view_module_version": "1.5.0",
            "_view_name": "HTMLView",
            "description": "",
            "description_tooltip": null,
            "layout": "IPY_MODEL_9a2fe333cfec4b7985b95e62d05ff00a",
            "placeholder": "​",
            "style": "IPY_MODEL_44f6f3670cd94a72a0b28693bf13d041",
            "value": "Epoch 19: 100%"
          }
        },
        "fa90586360ce44f390a728b7d071684a": {
          "model_module": "@jupyter-widgets/controls",
          "model_name": "FloatProgressModel",
          "model_module_version": "1.5.0",
          "state": {
            "_dom_classes": [],
            "_model_module": "@jupyter-widgets/controls",
            "_model_module_version": "1.5.0",
            "_model_name": "FloatProgressModel",
            "_view_count": null,
            "_view_module": "@jupyter-widgets/controls",
            "_view_module_version": "1.5.0",
            "_view_name": "ProgressView",
            "bar_style": "success",
            "description": "",
            "description_tooltip": null,
            "layout": "IPY_MODEL_a7334887d7b44b6185ed6a68ea3976a7",
            "max": 19,
            "min": 0,
            "orientation": "horizontal",
            "style": "IPY_MODEL_99c732c4557b4a3284929472b2b423ad",
            "value": 19
          }
        },
        "e67505ac1f30415fb34c5c24ef599aab": {
          "model_module": "@jupyter-widgets/controls",
          "model_name": "HTMLModel",
          "model_module_version": "1.5.0",
          "state": {
            "_dom_classes": [],
            "_model_module": "@jupyter-widgets/controls",
            "_model_module_version": "1.5.0",
            "_model_name": "HTMLModel",
            "_view_count": null,
            "_view_module": "@jupyter-widgets/controls",
            "_view_module_version": "1.5.0",
            "_view_name": "HTMLView",
            "description": "",
            "description_tooltip": null,
            "layout": "IPY_MODEL_ef73669eddc34c0e82b16485dfe2877e",
            "placeholder": "​",
            "style": "IPY_MODEL_4e539fe1606c4250a8b3e3506548f5e4",
            "value": " 19/19 [00:01&lt;00:00, 11.49it/s, loss=0.0276, train_loss=0.0274]"
          }
        },
        "bbd76bf6a8174673a6ca1bf8614017d2": {
          "model_module": "@jupyter-widgets/base",
          "model_name": "LayoutModel",
          "model_module_version": "1.2.0",
          "state": {
            "_model_module": "@jupyter-widgets/base",
            "_model_module_version": "1.2.0",
            "_model_name": "LayoutModel",
            "_view_count": null,
            "_view_module": "@jupyter-widgets/base",
            "_view_module_version": "1.2.0",
            "_view_name": "LayoutView",
            "align_content": null,
            "align_items": null,
            "align_self": null,
            "border": null,
            "bottom": null,
            "display": "inline-flex",
            "flex": null,
            "flex_flow": "row wrap",
            "grid_area": null,
            "grid_auto_columns": null,
            "grid_auto_flow": null,
            "grid_auto_rows": null,
            "grid_column": null,
            "grid_gap": null,
            "grid_row": null,
            "grid_template_areas": null,
            "grid_template_columns": null,
            "grid_template_rows": null,
            "height": null,
            "justify_content": null,
            "justify_items": null,
            "left": null,
            "margin": null,
            "max_height": null,
            "max_width": null,
            "min_height": null,
            "min_width": null,
            "object_fit": null,
            "object_position": null,
            "order": null,
            "overflow": null,
            "overflow_x": null,
            "overflow_y": null,
            "padding": null,
            "right": null,
            "top": null,
            "visibility": null,
            "width": "100%"
          }
        },
        "9a2fe333cfec4b7985b95e62d05ff00a": {
          "model_module": "@jupyter-widgets/base",
          "model_name": "LayoutModel",
          "model_module_version": "1.2.0",
          "state": {
            "_model_module": "@jupyter-widgets/base",
            "_model_module_version": "1.2.0",
            "_model_name": "LayoutModel",
            "_view_count": null,
            "_view_module": "@jupyter-widgets/base",
            "_view_module_version": "1.2.0",
            "_view_name": "LayoutView",
            "align_content": null,
            "align_items": null,
            "align_self": null,
            "border": null,
            "bottom": null,
            "display": null,
            "flex": null,
            "flex_flow": null,
            "grid_area": null,
            "grid_auto_columns": null,
            "grid_auto_flow": null,
            "grid_auto_rows": null,
            "grid_column": null,
            "grid_gap": null,
            "grid_row": null,
            "grid_template_areas": null,
            "grid_template_columns": null,
            "grid_template_rows": null,
            "height": null,
            "justify_content": null,
            "justify_items": null,
            "left": null,
            "margin": null,
            "max_height": null,
            "max_width": null,
            "min_height": null,
            "min_width": null,
            "object_fit": null,
            "object_position": null,
            "order": null,
            "overflow": null,
            "overflow_x": null,
            "overflow_y": null,
            "padding": null,
            "right": null,
            "top": null,
            "visibility": null,
            "width": null
          }
        },
        "44f6f3670cd94a72a0b28693bf13d041": {
          "model_module": "@jupyter-widgets/controls",
          "model_name": "DescriptionStyleModel",
          "model_module_version": "1.5.0",
          "state": {
            "_model_module": "@jupyter-widgets/controls",
            "_model_module_version": "1.5.0",
            "_model_name": "DescriptionStyleModel",
            "_view_count": null,
            "_view_module": "@jupyter-widgets/base",
            "_view_module_version": "1.2.0",
            "_view_name": "StyleView",
            "description_width": ""
          }
        },
        "a7334887d7b44b6185ed6a68ea3976a7": {
          "model_module": "@jupyter-widgets/base",
          "model_name": "LayoutModel",
          "model_module_version": "1.2.0",
          "state": {
            "_model_module": "@jupyter-widgets/base",
            "_model_module_version": "1.2.0",
            "_model_name": "LayoutModel",
            "_view_count": null,
            "_view_module": "@jupyter-widgets/base",
            "_view_module_version": "1.2.0",
            "_view_name": "LayoutView",
            "align_content": null,
            "align_items": null,
            "align_self": null,
            "border": null,
            "bottom": null,
            "display": null,
            "flex": "2",
            "flex_flow": null,
            "grid_area": null,
            "grid_auto_columns": null,
            "grid_auto_flow": null,
            "grid_auto_rows": null,
            "grid_column": null,
            "grid_gap": null,
            "grid_row": null,
            "grid_template_areas": null,
            "grid_template_columns": null,
            "grid_template_rows": null,
            "height": null,
            "justify_content": null,
            "justify_items": null,
            "left": null,
            "margin": null,
            "max_height": null,
            "max_width": null,
            "min_height": null,
            "min_width": null,
            "object_fit": null,
            "object_position": null,
            "order": null,
            "overflow": null,
            "overflow_x": null,
            "overflow_y": null,
            "padding": null,
            "right": null,
            "top": null,
            "visibility": null,
            "width": null
          }
        },
        "99c732c4557b4a3284929472b2b423ad": {
          "model_module": "@jupyter-widgets/controls",
          "model_name": "ProgressStyleModel",
          "model_module_version": "1.5.0",
          "state": {
            "_model_module": "@jupyter-widgets/controls",
            "_model_module_version": "1.5.0",
            "_model_name": "ProgressStyleModel",
            "_view_count": null,
            "_view_module": "@jupyter-widgets/base",
            "_view_module_version": "1.2.0",
            "_view_name": "StyleView",
            "bar_color": null,
            "description_width": ""
          }
        },
        "ef73669eddc34c0e82b16485dfe2877e": {
          "model_module": "@jupyter-widgets/base",
          "model_name": "LayoutModel",
          "model_module_version": "1.2.0",
          "state": {
            "_model_module": "@jupyter-widgets/base",
            "_model_module_version": "1.2.0",
            "_model_name": "LayoutModel",
            "_view_count": null,
            "_view_module": "@jupyter-widgets/base",
            "_view_module_version": "1.2.0",
            "_view_name": "LayoutView",
            "align_content": null,
            "align_items": null,
            "align_self": null,
            "border": null,
            "bottom": null,
            "display": null,
            "flex": null,
            "flex_flow": null,
            "grid_area": null,
            "grid_auto_columns": null,
            "grid_auto_flow": null,
            "grid_auto_rows": null,
            "grid_column": null,
            "grid_gap": null,
            "grid_row": null,
            "grid_template_areas": null,
            "grid_template_columns": null,
            "grid_template_rows": null,
            "height": null,
            "justify_content": null,
            "justify_items": null,
            "left": null,
            "margin": null,
            "max_height": null,
            "max_width": null,
            "min_height": null,
            "min_width": null,
            "object_fit": null,
            "object_position": null,
            "order": null,
            "overflow": null,
            "overflow_x": null,
            "overflow_y": null,
            "padding": null,
            "right": null,
            "top": null,
            "visibility": null,
            "width": null
          }
        },
        "4e539fe1606c4250a8b3e3506548f5e4": {
          "model_module": "@jupyter-widgets/controls",
          "model_name": "DescriptionStyleModel",
          "model_module_version": "1.5.0",
          "state": {
            "_model_module": "@jupyter-widgets/controls",
            "_model_module_version": "1.5.0",
            "_model_name": "DescriptionStyleModel",
            "_view_count": null,
            "_view_module": "@jupyter-widgets/base",
            "_view_module_version": "1.2.0",
            "_view_name": "StyleView",
            "description_width": ""
          }
        }
      }
    }
  },
  "cells": [
    {
      "cell_type": "markdown",
      "metadata": {
        "id": "view-in-github",
        "colab_type": "text"
      },
      "source": [
        "<a href=\"https://colab.research.google.com/github/breakwa/Model-Learning/blob/main/TCN.ipynb\" target=\"_parent\"><img src=\"https://colab.research.google.com/assets/colab-badge.svg\" alt=\"Open In Colab\"/></a>"
      ]
    },
    {
      "cell_type": "markdown",
      "source": [
        "# TCN开山之作\n",
        "## 1.要解决的问题\n",
        "为了处理原始音频生成所需要的长期时间依赖性，我们开发了基于扩展因果卷积的新架构，该架构展示了非常大的感受域。\n",
        "## 2.数学模型\n",
        "在本文中，我们引入了一种新的生成模型，直接操作原始音频波形。\n",
        "一个波形$\\mathbf{x}=\\left\\{x_{1}, \\ldots, x_{T}\\right\\}$分解为条件概率的乘积\n",
        "$$\n",
        "p(\\mathbf{x})=\\prod_{t=1}^{T} p\\left(x_{t} \\mid x_{1}, \\ldots, x_{t-1}\\right)\n",
        "$$\n",
        "因此，每个音频样本xt取决于所有之前的时间步骤的样本。\n",
        "\n",
        "**条件概率分布**由一叠卷积层进行建模。网络中没有池化层，模型的输出与输入具有相同的时间维度。该模型通过softmax层输出下一个值xt上的分类分布，并对其进行优化，以最大限度地提高数据的对数似然。\n",
        "\n",
        "## 3.扩张卷积（因果卷积 扩张卷积）\n",
        "![image.png](https://s2.loli.net/2022/05/27/8Ljv31bofA2pdVz.png)\n",
        "WaveNet的主要组成是**因果卷积**。通过使用因果卷积，我们确保模型不会违反我们对数据建模的顺序:预测$p\\left(x_{t+1} \\mid x_{1}, \\ldots, x_{t}\\right)$由模型在时间步$t$发出，不能依赖于未来的任何时间步$x_{t+1}, x_{t+2}, \\ldots, x_{T}$，如图2所示。\n",
        "\n",
        "在训练时，所有时间步的条件预测可以并行进行，因为地面真值x的所有时间步都是已知的。当与模型一起生成时，预测是连续的:每个样本被预测后，它被反馈到网络中，预测下一个样本。\n",
        "\n",
        "由于具有因果卷积的模型没有循环连接，它们通常比rnn训练更快，特别是当应用于非常长的序列时。因果卷积的一个问题是，它们需要很多层，或大型过滤器来增加接收野。例如，在图2中，接收场只有5 (= #layers + filter length - 1)。在本文中，我们使用**扩张卷积**来增加接收场的数量级，而不会大大增加计算成本。\n",
        "\n",
        "![image.png](https://s2.loli.net/2022/05/27/V4DCMfQ3e5WodUG.png)\n",
        "\n",
        "扩展卷积(也称为trous’，或带孔的卷积)是通过以一定的步长跳过输入值，在大于其长度的区域上应用滤波器的卷积。它相当于与一个更大的滤波器的卷积，通过0来扩大原始滤波器，但显著地更有效。\n",
        "与正常的卷积相比，膨胀的卷积可以有效地使网络在一个更大的尺度上运行。这类似于池化或跨步卷积，但这里的输出大小与输入相同。作为一种特殊情况，扩张卷积（扩张为\n",
        "1）等价于标准卷积。\n",
        "\n",
        "图3描绘了扩张1、2、4和8的扩张因果卷积。扩张卷积以前被用于各种环境中，例如信号处理(Holschneider等，1989;Dutilleux, 1989)。\n",
        "\n",
        "堆叠扩张卷积使网络具有非常大的接收域，虽然只有几层。堆叠扩张卷积同时保持整个网络的输入分辨率和计算效率。在本文中，每一层膨胀翻倍，直至极限，然后重复，如：\n",
        "1, 2, 4, . . . , 512, 1, 2, 4, . . . , 512, 1, 2, 4, . . . , 512.\n",
        "这种配置背后的动机有两方面。首先，指数级增加膨胀因子导致感受野随深度指数级增长(Yu & Koltun, 2016)**例如**每个1、2、4……， 512块的接受域大小为1024，可以看作是1×1024卷积的**更有效**和鉴别(非线性)的对应。其次，堆叠这些块进一步增加了模型容量和接收野的大小。\n",
        "\n",
        "## 4.softmax分布\n",
        "条件分布建模的一种方法是p (xt |x1，…， xt−1)对单个音频样本将使用混合模型，如混合密度网络(Bishop, 1994)或条件高斯尺度混合(MCGSM) (Theis & Bethge, 2015)。：然而，van den Oord等人(2016a)表明，softmax分布往往工作得更好，其中一个原因是，分类分布更灵活，更容易为任意分布建模，因为它不需要对它们的形状进行假设。\n",
        "\n",
        "因为原始音频通常以16位整数值序列的形式存储(每个时间步一个整数值)，softmax层需要每个时间步输出65,536个概率来建模所有可能的值。\n",
        "为了使这一过程更容易处理，我们首先对数据应用一个**u-law压缩变换(ITU-T, 1988)**，然后将其量化为256个可能的值:$$\n",
        "f\\left(x_{t}\\right)=\\operatorname{sign}\\left(x_{t}\\right) \\frac{\\ln \\left(1+\\mu\\left|x_{t}\\right|\\right)}{\\ln (1+\\mu)}\n",
        "$$\n",
        "其中−1 < xt < 1， μ = 255;这种非线性量化产生了比简单的线性量化方案更好的重构。特别是对于语音，我们发现量化后的重构信号听起来与原始信号非常相似。\n",
        "## 5.门控激活单元\n",
        "我们使用与Gated PixelCNN相同的门控激活单元(van den Oord等人，2016b):$$\n",
        "\\mathbf{z}=\\tanh \\left(W_{f, k} * \\mathbf{x}\\right) \\odot \\sigma\\left(W_{g, k} * \\mathbf{x}\\right)\n",
        "$$*表示一个卷积算子，$\\odot$表示与元素相关的乘法运算符,σ(·)为sigmoid函数，k为层指数，f和g分别表示滤波器和门，W是可学习的卷积滤波器。在我们最初的实验中，我们观察到这种非线性比修正的线性激活函数(ReLU)(Nair & Hinton, 2010)用于建模音频信号的效果要好得多。\n",
        "## 6.残差和跳跃连接\n",
        "![image.png](https://s2.loli.net/2022/05/27/8gwaiWlJYE3DbST.png)\n",
        "残差(He et al.， 2015)和参数化跳过连接在整个网络中使用，以加快收敛速度，并使训练更深入的模型。在图4中，我们展示了我们模型的一个残差块，它在网络中被多次叠加。\n",
        "## 7.条件wavenets\n",
        "给定一个额外的输入h, WaveNets可以模拟给定这个输入的音频的条件分布p (x | h)。式(1)现在变成$$\n",
        "p(\\mathbf{x} \\mid \\mathbf{h})=\\prod_{t=1}^{T} p\\left(x_{t} \\mid x_{1}, \\ldots, x_{t-1}, \\mathbf{h}\\right)\n",
        "\n",
        "$$**通过调节模型的其他输入变量，我们可以引导WaveNet的生成产生所需特征的音频**。例如，在多扬声器设置中，我们可以通过将扬声器标识作为额外输入输入模型来选择扬声器。类似地，对于TTS，我们需要提供关于文本的信息作为额外的输入。\n",
        "\n",
        "我们以两种不同的方式对模型进行其他输入条件化:全局条件化和局部条件化。全局条件反射的特征是单个潜在表征h，它影响所有时间步的输出分布，例如TTS模型中嵌入的说话者。式(2)的激活函数变为:$$\n",
        "\\mathbf{z}=\\tanh \\left(W_{f, k} * \\mathbf{x}+V_{f, k}^{T} \\mathbf{h}\\right) \\odot \\sigma\\left(W_{g, k} * \\mathbf{x}+V_{g, k}^{T} \\mathbf{h}\\right)\n",
        "$$其中V *，k是一个可学习的线性投影，向量V\n",
        "T\n",
        "*，kh在时间维度上传播。\n",
        "\n",
        "对于局部条件反射，我们有第二个时间序列ht，可能具有比音频信号更低的采样频率，例如TTS模型中的语言特征。我们首先使用转置卷积网络(学习上采样)对该时间序列进行变换，将其映射到一个新的时间序列y = f(h)，其分辨率与音频信号相同，然后在激活单元中使用该时间序列如下:$$\n",
        "\\mathbf{z}=\\tanh \\left(W_{f, k} * \\mathbf{x}+V_{f, k} * \\mathbf{y}\\right) \\odot \\sigma\\left(W_{g, k} * \\mathbf{x}+V_{g, k} * \\mathbf{y}\\right)\n",
        "$$\n",
        "其中Vf k * y现在是1×1卷积。作为转置卷积网络的替代方案，也可以使用Vf、k * h并跨时间重复这些值。我们在实验中发现，这种方法的效果稍差。"
      ],
      "metadata": {
        "id": "ZEdwoJ51a_Oy"
      }
    },
    {
      "cell_type": "markdown",
      "source": [
        "# 从CNN 到因果CNN 到扩张CNN 到TCN\n",
        "## 全连接与一维CNN\n",
        "全连接 （每条线表示$wx+b$）⭕表示activation（.），\n",
        "eg：sigmoid（w_1 * x + w_2 * x+w_3 * x + w_4 * x+w_1 * x + w_5 * x）\n",
        "![image.png](https://s2.loli.net/2022/05/27/Mv4cOL2KtVzhgYJ.png)\n",
        "标准CNN\n",
        "（稀疏连接：有第二层每个节点与第一层互相连接简化为 第二层每个节点仅仅与第一层的kernel_size个点相互连接）\n",
        "参数共享（每三个连接的权重不变，叫kernel，size=3）\n",
        "\n",
        "![Imgur](https://i.imgur.com/Ew5VZR3.png)\n",
        "这种结果是不适用于时序问题的。\n",
        "\n",
        "## 因果CNN\n",
        "![Imgur](https://i.imgur.com/72cuDVc.png)\n",
        "如何实现因果CNN？padding!\n",
        "![Imgur](https://i.imgur.com/RMGaKoI.png)\n",
        "相比于传统padding在两边补零，因果的padding在一侧补零。\n",
        "\n",
        "### 引入感受野(想实现第K步仅仅与前K-1步有关，K为输入序列长度)\n",
        "![Imgur](https://i.imgur.com/25bxINT.png)\n",
        "新的问题：如何解决长序列依赖？ 更多的滤波器×  or 扩张卷积√\n",
        "\n",
        "## 扩张卷积\n",
        "![Imgur](https://i.imgur.com/U0cvGnP.png)\n",
        "(间隔d步采样)\n",
        "![Imgur](https://i.imgur.com/Wbku8Jk.png)\n",
        "这样，每个时刻的输出包含K_size感受野内所有信息。\n",
        "![Imgur](https://i.imgur.com/0m6NMmD.png)\n",
        "感受野与TCN层数、kernel_size 的关系\n",
        "\n",
        "### 暂时解决了梯度消失问题\n",
        "![Imgur](https://i.imgur.com/7zfsW63.png)"
      ],
      "metadata": {
        "id": "3XIBEFsvGNqy"
      }
    },
    {
      "cell_type": "markdown",
      "source": [
        "# resnet解决梯度消失\n",
        "问题引入：\n",
        "![Imgur](https://i.imgur.com/EnfNy80.png)\n",
        "![Imgur](https://i.imgur.com/Y1Ae7Je.png)\n",
        "\n",
        "具体思路见桌面resnet pdf"
      ],
      "metadata": {
        "id": "AoN7Q-dSRrt1"
      }
    },
    {
      "cell_type": "markdown",
      "source": [
        "# 0.模型概览"
      ],
      "metadata": {
        "id": "oap_f3UeWoqe"
      }
    },
    {
      "cell_type": "code",
      "source": [
        "!pip install keras-tcn\n",
        "!pip install keras-tcn --no-dependencies  # without the dependencies if you already have TF/Numpy."
      ],
      "metadata": {
        "colab": {
          "base_uri": "https://localhost:8080/"
        },
        "id": "0PHrB5oNWHp2",
        "outputId": "88334feb-8bd9-45e5-b68c-5d1ad41c5875"
      },
      "execution_count": null,
      "outputs": [
        {
          "output_type": "stream",
          "name": "stdout",
          "text": [
            "Looking in indexes: https://pypi.org/simple, https://us-python.pkg.dev/colab-wheels/public/simple/\n",
            "Collecting keras-tcn\n",
            "  Downloading keras_tcn-3.4.4-py3-none-any.whl (13 kB)\n",
            "Collecting tensorflow-addons\n",
            "  Downloading tensorflow_addons-0.17.0-cp37-cp37m-manylinux_2_17_x86_64.manylinux2014_x86_64.whl (1.1 MB)\n",
            "\u001b[K     |████████████████████████████████| 1.1 MB 7.2 MB/s \n",
            "\u001b[?25hRequirement already satisfied: tensorflow in /usr/local/lib/python3.7/dist-packages (from keras-tcn) (2.8.0+zzzcolab20220506162203)\n",
            "Requirement already satisfied: numpy in /usr/local/lib/python3.7/dist-packages (from keras-tcn) (1.21.6)\n",
            "Requirement already satisfied: typing-extensions>=3.6.6 in /usr/local/lib/python3.7/dist-packages (from tensorflow->keras-tcn) (4.2.0)\n",
            "Requirement already satisfied: keras-preprocessing>=1.1.1 in /usr/local/lib/python3.7/dist-packages (from tensorflow->keras-tcn) (1.1.2)\n",
            "Requirement already satisfied: astunparse>=1.6.0 in /usr/local/lib/python3.7/dist-packages (from tensorflow->keras-tcn) (1.6.3)\n",
            "Requirement already satisfied: google-pasta>=0.1.1 in /usr/local/lib/python3.7/dist-packages (from tensorflow->keras-tcn) (0.2.0)\n",
            "Requirement already satisfied: tensorboard<2.9,>=2.8 in /usr/local/lib/python3.7/dist-packages (from tensorflow->keras-tcn) (2.8.0)\n",
            "Requirement already satisfied: absl-py>=0.4.0 in /usr/local/lib/python3.7/dist-packages (from tensorflow->keras-tcn) (1.0.0)\n",
            "Requirement already satisfied: protobuf>=3.9.2 in /usr/local/lib/python3.7/dist-packages (from tensorflow->keras-tcn) (3.17.3)\n",
            "Requirement already satisfied: tensorflow-io-gcs-filesystem>=0.23.1 in /usr/local/lib/python3.7/dist-packages (from tensorflow->keras-tcn) (0.26.0)\n",
            "Requirement already satisfied: termcolor>=1.1.0 in /usr/local/lib/python3.7/dist-packages (from tensorflow->keras-tcn) (1.1.0)\n",
            "Requirement already satisfied: keras<2.9,>=2.8.0rc0 in /usr/local/lib/python3.7/dist-packages (from tensorflow->keras-tcn) (2.8.0)\n",
            "Requirement already satisfied: libclang>=9.0.1 in /usr/local/lib/python3.7/dist-packages (from tensorflow->keras-tcn) (14.0.1)\n",
            "Requirement already satisfied: six>=1.12.0 in /usr/local/lib/python3.7/dist-packages (from tensorflow->keras-tcn) (1.15.0)\n",
            "Requirement already satisfied: setuptools in /usr/local/lib/python3.7/dist-packages (from tensorflow->keras-tcn) (57.4.0)\n",
            "Requirement already satisfied: opt-einsum>=2.3.2 in /usr/local/lib/python3.7/dist-packages (from tensorflow->keras-tcn) (3.3.0)\n",
            "Requirement already satisfied: gast>=0.2.1 in /usr/local/lib/python3.7/dist-packages (from tensorflow->keras-tcn) (0.5.3)\n",
            "Requirement already satisfied: h5py>=2.9.0 in /usr/local/lib/python3.7/dist-packages (from tensorflow->keras-tcn) (3.1.0)\n",
            "Requirement already satisfied: grpcio<2.0,>=1.24.3 in /usr/local/lib/python3.7/dist-packages (from tensorflow->keras-tcn) (1.46.1)\n",
            "Requirement already satisfied: flatbuffers>=1.12 in /usr/local/lib/python3.7/dist-packages (from tensorflow->keras-tcn) (2.0)\n",
            "Collecting tf-estimator-nightly==2.8.0.dev2021122109\n",
            "  Downloading tf_estimator_nightly-2.8.0.dev2021122109-py2.py3-none-any.whl (462 kB)\n",
            "\u001b[K     |████████████████████████████████| 462 kB 71.4 MB/s \n",
            "\u001b[?25hRequirement already satisfied: wrapt>=1.11.0 in /usr/local/lib/python3.7/dist-packages (from tensorflow->keras-tcn) (1.14.1)\n",
            "Requirement already satisfied: wheel<1.0,>=0.23.0 in /usr/local/lib/python3.7/dist-packages (from astunparse>=1.6.0->tensorflow->keras-tcn) (0.37.1)\n",
            "Requirement already satisfied: cached-property in /usr/local/lib/python3.7/dist-packages (from h5py>=2.9.0->tensorflow->keras-tcn) (1.5.2)\n",
            "Requirement already satisfied: tensorboard-data-server<0.7.0,>=0.6.0 in /usr/local/lib/python3.7/dist-packages (from tensorboard<2.9,>=2.8->tensorflow->keras-tcn) (0.6.1)\n",
            "Requirement already satisfied: markdown>=2.6.8 in /usr/local/lib/python3.7/dist-packages (from tensorboard<2.9,>=2.8->tensorflow->keras-tcn) (3.3.7)\n",
            "Requirement already satisfied: google-auth<3,>=1.6.3 in /usr/local/lib/python3.7/dist-packages (from tensorboard<2.9,>=2.8->tensorflow->keras-tcn) (1.35.0)\n",
            "Requirement already satisfied: requests<3,>=2.21.0 in /usr/local/lib/python3.7/dist-packages (from tensorboard<2.9,>=2.8->tensorflow->keras-tcn) (2.23.0)\n",
            "Requirement already satisfied: werkzeug>=0.11.15 in /usr/local/lib/python3.7/dist-packages (from tensorboard<2.9,>=2.8->tensorflow->keras-tcn) (1.0.1)\n",
            "Requirement already satisfied: google-auth-oauthlib<0.5,>=0.4.1 in /usr/local/lib/python3.7/dist-packages (from tensorboard<2.9,>=2.8->tensorflow->keras-tcn) (0.4.6)\n",
            "Requirement already satisfied: tensorboard-plugin-wit>=1.6.0 in /usr/local/lib/python3.7/dist-packages (from tensorboard<2.9,>=2.8->tensorflow->keras-tcn) (1.8.1)\n",
            "Requirement already satisfied: rsa<5,>=3.1.4 in /usr/local/lib/python3.7/dist-packages (from google-auth<3,>=1.6.3->tensorboard<2.9,>=2.8->tensorflow->keras-tcn) (4.8)\n",
            "Requirement already satisfied: cachetools<5.0,>=2.0.0 in /usr/local/lib/python3.7/dist-packages (from google-auth<3,>=1.6.3->tensorboard<2.9,>=2.8->tensorflow->keras-tcn) (4.2.4)\n",
            "Requirement already satisfied: pyasn1-modules>=0.2.1 in /usr/local/lib/python3.7/dist-packages (from google-auth<3,>=1.6.3->tensorboard<2.9,>=2.8->tensorflow->keras-tcn) (0.2.8)\n",
            "Requirement already satisfied: requests-oauthlib>=0.7.0 in /usr/local/lib/python3.7/dist-packages (from google-auth-oauthlib<0.5,>=0.4.1->tensorboard<2.9,>=2.8->tensorflow->keras-tcn) (1.3.1)\n",
            "Requirement already satisfied: importlib-metadata>=4.4 in /usr/local/lib/python3.7/dist-packages (from markdown>=2.6.8->tensorboard<2.9,>=2.8->tensorflow->keras-tcn) (4.11.3)\n",
            "Requirement already satisfied: zipp>=0.5 in /usr/local/lib/python3.7/dist-packages (from importlib-metadata>=4.4->markdown>=2.6.8->tensorboard<2.9,>=2.8->tensorflow->keras-tcn) (3.8.0)\n",
            "Requirement already satisfied: pyasn1<0.5.0,>=0.4.6 in /usr/local/lib/python3.7/dist-packages (from pyasn1-modules>=0.2.1->google-auth<3,>=1.6.3->tensorboard<2.9,>=2.8->tensorflow->keras-tcn) (0.4.8)\n",
            "Requirement already satisfied: idna<3,>=2.5 in /usr/local/lib/python3.7/dist-packages (from requests<3,>=2.21.0->tensorboard<2.9,>=2.8->tensorflow->keras-tcn) (2.10)\n",
            "Requirement already satisfied: certifi>=2017.4.17 in /usr/local/lib/python3.7/dist-packages (from requests<3,>=2.21.0->tensorboard<2.9,>=2.8->tensorflow->keras-tcn) (2022.5.18.1)\n",
            "Requirement already satisfied: chardet<4,>=3.0.2 in /usr/local/lib/python3.7/dist-packages (from requests<3,>=2.21.0->tensorboard<2.9,>=2.8->tensorflow->keras-tcn) (3.0.4)\n",
            "Requirement already satisfied: urllib3!=1.25.0,!=1.25.1,<1.26,>=1.21.1 in /usr/local/lib/python3.7/dist-packages (from requests<3,>=2.21.0->tensorboard<2.9,>=2.8->tensorflow->keras-tcn) (1.24.3)\n",
            "Requirement already satisfied: oauthlib>=3.0.0 in /usr/local/lib/python3.7/dist-packages (from requests-oauthlib>=0.7.0->google-auth-oauthlib<0.5,>=0.4.1->tensorboard<2.9,>=2.8->tensorflow->keras-tcn) (3.2.0)\n",
            "Requirement already satisfied: packaging in /usr/local/lib/python3.7/dist-packages (from tensorflow-addons->keras-tcn) (21.3)\n",
            "Requirement already satisfied: typeguard>=2.7 in /usr/local/lib/python3.7/dist-packages (from tensorflow-addons->keras-tcn) (2.7.1)\n",
            "Requirement already satisfied: pyparsing!=3.0.5,>=2.0.2 in /usr/local/lib/python3.7/dist-packages (from packaging->tensorflow-addons->keras-tcn) (3.0.9)\n",
            "Installing collected packages: tf-estimator-nightly, tensorflow-addons, keras-tcn\n",
            "Successfully installed keras-tcn-3.4.4 tensorflow-addons-0.17.0 tf-estimator-nightly-2.8.0.dev2021122109\n",
            "Looking in indexes: https://pypi.org/simple, https://us-python.pkg.dev/colab-wheels/public/simple/\n",
            "Requirement already satisfied: keras-tcn in /usr/local/lib/python3.7/dist-packages (3.4.4)\n"
          ]
        }
      ]
    },
    {
      "cell_type": "code",
      "execution_count": null,
      "metadata": {
        "colab": {
          "base_uri": "https://localhost:8080/"
        },
        "id": "13V_aC9fSrWG",
        "outputId": "e1125fce-d261-46b5-8b31-1ac2b15c491d"
      },
      "outputs": [
        {
          "output_type": "stream",
          "name": "stdout",
          "text": [
            "Receptive field size = 253\n",
            "WARNING: tcn_full_summary: Compatible with tensorflow 2.5.0 or below.\n",
            "Use tensorboard instead. Example in keras-tcn/tasks/tcn_tensorboard.py.\n",
            "[393 468 647 201 434 366   1 158 117 742 705 631 882 167 698 909 269 706\n",
            " 453 754 111 644 276 781 725   7 131 277 308 957 591 348 651 703  75  13\n",
            " 349 203 249 684 182 141   3 207 510 874 193 708 847   8 541 701 132 330\n",
            " 124 586 743 235 815 447 129 593 363 820 788 782 836 350 144  28 243 404\n",
            " 219 405 733 400 819 656 540 716 439 136 215 259 547 652 613  37 910  72\n",
            " 880  85 430 507  24 273 891 829 104 792 356 237 925 251 121 755 234 383\n",
            "  48 566 926 226 491 987 659 939 653  34 862 123  18 658 180 993 412 571\n",
            " 818 945 796 721 931 616 724 980 425 695 394  73 825 376 714 326 877 289\n",
            " 463 640 678  45 712 343  76 666  67 321 261 340 867  23 477 971 466 458\n",
            " 127 912 106 856 140 492 681 313 699  11  50 660  62 126 600 932 876 183\n",
            "  99 549  38  91  33 739 233 726 869 415  64 950 190 663  86 711 760 181\n",
            "   0 257 668 389 446 323 469 373 630 977 413 683 906 635 424 500 108 387\n",
            " 930 990 674 620 750 622 894 388 844  29 222 720 691 972 998  56 756 565\n",
            " 371 455 375 767 438 345 272 530   2 578  59 295 346 552 228 685 147 512\n",
            " 968 464 642 868 598 303 225 975 502 961 154 118 171 265 336 134 454 996\n",
            " 700 841 178 172 923 966 503 752 258 808 202 160 762  17 268 879 174 790\n",
            " 646 707 473 959 988 842 693  58 800 168 392 870 211 794 687 281  47  20\n",
            " 432 900 501 524  10 759 247 428 442 628 771 495 306 483 519 408 729 218\n",
            " 827 236 609 899 722 826 422 992 267 984 122 857 481 297 105 514 731 940\n",
            " 625 557 302 231 688  60   9 953 188  68 595 655 774 275 740 194 391  65\n",
            " 332 266 901 284  21 883 741 866 537 419  97 682 331 318 757 772 934 577\n",
            " 286 560 368 596  39 292 263 978 764 191 779 839 119 497 427 109 165 860\n",
            " 426 254 833 125  57 863 484 156 179 461 885 793  74 374 886 526 157 858\n",
            " 370 810 837 544 787  66  35 973 933 282 476 499 146 435 460 528 421 185\n",
            " 855  78 357 920 621 341 361 496 177 575 150 290 372 539 718  82 546 822\n",
            " 189 603 384 942 548 964 916 958 580 298 294 317 893 813  61 697 429 274\n",
            " 137 305 170 417 377 871 441 608 777 581 513 316 241 664 498 677 574 905\n",
            " 482 529 287 488 723 347 527 672 285 676  51 773 133 506]\n",
            "Epoch 1/3\n",
            "25/25 [==============================] - 3s 55ms/step - loss: 0.0429 - val_loss: 2.6700e-04\n",
            "Epoch 2/3\n",
            "25/25 [==============================] - 1s 40ms/step - loss: 4.3697e-04 - val_loss: 1.4817e-05\n",
            "Epoch 3/3\n",
            "25/25 [==============================] - 1s 36ms/step - loss: 1.1758e-05 - val_loss: 3.3051e-07\n"
          ]
        },
        {
          "output_type": "execute_result",
          "data": {
            "text/plain": [
              "<keras.callbacks.History at 0x7f036dfba390>"
            ]
          },
          "metadata": {},
          "execution_count": 10
        }
      ],
      "source": [
        "from tcn import TCN, tcn_full_summary\n",
        "from tensorflow.keras.layers import Dense\n",
        "from tensorflow.keras.models import Sequential\n",
        "\n",
        "# if time_steps > tcn_layer.receptive_field, then we should not\n",
        "# be able to solve this task.\n",
        "batch_size, time_steps, input_dim = None, 10, 1\n",
        "\n",
        "\n",
        "def get_x_y(size=1000):\n",
        "    import numpy as np\n",
        "    pos_indices = np.random.choice(size, size=int(size // 2), replace=False)\n",
        "    print(pos_indices)\n",
        "    x_train = np.zeros(shape=(size, time_steps, 1))\n",
        "    y_train = np.zeros(shape=(size, 1))\n",
        "    x_train[pos_indices, 0] = 1.0  # we introduce the target in the first timestep of the sequence.\n",
        "    y_train[pos_indices, 0] = 1.0  # the task is to see if the TCN can go back in time to find it.\n",
        "    return x_train, y_train\n",
        "\n",
        "\n",
        "tcn_layer = TCN(input_shape=(time_steps, input_dim))\n",
        "# The receptive field tells you how far the model can see in terms of timesteps.\n",
        "print('Receptive field size =', tcn_layer.receptive_field)\n",
        "\n",
        "m = Sequential([\n",
        "    tcn_layer,\n",
        "    Dense(1)\n",
        "])\n",
        "\n",
        "m.compile(optimizer='adam', loss='mse')\n",
        "\n",
        "tcn_full_summary(m, expand_residual_blocks=False)\n",
        "\n",
        "x, y = get_x_y()\n",
        "m.fit(x, y, epochs=3, validation_split=0.2)"
      ]
    },
    {
      "cell_type": "code",
      "source": [
        "x_train, y_train = get_x_y(size=5)\n",
        "x_train, y_train"
      ],
      "metadata": {
        "colab": {
          "base_uri": "https://localhost:8080/"
        },
        "id": "11MdSUwiEa1W",
        "outputId": "5218229d-e85b-432b-c90b-374ad663861a"
      },
      "execution_count": null,
      "outputs": [
        {
          "output_type": "stream",
          "name": "stdout",
          "text": [
            "[4 3]\n"
          ]
        },
        {
          "output_type": "execute_result",
          "data": {
            "text/plain": [
              "(array([[[0.],\n",
              "         [0.],\n",
              "         [0.],\n",
              "         [0.],\n",
              "         [0.],\n",
              "         [0.],\n",
              "         [0.],\n",
              "         [0.],\n",
              "         [0.],\n",
              "         [0.]],\n",
              " \n",
              "        [[0.],\n",
              "         [0.],\n",
              "         [0.],\n",
              "         [0.],\n",
              "         [0.],\n",
              "         [0.],\n",
              "         [0.],\n",
              "         [0.],\n",
              "         [0.],\n",
              "         [0.]],\n",
              " \n",
              "        [[0.],\n",
              "         [0.],\n",
              "         [0.],\n",
              "         [0.],\n",
              "         [0.],\n",
              "         [0.],\n",
              "         [0.],\n",
              "         [0.],\n",
              "         [0.],\n",
              "         [0.]],\n",
              " \n",
              "        [[1.],\n",
              "         [0.],\n",
              "         [0.],\n",
              "         [0.],\n",
              "         [0.],\n",
              "         [0.],\n",
              "         [0.],\n",
              "         [0.],\n",
              "         [0.],\n",
              "         [0.]],\n",
              " \n",
              "        [[1.],\n",
              "         [0.],\n",
              "         [0.],\n",
              "         [0.],\n",
              "         [0.],\n",
              "         [0.],\n",
              "         [0.],\n",
              "         [0.],\n",
              "         [0.],\n",
              "         [0.]]]),\n",
              " array([[0.],\n",
              "        [0.],\n",
              "        [0.],\n",
              "        [1.],\n",
              "        [1.]]))"
            ]
          },
          "metadata": {},
          "execution_count": 11
        }
      ]
    },
    {
      "cell_type": "markdown",
      "source": [
        "# 1.模型输入输出\n",
        "## 1.1 输入 \n",
        "3D tensor with shape (batch_size, timesteps, input_dim).\n",
        "**三维张量（批处理大小，时间步，输入维度）**\n",
        "## 1.2 输出 \n",
        "*  if return_sequences=True: 3D tensor with shape (batch_size, timesteps, nb_filters).**若return_sequences=True：输出为（批处理大小，时间步，输出的维度）**\n",
        "*  if return_sequences=False: 2D tensor with shape (batch_size, nb_filters).**若return_sequences=False：输出为（批处理大小，输出的维度）**\n",
        "\n",
        "nb_filter: Number of convolution kernels to use (dimensionality of the output). \n"
      ],
      "metadata": {
        "id": "BtbeEvtaWstG"
      }
    },
    {
      "cell_type": "code",
      "source": [
        ""
      ],
      "metadata": {
        "id": "UAIYyvQiF444"
      },
      "execution_count": null,
      "outputs": []
    },
    {
      "cell_type": "markdown",
      "source": [
        "# 例程"
      ],
      "metadata": {
        "id": "ByVy7NZze6Ry"
      }
    },
    {
      "cell_type": "code",
      "source": [
        "!pip install darts"
      ],
      "metadata": {
        "colab": {
          "base_uri": "https://localhost:8080/",
          "height": 1000
        },
        "id": "sIryJ6SJfE1i",
        "outputId": "0523a913-545e-43ba-82ab-2374835b13fc"
      },
      "execution_count": null,
      "outputs": [
        {
          "output_type": "stream",
          "name": "stdout",
          "text": [
            "Looking in indexes: https://pypi.org/simple, https://us-python.pkg.dev/colab-wheels/public/simple/\n",
            "Collecting darts\n",
            "  Downloading darts-0.19.0-py3-none-any.whl (370 kB)\n",
            "\u001b[K     |████████████████████████████████| 370 kB 7.7 MB/s \n",
            "\u001b[?25hCollecting pmdarima>=1.8.0\n",
            "  Downloading pmdarima-1.8.5-cp37-cp37m-manylinux_2_17_x86_64.manylinux2014_x86_64.manylinux_2_24_x86_64.whl (1.4 MB)\n",
            "\u001b[K     |████████████████████████████████| 1.4 MB 50.1 MB/s \n",
            "\u001b[?25hCollecting tbats>=1.1.0\n",
            "  Downloading tbats-1.1.0-py3-none-any.whl (43 kB)\n",
            "\u001b[K     |████████████████████████████████| 43 kB 2.5 MB/s \n",
            "\u001b[?25hCollecting prophet>=1.0.0\n",
            "  Downloading prophet-1.0.1.tar.gz (65 kB)\n",
            "\u001b[K     |████████████████████████████████| 65 kB 4.0 MB/s \n",
            "\u001b[?25hRequirement already satisfied: xarray>=0.17.0 in /usr/local/lib/python3.7/dist-packages (from darts) (0.20.2)\n",
            "Requirement already satisfied: tqdm>=4.60.0 in /usr/local/lib/python3.7/dist-packages (from darts) (4.64.0)\n",
            "Requirement already satisfied: torch>=1.8.0 in /usr/local/lib/python3.7/dist-packages (from darts) (1.11.0+cu113)\n",
            "Collecting statsforecast>=0.5.2\n",
            "  Downloading statsforecast-0.5.5-py3-none-any.whl (35 kB)\n",
            "Collecting ipython>=7.0.0\n",
            "  Downloading ipython-7.33.0-py3-none-any.whl (793 kB)\n",
            "\u001b[K     |████████████████████████████████| 793 kB 50.1 MB/s \n",
            "\u001b[?25hRequirement already satisfied: scipy>=1.3.2 in /usr/local/lib/python3.7/dist-packages (from darts) (1.4.1)\n",
            "Requirement already satisfied: requests>=2.22.0 in /usr/local/lib/python3.7/dist-packages (from darts) (2.23.0)\n",
            "Requirement already satisfied: lightgbm>=2.2.3 in /usr/local/lib/python3.7/dist-packages (from darts) (2.2.3)\n",
            "Requirement already satisfied: numpy>=1.19.0 in /usr/local/lib/python3.7/dist-packages (from darts) (1.21.6)\n",
            "Requirement already satisfied: pystan<3.0.0.0,>=2.19.1.1 in /usr/local/lib/python3.7/dist-packages (from darts) (2.19.1.1)\n",
            "Collecting pytorch-lightning>=1.5.0\n",
            "  Downloading pytorch_lightning-1.6.3-py3-none-any.whl (584 kB)\n",
            "\u001b[K     |████████████████████████████████| 584 kB 57.0 MB/s \n",
            "\u001b[?25hCollecting statsmodels>=0.13.0\n",
            "  Downloading statsmodels-0.13.2-cp37-cp37m-manylinux_2_17_x86_64.manylinux2014_x86_64.whl (9.8 MB)\n",
            "\u001b[K     |████████████████████████████████| 9.8 MB 39.5 MB/s \n",
            "\u001b[?25hRequirement already satisfied: joblib>=0.16.0 in /usr/local/lib/python3.7/dist-packages (from darts) (1.1.0)\n",
            "Requirement already satisfied: pandas>=1.0.5 in /usr/local/lib/python3.7/dist-packages (from darts) (1.3.5)\n",
            "Collecting holidays>=0.11.1\n",
            "  Downloading holidays-0.13-py3-none-any.whl (172 kB)\n",
            "\u001b[K     |████████████████████████████████| 172 kB 58.3 MB/s \n",
            "\u001b[?25hCollecting matplotlib>=3.3.0\n",
            "  Downloading matplotlib-3.5.2-cp37-cp37m-manylinux_2_5_x86_64.manylinux1_x86_64.whl (11.2 MB)\n",
            "\u001b[K     |████████████████████████████████| 11.2 MB 43.0 MB/s \n",
            "\u001b[?25hCollecting nfoursid>=1.0.0\n",
            "  Downloading nfoursid-1.0.0-py3-none-any.whl (16 kB)\n",
            "Requirement already satisfied: scikit-learn>=1.0.1 in /usr/local/lib/python3.7/dist-packages (from darts) (1.0.2)\n",
            "Requirement already satisfied: convertdate>=2.3.0 in /usr/local/lib/python3.7/dist-packages (from holidays>=0.11.1->darts) (2.4.0)\n",
            "Requirement already satisfied: python-dateutil in /usr/local/lib/python3.7/dist-packages (from holidays>=0.11.1->darts) (2.8.2)\n",
            "Requirement already satisfied: hijri-converter in /usr/local/lib/python3.7/dist-packages (from holidays>=0.11.1->darts) (2.2.3)\n",
            "Requirement already satisfied: korean-lunar-calendar in /usr/local/lib/python3.7/dist-packages (from holidays>=0.11.1->darts) (0.2.1)\n",
            "Requirement already satisfied: pymeeus<=1,>=0.3.13 in /usr/local/lib/python3.7/dist-packages (from convertdate>=2.3.0->holidays>=0.11.1->darts) (0.5.11)\n",
            "Requirement already satisfied: matplotlib-inline in /usr/local/lib/python3.7/dist-packages (from ipython>=7.0.0->darts) (0.1.3)\n",
            "Requirement already satisfied: pickleshare in /usr/local/lib/python3.7/dist-packages (from ipython>=7.0.0->darts) (0.7.5)\n",
            "Requirement already satisfied: pygments in /usr/local/lib/python3.7/dist-packages (from ipython>=7.0.0->darts) (2.6.1)\n",
            "Requirement already satisfied: decorator in /usr/local/lib/python3.7/dist-packages (from ipython>=7.0.0->darts) (4.4.2)\n",
            "Requirement already satisfied: pexpect>4.3 in /usr/local/lib/python3.7/dist-packages (from ipython>=7.0.0->darts) (4.8.0)\n",
            "Collecting prompt-toolkit!=3.0.0,!=3.0.1,<3.1.0,>=2.0.0\n",
            "  Downloading prompt_toolkit-3.0.29-py3-none-any.whl (381 kB)\n",
            "\u001b[K     |████████████████████████████████| 381 kB 62.4 MB/s \n",
            "\u001b[?25hRequirement already satisfied: setuptools>=18.5 in /usr/local/lib/python3.7/dist-packages (from ipython>=7.0.0->darts) (57.4.0)\n",
            "Requirement already satisfied: jedi>=0.16 in /usr/local/lib/python3.7/dist-packages (from ipython>=7.0.0->darts) (0.18.1)\n",
            "Requirement already satisfied: backcall in /usr/local/lib/python3.7/dist-packages (from ipython>=7.0.0->darts) (0.2.0)\n",
            "Requirement already satisfied: traitlets>=4.2 in /usr/local/lib/python3.7/dist-packages (from ipython>=7.0.0->darts) (5.1.1)\n",
            "Requirement already satisfied: parso<0.9.0,>=0.8.0 in /usr/local/lib/python3.7/dist-packages (from jedi>=0.16->ipython>=7.0.0->darts) (0.8.3)\n",
            "Requirement already satisfied: pillow>=6.2.0 in /usr/local/lib/python3.7/dist-packages (from matplotlib>=3.3.0->darts) (7.1.2)\n",
            "Requirement already satisfied: cycler>=0.10 in /usr/local/lib/python3.7/dist-packages (from matplotlib>=3.3.0->darts) (0.11.0)\n",
            "Collecting fonttools>=4.22.0\n",
            "  Downloading fonttools-4.33.3-py3-none-any.whl (930 kB)\n",
            "\u001b[K     |████████████████████████████████| 930 kB 51.4 MB/s \n",
            "\u001b[?25hRequirement already satisfied: kiwisolver>=1.0.1 in /usr/local/lib/python3.7/dist-packages (from matplotlib>=3.3.0->darts) (1.4.2)\n",
            "Requirement already satisfied: packaging>=20.0 in /usr/local/lib/python3.7/dist-packages (from matplotlib>=3.3.0->darts) (21.3)\n",
            "Requirement already satisfied: pyparsing>=2.2.1 in /usr/local/lib/python3.7/dist-packages (from matplotlib>=3.3.0->darts) (3.0.9)\n",
            "Requirement already satisfied: typing-extensions in /usr/local/lib/python3.7/dist-packages (from kiwisolver>=1.0.1->matplotlib>=3.3.0->darts) (4.2.0)\n",
            "Requirement already satisfied: pytz>=2017.3 in /usr/local/lib/python3.7/dist-packages (from pandas>=1.0.5->darts) (2022.1)\n",
            "Requirement already satisfied: ptyprocess>=0.5 in /usr/local/lib/python3.7/dist-packages (from pexpect>4.3->ipython>=7.0.0->darts) (0.7.0)\n",
            "Requirement already satisfied: urllib3 in /usr/local/lib/python3.7/dist-packages (from pmdarima>=1.8.0->darts) (1.24.3)\n",
            "Requirement already satisfied: Cython!=0.29.18,>=0.29 in /usr/local/lib/python3.7/dist-packages (from pmdarima>=1.8.0->darts) (0.29.30)\n",
            "Requirement already satisfied: wcwidth in /usr/local/lib/python3.7/dist-packages (from prompt-toolkit!=3.0.0,!=3.0.1,<3.1.0,>=2.0.0->ipython>=7.0.0->darts) (0.2.5)\n",
            "Collecting cmdstanpy==0.9.68\n",
            "  Downloading cmdstanpy-0.9.68-py3-none-any.whl (49 kB)\n",
            "\u001b[K     |████████████████████████████████| 49 kB 4.7 MB/s \n",
            "\u001b[?25hRequirement already satisfied: LunarCalendar>=0.0.9 in /usr/local/lib/python3.7/dist-packages (from prophet>=1.0.0->darts) (0.0.9)\n",
            "Requirement already satisfied: setuptools-git>=1.2 in /usr/local/lib/python3.7/dist-packages (from prophet>=1.0.0->darts) (1.2)\n",
            "Collecting ujson\n",
            "  Downloading ujson-5.3.0-cp37-cp37m-manylinux_2_17_x86_64.manylinux2014_x86_64.whl (45 kB)\n",
            "\u001b[K     |████████████████████████████████| 45 kB 3.1 MB/s \n",
            "\u001b[?25hRequirement already satisfied: ephem>=3.7.5.3 in /usr/local/lib/python3.7/dist-packages (from LunarCalendar>=0.0.9->prophet>=1.0.0->darts) (4.1.3)\n",
            "Requirement already satisfied: six>=1.5 in /usr/local/lib/python3.7/dist-packages (from python-dateutil->holidays>=0.11.1->darts) (1.15.0)\n",
            "Collecting PyYAML>=5.4\n",
            "  Downloading PyYAML-6.0-cp37-cp37m-manylinux_2_5_x86_64.manylinux1_x86_64.manylinux_2_12_x86_64.manylinux2010_x86_64.whl (596 kB)\n",
            "\u001b[K     |████████████████████████████████| 596 kB 66.5 MB/s \n",
            "\u001b[?25hCollecting pyDeprecate<0.4.0,>=0.3.1\n",
            "  Downloading pyDeprecate-0.3.2-py3-none-any.whl (10 kB)\n",
            "Collecting torchmetrics>=0.4.1\n",
            "  Downloading torchmetrics-0.8.2-py3-none-any.whl (409 kB)\n",
            "\u001b[K     |████████████████████████████████| 409 kB 45.3 MB/s \n",
            "\u001b[?25hRequirement already satisfied: tensorboard>=2.2.0 in /usr/local/lib/python3.7/dist-packages (from pytorch-lightning>=1.5.0->darts) (2.8.0)\n",
            "Collecting fsspec[http]!=2021.06.0,>=2021.05.0\n",
            "  Downloading fsspec-2022.5.0-py3-none-any.whl (140 kB)\n",
            "\u001b[K     |████████████████████████████████| 140 kB 28.9 MB/s \n",
            "\u001b[?25hCollecting aiohttp\n",
            "  Downloading aiohttp-3.8.1-cp37-cp37m-manylinux_2_5_x86_64.manylinux1_x86_64.manylinux_2_12_x86_64.manylinux2010_x86_64.whl (1.1 MB)\n",
            "\u001b[K     |████████████████████████████████| 1.1 MB 62.2 MB/s \n",
            "\u001b[?25hRequirement already satisfied: chardet<4,>=3.0.2 in /usr/local/lib/python3.7/dist-packages (from requests>=2.22.0->darts) (3.0.4)\n",
            "Requirement already satisfied: idna<3,>=2.5 in /usr/local/lib/python3.7/dist-packages (from requests>=2.22.0->darts) (2.10)\n",
            "Requirement already satisfied: certifi>=2017.4.17 in /usr/local/lib/python3.7/dist-packages (from requests>=2.22.0->darts) (2022.5.18.1)\n",
            "Requirement already satisfied: threadpoolctl>=2.0.0 in /usr/local/lib/python3.7/dist-packages (from scikit-learn>=1.0.1->darts) (3.1.0)\n",
            "Requirement already satisfied: numba in /usr/local/lib/python3.7/dist-packages (from statsforecast>=0.5.2->darts) (0.51.2)\n",
            "Requirement already satisfied: patsy>=0.5.2 in /usr/local/lib/python3.7/dist-packages (from statsmodels>=0.13.0->darts) (0.5.2)\n",
            "Requirement already satisfied: grpcio>=1.24.3 in /usr/local/lib/python3.7/dist-packages (from tensorboard>=2.2.0->pytorch-lightning>=1.5.0->darts) (1.46.1)\n",
            "Requirement already satisfied: wheel>=0.26 in /usr/local/lib/python3.7/dist-packages (from tensorboard>=2.2.0->pytorch-lightning>=1.5.0->darts) (0.37.1)\n",
            "Requirement already satisfied: absl-py>=0.4 in /usr/local/lib/python3.7/dist-packages (from tensorboard>=2.2.0->pytorch-lightning>=1.5.0->darts) (1.0.0)\n",
            "Requirement already satisfied: werkzeug>=0.11.15 in /usr/local/lib/python3.7/dist-packages (from tensorboard>=2.2.0->pytorch-lightning>=1.5.0->darts) (1.0.1)\n",
            "Requirement already satisfied: tensorboard-plugin-wit>=1.6.0 in /usr/local/lib/python3.7/dist-packages (from tensorboard>=2.2.0->pytorch-lightning>=1.5.0->darts) (1.8.1)\n",
            "Requirement already satisfied: tensorboard-data-server<0.7.0,>=0.6.0 in /usr/local/lib/python3.7/dist-packages (from tensorboard>=2.2.0->pytorch-lightning>=1.5.0->darts) (0.6.1)\n",
            "Requirement already satisfied: google-auth<3,>=1.6.3 in /usr/local/lib/python3.7/dist-packages (from tensorboard>=2.2.0->pytorch-lightning>=1.5.0->darts) (1.35.0)\n",
            "Requirement already satisfied: markdown>=2.6.8 in /usr/local/lib/python3.7/dist-packages (from tensorboard>=2.2.0->pytorch-lightning>=1.5.0->darts) (3.3.7)\n",
            "Requirement already satisfied: google-auth-oauthlib<0.5,>=0.4.1 in /usr/local/lib/python3.7/dist-packages (from tensorboard>=2.2.0->pytorch-lightning>=1.5.0->darts) (0.4.6)\n",
            "Requirement already satisfied: protobuf>=3.6.0 in /usr/local/lib/python3.7/dist-packages (from tensorboard>=2.2.0->pytorch-lightning>=1.5.0->darts) (3.17.3)\n",
            "Requirement already satisfied: pyasn1-modules>=0.2.1 in /usr/local/lib/python3.7/dist-packages (from google-auth<3,>=1.6.3->tensorboard>=2.2.0->pytorch-lightning>=1.5.0->darts) (0.2.8)\n",
            "Requirement already satisfied: rsa<5,>=3.1.4 in /usr/local/lib/python3.7/dist-packages (from google-auth<3,>=1.6.3->tensorboard>=2.2.0->pytorch-lightning>=1.5.0->darts) (4.8)\n",
            "Requirement already satisfied: cachetools<5.0,>=2.0.0 in /usr/local/lib/python3.7/dist-packages (from google-auth<3,>=1.6.3->tensorboard>=2.2.0->pytorch-lightning>=1.5.0->darts) (4.2.4)\n",
            "Requirement already satisfied: requests-oauthlib>=0.7.0 in /usr/local/lib/python3.7/dist-packages (from google-auth-oauthlib<0.5,>=0.4.1->tensorboard>=2.2.0->pytorch-lightning>=1.5.0->darts) (1.3.1)\n",
            "Requirement already satisfied: importlib-metadata>=4.4 in /usr/local/lib/python3.7/dist-packages (from markdown>=2.6.8->tensorboard>=2.2.0->pytorch-lightning>=1.5.0->darts) (4.11.3)\n",
            "Requirement already satisfied: zipp>=0.5 in /usr/local/lib/python3.7/dist-packages (from importlib-metadata>=4.4->markdown>=2.6.8->tensorboard>=2.2.0->pytorch-lightning>=1.5.0->darts) (3.8.0)\n",
            "Requirement already satisfied: pyasn1<0.5.0,>=0.4.6 in /usr/local/lib/python3.7/dist-packages (from pyasn1-modules>=0.2.1->google-auth<3,>=1.6.3->tensorboard>=2.2.0->pytorch-lightning>=1.5.0->darts) (0.4.8)\n",
            "Requirement already satisfied: oauthlib>=3.0.0 in /usr/local/lib/python3.7/dist-packages (from requests-oauthlib>=0.7.0->google-auth-oauthlib<0.5,>=0.4.1->tensorboard>=2.2.0->pytorch-lightning>=1.5.0->darts) (3.2.0)\n",
            "Requirement already satisfied: attrs>=17.3.0 in /usr/local/lib/python3.7/dist-packages (from aiohttp->fsspec[http]!=2021.06.0,>=2021.05.0->pytorch-lightning>=1.5.0->darts) (21.4.0)\n",
            "Collecting asynctest==0.13.0\n",
            "  Downloading asynctest-0.13.0-py3-none-any.whl (26 kB)\n",
            "Collecting frozenlist>=1.1.1\n",
            "  Downloading frozenlist-1.3.0-cp37-cp37m-manylinux_2_5_x86_64.manylinux1_x86_64.manylinux_2_17_x86_64.manylinux2014_x86_64.whl (144 kB)\n",
            "\u001b[K     |████████████████████████████████| 144 kB 46.5 MB/s \n",
            "\u001b[?25hCollecting yarl<2.0,>=1.0\n",
            "  Downloading yarl-1.7.2-cp37-cp37m-manylinux_2_5_x86_64.manylinux1_x86_64.manylinux_2_12_x86_64.manylinux2010_x86_64.whl (271 kB)\n",
            "\u001b[K     |████████████████████████████████| 271 kB 56.3 MB/s \n",
            "\u001b[?25hRequirement already satisfied: charset-normalizer<3.0,>=2.0 in /usr/local/lib/python3.7/dist-packages (from aiohttp->fsspec[http]!=2021.06.0,>=2021.05.0->pytorch-lightning>=1.5.0->darts) (2.0.12)\n",
            "Collecting multidict<7.0,>=4.5\n",
            "  Downloading multidict-6.0.2-cp37-cp37m-manylinux_2_17_x86_64.manylinux2014_x86_64.whl (94 kB)\n",
            "\u001b[K     |████████████████████████████████| 94 kB 3.6 MB/s \n",
            "\u001b[?25hCollecting async-timeout<5.0,>=4.0.0a3\n",
            "  Downloading async_timeout-4.0.2-py3-none-any.whl (5.8 kB)\n",
            "Collecting aiosignal>=1.1.2\n",
            "  Downloading aiosignal-1.2.0-py3-none-any.whl (8.2 kB)\n",
            "Requirement already satisfied: llvmlite<0.35,>=0.34.0.dev0 in /usr/local/lib/python3.7/dist-packages (from numba->statsforecast>=0.5.2->darts) (0.34.0)\n",
            "Building wheels for collected packages: prophet\n",
            "  Building wheel for prophet (setup.py) ... \u001b[?25l\u001b[?25hdone\n",
            "  Created wheel for prophet: filename=prophet-1.0.1-py3-none-any.whl size=6640414 sha256=473e655b76a933faaadee695d6bdd953007c13b7a0d133d5673db96a10ce7d98\n",
            "  Stored in directory: /root/.cache/pip/wheels/4e/a0/1a/02c9ec9e3e9de6bdbb3d769d11992a6926889d71567d6b9b67\n",
            "Successfully built prophet\n",
            "Installing collected packages: multidict, frozenlist, yarl, asynctest, async-timeout, aiosignal, ujson, statsmodels, pyDeprecate, fsspec, fonttools, aiohttp, torchmetrics, PyYAML, prompt-toolkit, pmdarima, matplotlib, holidays, cmdstanpy, tbats, statsforecast, pytorch-lightning, prophet, nfoursid, ipython, darts\n",
            "  Attempting uninstall: statsmodels\n",
            "    Found existing installation: statsmodels 0.10.2\n",
            "    Uninstalling statsmodels-0.10.2:\n",
            "      Successfully uninstalled statsmodels-0.10.2\n",
            "  Attempting uninstall: PyYAML\n",
            "    Found existing installation: PyYAML 3.13\n",
            "    Uninstalling PyYAML-3.13:\n",
            "      Successfully uninstalled PyYAML-3.13\n",
            "  Attempting uninstall: prompt-toolkit\n",
            "    Found existing installation: prompt-toolkit 1.0.18\n",
            "    Uninstalling prompt-toolkit-1.0.18:\n",
            "      Successfully uninstalled prompt-toolkit-1.0.18\n",
            "  Attempting uninstall: matplotlib\n",
            "    Found existing installation: matplotlib 3.2.2\n",
            "    Uninstalling matplotlib-3.2.2:\n",
            "      Successfully uninstalled matplotlib-3.2.2\n",
            "  Attempting uninstall: holidays\n",
            "    Found existing installation: holidays 0.10.5.2\n",
            "    Uninstalling holidays-0.10.5.2:\n",
            "      Successfully uninstalled holidays-0.10.5.2\n",
            "  Attempting uninstall: cmdstanpy\n",
            "    Found existing installation: cmdstanpy 0.9.5\n",
            "    Uninstalling cmdstanpy-0.9.5:\n",
            "      Successfully uninstalled cmdstanpy-0.9.5\n",
            "  Attempting uninstall: ipython\n",
            "    Found existing installation: ipython 5.5.0\n",
            "    Uninstalling ipython-5.5.0:\n",
            "      Successfully uninstalled ipython-5.5.0\n",
            "\u001b[31mERROR: pip's dependency resolver does not currently take into account all the packages that are installed. This behaviour is the source of the following dependency conflicts.\n",
            "jupyter-console 5.2.0 requires prompt-toolkit<2.0.0,>=1.0.0, but you have prompt-toolkit 3.0.29 which is incompatible.\n",
            "google-colab 1.0.0 requires ipython~=5.5.0, but you have ipython 7.33.0 which is incompatible.\n",
            "fbprophet 0.7.1 requires cmdstanpy==0.9.5, but you have cmdstanpy 0.9.68 which is incompatible.\n",
            "albumentations 0.1.12 requires imgaug<0.2.7,>=0.2.5, but you have imgaug 0.2.9 which is incompatible.\u001b[0m\n",
            "Successfully installed PyYAML-6.0 aiohttp-3.8.1 aiosignal-1.2.0 async-timeout-4.0.2 asynctest-0.13.0 cmdstanpy-0.9.68 darts-0.19.0 fonttools-4.33.3 frozenlist-1.3.0 fsspec-2022.5.0 holidays-0.13 ipython-7.33.0 matplotlib-3.5.2 multidict-6.0.2 nfoursid-1.0.0 pmdarima-1.8.5 prompt-toolkit-3.0.29 prophet-1.0.1 pyDeprecate-0.3.2 pytorch-lightning-1.6.3 statsforecast-0.5.5 statsmodels-0.13.2 tbats-1.1.0 torchmetrics-0.8.2 ujson-5.3.0 yarl-1.7.2\n"
          ]
        },
        {
          "output_type": "display_data",
          "data": {
            "application/vnd.colab-display-data+json": {
              "pip_warning": {
                "packages": [
                  "IPython",
                  "matplotlib",
                  "mpl_toolkits",
                  "prompt_toolkit"
                ]
              }
            }
          },
          "metadata": {}
        }
      ]
    },
    {
      "cell_type": "code",
      "execution_count": null,
      "metadata": {
        "colab": {
          "base_uri": "https://localhost:8080/"
        },
        "id": "-XbfkU7BeziQ",
        "outputId": "831071ba-3f66-4c82-d3a3-9588ce74fa02"
      },
      "outputs": [
        {
          "output_type": "stream",
          "name": "stdout",
          "text": [
            "2.8.0\n"
          ]
        }
      ],
      "source": [
        "import tensorflow\n",
        "print(tensorflow.__version__)"
      ]
    },
    {
      "cell_type": "code",
      "source": [
        "import os\n",
        "from google.colab import drive\n",
        "drive.mount('/content/drive')\n",
        "os.environ['KAGGLE_CONFIG_DIR'] = '/content/drive/MyDrive/school_dataset/' #注意kaggle文件夹包含json文件\n",
        " \n",
        "os.chdir('/content/drive/MyDrive/school_dataset/') #切换到kaggle文件夹\n",
        " \n",
        "# !kaggle competitions download -c h-and-m-personalized-fashion-recommendations#下载数据集即可\n",
        "# !unzip h-and-m-personalized-fashion-recommendations.zip\n",
        "\n",
        "#加载别的数据集：在右侧三个点 open in new tab ，而后 copy url 放入colab，例如：\n",
        "#!kaggle datasets download -d xhlulu/cpc-codes --unzip\n",
        "#如果加载别的比赛的数据集，则用以下方法：\n",
        "#!kaggle kernels output gauravbrills/folds-dump-the-two-paths-fix "
      ],
      "metadata": {
        "colab": {
          "base_uri": "https://localhost:8080/"
        },
        "id": "dTmzGsCtiFN_",
        "outputId": "a760dcab-d221-43b9-efa4-679d8e72137b"
      },
      "execution_count": null,
      "outputs": [
        {
          "output_type": "stream",
          "name": "stdout",
          "text": [
            "Drive already mounted at /content/drive; to attempt to forcibly remount, call drive.mount(\"/content/drive\", force_remount=True).\n"
          ]
        }
      ]
    },
    {
      "cell_type": "code",
      "source": [
        "!kaggle datasets download -d nicholasjhana/energy-consumption-generation-prices-and-weather  --unzip"
      ],
      "metadata": {
        "colab": {
          "base_uri": "https://localhost:8080/"
        },
        "id": "v-BhC2oEgdBW",
        "outputId": "60dfa862-9633-410d-9747-e5798a793ca0"
      },
      "execution_count": null,
      "outputs": [
        {
          "output_type": "stream",
          "name": "stdout",
          "text": [
            "Downloading energy-consumption-generation-prices-and-weather.zip to /content/drive/MyDrive/school_dataset\n",
            "\r  0% 0.00/3.81M [00:00<?, ?B/s]\n",
            "\r100% 3.81M/3.81M [00:00<00:00, 58.8MB/s]\n"
          ]
        }
      ]
    },
    {
      "cell_type": "code",
      "source": [
        "%matplotlib inline"
      ],
      "metadata": {
        "id": "mi7zFkcpjfo6"
      },
      "execution_count": null,
      "outputs": []
    },
    {
      "cell_type": "code",
      "source": [
        "!python -m pip uninstall matplotlib\n",
        "!ypip install matplotlib==3.1.3"
      ],
      "metadata": {
        "colab": {
          "base_uri": "https://localhost:8080/",
          "height": 682
        },
        "id": "VjPK_FsekBKH",
        "outputId": "5e3bc6e1-8ade-4af7-bf42-6b9370838d09"
      },
      "execution_count": null,
      "outputs": [
        {
          "output_type": "stream",
          "name": "stdout",
          "text": [
            "Found existing installation: matplotlib 3.5.2\n",
            "Uninstalling matplotlib-3.5.2:\n",
            "  Would remove:\n",
            "    /usr/local/lib/python3.7/dist-packages/matplotlib-3.5.2-py3.7-nspkg.pth\n",
            "    /usr/local/lib/python3.7/dist-packages/matplotlib-3.5.2.dist-info/*\n",
            "    /usr/local/lib/python3.7/dist-packages/matplotlib/*\n",
            "    /usr/local/lib/python3.7/dist-packages/mpl_toolkits/axes_grid/*\n",
            "    /usr/local/lib/python3.7/dist-packages/mpl_toolkits/axes_grid1/*\n",
            "    /usr/local/lib/python3.7/dist-packages/mpl_toolkits/axisartist/*\n",
            "    /usr/local/lib/python3.7/dist-packages/mpl_toolkits/mplot3d/*\n",
            "    /usr/local/lib/python3.7/dist-packages/mpl_toolkits/tests/*\n",
            "    /usr/local/lib/python3.7/dist-packages/pylab.py\n",
            "Proceed (y/n)? y\n",
            "  Successfully uninstalled matplotlib-3.5.2\n",
            "Looking in indexes: https://pypi.org/simple, https://us-python.pkg.dev/colab-wheels/public/simple/\n",
            "Collecting matplotlib==3.1.3\n",
            "  Downloading matplotlib-3.1.3-cp37-cp37m-manylinux1_x86_64.whl (13.1 MB)\n",
            "\u001b[K     |████████████████████████████████| 13.1 MB 9.1 MB/s \n",
            "\u001b[?25hRequirement already satisfied: python-dateutil>=2.1 in /usr/local/lib/python3.7/dist-packages (from matplotlib==3.1.3) (2.8.2)\n",
            "Requirement already satisfied: kiwisolver>=1.0.1 in /usr/local/lib/python3.7/dist-packages (from matplotlib==3.1.3) (1.4.2)\n",
            "Requirement already satisfied: pyparsing!=2.0.4,!=2.1.2,!=2.1.6,>=2.0.1 in /usr/local/lib/python3.7/dist-packages (from matplotlib==3.1.3) (3.0.9)\n",
            "Requirement already satisfied: numpy>=1.11 in /usr/local/lib/python3.7/dist-packages (from matplotlib==3.1.3) (1.21.6)\n",
            "Requirement already satisfied: cycler>=0.10 in /usr/local/lib/python3.7/dist-packages (from matplotlib==3.1.3) (0.11.0)\n",
            "Requirement already satisfied: typing-extensions in /usr/local/lib/python3.7/dist-packages (from kiwisolver>=1.0.1->matplotlib==3.1.3) (4.2.0)\n",
            "Requirement already satisfied: six>=1.5 in /usr/local/lib/python3.7/dist-packages (from python-dateutil>=2.1->matplotlib==3.1.3) (1.15.0)\n",
            "Installing collected packages: matplotlib\n",
            "\u001b[31mERROR: pip's dependency resolver does not currently take into account all the packages that are installed. This behaviour is the source of the following dependency conflicts.\n",
            "nfoursid 1.0.0 requires matplotlib>=3.3, but you have matplotlib 3.1.3 which is incompatible.\n",
            "fbprophet 0.7.1 requires cmdstanpy==0.9.5, but you have cmdstanpy 0.9.68 which is incompatible.\n",
            "darts 0.19.0 requires matplotlib>=3.3.0, but you have matplotlib 3.1.3 which is incompatible.\n",
            "albumentations 0.1.12 requires imgaug<0.2.7,>=0.2.5, but you have imgaug 0.2.9 which is incompatible.\u001b[0m\n",
            "Successfully installed matplotlib-3.1.3\n"
          ]
        },
        {
          "output_type": "display_data",
          "data": {
            "application/vnd.colab-display-data+json": {
              "pip_warning": {
                "packages": [
                  "matplotlib",
                  "mpl_toolkits"
                ]
              }
            }
          },
          "metadata": {}
        }
      ]
    },
    {
      "cell_type": "code",
      "source": [
        "from darts import TimeSeries\n",
        "from darts.dataprocessing.transformers import MissingValuesFiller\n",
        "import pandas as pd\n",
        "\n",
        "df = pd.read_csv('energy_dataset.csv', delimiter=\",\")\n",
        "df['time'] = pd.to_datetime(df['time'], utc=True)\n",
        "df['time']= df.time.dt.tz_localize(None)\n",
        "\n",
        "df_day_avg = df.groupby(df['time'].astype(str).str.split(\" \").str[0]).mean().reset_index()\n",
        "\n",
        "value_filler = MissingValuesFiller()\n",
        "series = value_filler.transform(TimeSeries.from_dataframe(df_day_avg, 'time', ['generation hydro run-of-river and poundage']))\n",
        "\n",
        "series.plot()"
      ],
      "metadata": {
        "colab": {
          "base_uri": "https://localhost:8080/",
          "height": 295
        },
        "id": "uY_J_bwVe6vS",
        "outputId": "f1dd3942-6633-4d34-95bf-c677282202cf"
      },
      "execution_count": null,
      "outputs": [
        {
          "output_type": "display_data",
          "data": {
            "text/plain": [
              "<Figure size 432x288 with 1 Axes>"
            ],
            "image/png": "[encoded data removed]"
          },
          "metadata": {
            "needs_background": "light"
          }
        }
      ]
    },
    {
      "cell_type": "code",
      "source": [
        "series = series.add_datetime_attribute('day', one_hot=True)"
      ],
      "metadata": {
        "id": "Rv5Rdqu9kSWS"
      },
      "execution_count": null,
      "outputs": []
    },
    {
      "cell_type": "code",
      "source": [
        "from darts.dataprocessing.transformers import Scaler\n",
        "\n",
        "train, val = series.split_after(pd.Timestamp('20170901'))\n",
        "\n",
        "scaler = Scaler()\n",
        "train_transformed = scaler.fit_transform(train)\n",
        "val_transformed = scaler.transform(val)\n",
        "series_transformed = scaler.transform(series)"
      ],
      "metadata": {
        "id": "umPeHWsjkU6o"
      },
      "execution_count": null,
      "outputs": []
    },
    {
      "cell_type": "code",
      "source": [
        "from darts.models import TCNModel\n",
        "\n",
        "model = TCNModel(\n",
        "    # input_size=train.width,\n",
        "    n_epochs=20, \n",
        "    # input_length=365,\n",
        "    # output_length=7, \n",
        "    dropout=0, \n",
        "    dilation_base=2, \n",
        "    weight_norm=True,\n",
        "    kernel_size=7,\n",
        "    num_filters=4,\n",
        "    input_chunk_length=365,\n",
        "    output_chunk_length=7,\n",
        "   \n",
        ")\n",
        "\n",
        "model.fit(series=train_transformed,\n",
        "    # training_series=train_transformed,\n",
        "    # target_series=train_transformed,\n",
        "    # val_training_series=val_transformed,\n",
        "    # val_target_series=val_transformed, \n",
        "    # verbose=True\n",
        ")"
      ],
      "metadata": {
        "colab": {
          "base_uri": "https://localhost:8080/",
          "height": 483,
          "referenced_widgets": [
            "40aa21381c324e3388821dbbf72a04e0",
            "8addb508093b429aaafd7f7f9ea9232e",
            "fa90586360ce44f390a728b7d071684a",
            "e67505ac1f30415fb34c5c24ef599aab",
            "bbd76bf6a8174673a6ca1bf8614017d2",
            "9a2fe333cfec4b7985b95e62d05ff00a",
            "44f6f3670cd94a72a0b28693bf13d041",
            "a7334887d7b44b6185ed6a68ea3976a7",
            "99c732c4557b4a3284929472b2b423ad",
            "ef73669eddc34c0e82b16485dfe2877e",
            "4e539fe1606c4250a8b3e3506548f5e4"
          ]
        },
        "id": "XQ5oQembkbs_",
        "outputId": "694b528a-764d-46eb-cc90-1b9db8907918"
      },
      "execution_count": null,
      "outputs": [
        {
          "output_type": "stream",
          "name": "stderr",
          "text": [
            "[2022-05-27 08:20:55,868] INFO | darts.models.forecasting.torch_forecasting_model | Train dataset contains 605 samples.\n",
            "[2022-05-27 08:20:55,868] INFO | darts.models.forecasting.torch_forecasting_model | Train dataset contains 605 samples.\n",
            "2022-05-27 08:20:55 darts.models.forecasting.torch_forecasting_model INFO: Train dataset contains 605 samples.\n",
            "[2022-05-27 08:20:56,030] INFO | darts.models.forecasting.tcn_model | Number of layers chosen: 5\n",
            "[2022-05-27 08:20:56,030] INFO | darts.models.forecasting.tcn_model | Number of layers chosen: 5\n",
            "2022-05-27 08:20:56 darts.models.forecasting.tcn_model INFO: Number of layers chosen: 5\n",
            "[2022-05-27 08:20:56,084] INFO | darts.models.forecasting.torch_forecasting_model | Time series values are 64-bits; casting model to float64.\n",
            "[2022-05-27 08:20:56,084] INFO | darts.models.forecasting.torch_forecasting_model | Time series values are 64-bits; casting model to float64.\n",
            "2022-05-27 08:20:56 darts.models.forecasting.torch_forecasting_model INFO: Time series values are 64-bits; casting model to float64.\n",
            "2022-05-27 08:20:56 pytorch_lightning.utilities.rank_zero INFO: GPU available: False, used: False\n",
            "2022-05-27 08:20:56 pytorch_lightning.utilities.rank_zero INFO: TPU available: False, using: 0 TPU cores\n",
            "2022-05-27 08:20:56 pytorch_lightning.utilities.rank_zero INFO: IPU available: False, using: 0 IPUs\n",
            "2022-05-27 08:20:56 pytorch_lightning.utilities.rank_zero INFO: HPU available: False, using: 0 HPUs\n",
            "2022-05-27 08:20:56 pytorch_lightning.callbacks.model_summary INFO: \n",
            "  | Name       | Type       | Params\n",
            "------------------------------------------\n",
            "0 | criterion  | MSELoss    | 0     \n",
            "1 | dropout    | Dropout    | 0     \n",
            "2 | res_blocks | ModuleList | 3.1 K \n",
            "------------------------------------------\n",
            "3.1 K     Trainable params\n",
            "0         Non-trainable params\n",
            "3.1 K     Total params\n",
            "0.025     Total estimated model params size (MB)\n"
          ]
        },
        {
          "output_type": "display_data",
          "data": {
            "text/plain": [
              "Training: 0it [00:00, ?it/s]"
            ],
            "application/vnd.jupyter.widget-view+json": {
              "version_major": 2,
              "version_minor": 0,
              "model_id": "40aa21381c324e3388821dbbf72a04e0"
            }
          },
          "metadata": {}
        },
        {
          "output_type": "execute_result",
          "data": {
            "text/plain": [
              "<darts.models.forecasting.tcn_model.TCNModel at 0x7fdd38cf28d0>"
            ]
          },
          "metadata": {},
          "execution_count": 41
        }
      ]
    },
    {
      "cell_type": "code",
      "source": [
        "pred_series = model.backtest(\n",
        "    series_transformed,\n",
        "    # target_series=series_transformed,\n",
        "    start=pd.Timestamp('20170901'), \n",
        "    forecast_horizon=7,\n",
        "    stride=5,\n",
        "    # retrain=False,\n",
        "    # verbose=True,\n",
        "    # use_full_output_length=True\n",
        ")"
      ],
      "metadata": {
        "colab": {
          "base_uri": "https://localhost:8080/",
          "height": 239
        },
        "id": "0_Y0HCVYm53S",
        "outputId": "5a967e7e-de1d-4f2d-95c8-31ea821732bd"
      },
      "execution_count": null,
      "outputs": [
        {
          "output_type": "error",
          "ename": "NameError",
          "evalue": "ignored",
          "traceback": [
            "\u001b[0;31m---------------------------------------------------------------------------\u001b[0m",
            "\u001b[0;31mNameError\u001b[0m                                 Traceback (most recent call last)",
            "\u001b[0;32m<ipython-input-1-0b6afefe26ec>\u001b[0m in \u001b[0;36m<module>\u001b[0;34m\u001b[0m\n\u001b[0;32m----> 1\u001b[0;31m pred_series = model.backtest(\n\u001b[0m\u001b[1;32m      2\u001b[0m     \u001b[0mseries_transformed\u001b[0m\u001b[0;34m,\u001b[0m\u001b[0;34m\u001b[0m\u001b[0;34m\u001b[0m\u001b[0m\n\u001b[1;32m      3\u001b[0m     \u001b[0;31m# target_series=series_transformed,\u001b[0m\u001b[0;34m\u001b[0m\u001b[0;34m\u001b[0m\u001b[0;34m\u001b[0m\u001b[0m\n\u001b[1;32m      4\u001b[0m     \u001b[0mstart\u001b[0m\u001b[0;34m=\u001b[0m\u001b[0mpd\u001b[0m\u001b[0;34m.\u001b[0m\u001b[0mTimestamp\u001b[0m\u001b[0;34m(\u001b[0m\u001b[0;34m'20170901'\u001b[0m\u001b[0;34m)\u001b[0m\u001b[0;34m,\u001b[0m\u001b[0;34m\u001b[0m\u001b[0;34m\u001b[0m\u001b[0m\n\u001b[1;32m      5\u001b[0m     \u001b[0mforecast_horizon\u001b[0m\u001b[0;34m=\u001b[0m\u001b[0;36m7\u001b[0m\u001b[0;34m,\u001b[0m\u001b[0;34m\u001b[0m\u001b[0;34m\u001b[0m\u001b[0m\n",
            "\u001b[0;31mNameError\u001b[0m: name 'model' is not defined"
          ]
        }
      ]
    }
  ]
}