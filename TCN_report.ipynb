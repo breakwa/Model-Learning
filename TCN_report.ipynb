{
  "cells": [
    {
      "cell_type": "markdown",
      "metadata": {
        "id": "view-in-github",
        "colab_type": "text"
      },
      "source": [
        "<a href=\"https://colab.research.google.com/github/breakwa/Model-Learning/blob/main/TCN_report.ipynb\" target=\"_parent\"><img src=\"https://colab.research.google.com/assets/colab-badge.svg\" alt=\"Open In Colab\"/></a>"
      ]
    },
    {
      "cell_type": "markdown",
      "metadata": {
        "id": "gt8-lqLPJafi"
      },
      "source": [
        "# config"
      ]
    },
    {
      "cell_type": "code",
      "execution_count": 165,
      "metadata": {
        "colab": {
          "base_uri": "https://localhost:8080/"
        },
        "id": "34ghg7-VDv09",
        "outputId": "e762adfc-9490-4982-acc2-52472cfd0f8f"
      },
      "outputs": [
        {
          "output_type": "stream",
          "name": "stdout",
          "text": [
            "Looking in indexes: https://pypi.org/simple, https://us-python.pkg.dev/colab-wheels/public/simple/\n",
            "Collecting git+https://github.com/philipperemy/keras-tcn.git@master\n",
            "  Cloning https://github.com/philipperemy/keras-tcn.git (to revision master) to /tmp/pip-req-build-5t14iuot\n",
            "  Running command git clone -q https://github.com/philipperemy/keras-tcn.git /tmp/pip-req-build-5t14iuot\n",
            "Requirement already satisfied: numpy in /usr/local/lib/python3.7/dist-packages (from keras-tcn==3.4.4) (1.21.6)\n",
            "Requirement already satisfied: tensorflow in /usr/local/lib/python3.7/dist-packages (from keras-tcn==3.4.4) (2.8.2+zzzcolab20220527125636)\n",
            "Requirement already satisfied: tensorflow_addons in /usr/local/lib/python3.7/dist-packages (from keras-tcn==3.4.4) (0.17.1)\n",
            "Requirement already satisfied: six>=1.12.0 in /usr/local/lib/python3.7/dist-packages (from tensorflow->keras-tcn==3.4.4) (1.15.0)\n",
            "Requirement already satisfied: keras-preprocessing>=1.1.1 in /usr/local/lib/python3.7/dist-packages (from tensorflow->keras-tcn==3.4.4) (1.1.2)\n",
            "Requirement already satisfied: protobuf<3.20,>=3.9.2 in /usr/local/lib/python3.7/dist-packages (from tensorflow->keras-tcn==3.4.4) (3.17.3)\n",
            "Requirement already satisfied: tensorboard<2.9,>=2.8 in /usr/local/lib/python3.7/dist-packages (from tensorflow->keras-tcn==3.4.4) (2.8.0)\n",
            "Requirement already satisfied: tensorflow-io-gcs-filesystem>=0.23.1 in /usr/local/lib/python3.7/dist-packages (from tensorflow->keras-tcn==3.4.4) (0.26.0)\n",
            "Requirement already satisfied: setuptools in /usr/local/lib/python3.7/dist-packages (from tensorflow->keras-tcn==3.4.4) (57.4.0)\n",
            "Requirement already satisfied: absl-py>=0.4.0 in /usr/local/lib/python3.7/dist-packages (from tensorflow->keras-tcn==3.4.4) (1.1.0)\n",
            "Requirement already satisfied: google-pasta>=0.1.1 in /usr/local/lib/python3.7/dist-packages (from tensorflow->keras-tcn==3.4.4) (0.2.0)\n",
            "Requirement already satisfied: termcolor>=1.1.0 in /usr/local/lib/python3.7/dist-packages (from tensorflow->keras-tcn==3.4.4) (1.1.0)\n",
            "Requirement already satisfied: gast>=0.2.1 in /usr/local/lib/python3.7/dist-packages (from tensorflow->keras-tcn==3.4.4) (0.5.3)\n",
            "Requirement already satisfied: wrapt>=1.11.0 in /usr/local/lib/python3.7/dist-packages (from tensorflow->keras-tcn==3.4.4) (1.14.1)\n",
            "Requirement already satisfied: tensorflow-estimator<2.9,>=2.8 in /usr/local/lib/python3.7/dist-packages (from tensorflow->keras-tcn==3.4.4) (2.8.0)\n",
            "Requirement already satisfied: keras<2.9,>=2.8.0rc0 in /usr/local/lib/python3.7/dist-packages (from tensorflow->keras-tcn==3.4.4) (2.8.0)\n",
            "Requirement already satisfied: astunparse>=1.6.0 in /usr/local/lib/python3.7/dist-packages (from tensorflow->keras-tcn==3.4.4) (1.6.3)\n",
            "Requirement already satisfied: grpcio<2.0,>=1.24.3 in /usr/local/lib/python3.7/dist-packages (from tensorflow->keras-tcn==3.4.4) (1.46.3)\n",
            "Requirement already satisfied: h5py>=2.9.0 in /usr/local/lib/python3.7/dist-packages (from tensorflow->keras-tcn==3.4.4) (3.1.0)\n",
            "Requirement already satisfied: flatbuffers>=1.12 in /usr/local/lib/python3.7/dist-packages (from tensorflow->keras-tcn==3.4.4) (2.0)\n",
            "Requirement already satisfied: libclang>=9.0.1 in /usr/local/lib/python3.7/dist-packages (from tensorflow->keras-tcn==3.4.4) (14.0.1)\n",
            "Requirement already satisfied: typing-extensions>=3.6.6 in /usr/local/lib/python3.7/dist-packages (from tensorflow->keras-tcn==3.4.4) (4.1.1)\n",
            "Requirement already satisfied: opt-einsum>=2.3.2 in /usr/local/lib/python3.7/dist-packages (from tensorflow->keras-tcn==3.4.4) (3.3.0)\n",
            "Requirement already satisfied: wheel<1.0,>=0.23.0 in /usr/local/lib/python3.7/dist-packages (from astunparse>=1.6.0->tensorflow->keras-tcn==3.4.4) (0.37.1)\n",
            "Requirement already satisfied: cached-property in /usr/local/lib/python3.7/dist-packages (from h5py>=2.9.0->tensorflow->keras-tcn==3.4.4) (1.5.2)\n",
            "Requirement already satisfied: google-auth<3,>=1.6.3 in /usr/local/lib/python3.7/dist-packages (from tensorboard<2.9,>=2.8->tensorflow->keras-tcn==3.4.4) (1.35.0)\n",
            "Requirement already satisfied: tensorboard-data-server<0.7.0,>=0.6.0 in /usr/local/lib/python3.7/dist-packages (from tensorboard<2.9,>=2.8->tensorflow->keras-tcn==3.4.4) (0.6.1)\n",
            "Requirement already satisfied: tensorboard-plugin-wit>=1.6.0 in /usr/local/lib/python3.7/dist-packages (from tensorboard<2.9,>=2.8->tensorflow->keras-tcn==3.4.4) (1.8.1)\n",
            "Requirement already satisfied: markdown>=2.6.8 in /usr/local/lib/python3.7/dist-packages (from tensorboard<2.9,>=2.8->tensorflow->keras-tcn==3.4.4) (3.3.7)\n",
            "Requirement already satisfied: requests<3,>=2.21.0 in /usr/local/lib/python3.7/dist-packages (from tensorboard<2.9,>=2.8->tensorflow->keras-tcn==3.4.4) (2.23.0)\n",
            "Requirement already satisfied: werkzeug>=0.11.15 in /usr/local/lib/python3.7/dist-packages (from tensorboard<2.9,>=2.8->tensorflow->keras-tcn==3.4.4) (1.0.1)\n",
            "Requirement already satisfied: google-auth-oauthlib<0.5,>=0.4.1 in /usr/local/lib/python3.7/dist-packages (from tensorboard<2.9,>=2.8->tensorflow->keras-tcn==3.4.4) (0.4.6)\n",
            "Requirement already satisfied: pyasn1-modules>=0.2.1 in /usr/local/lib/python3.7/dist-packages (from google-auth<3,>=1.6.3->tensorboard<2.9,>=2.8->tensorflow->keras-tcn==3.4.4) (0.2.8)\n",
            "Requirement already satisfied: rsa<5,>=3.1.4 in /usr/local/lib/python3.7/dist-packages (from google-auth<3,>=1.6.3->tensorboard<2.9,>=2.8->tensorflow->keras-tcn==3.4.4) (4.8)\n",
            "Requirement already satisfied: cachetools<5.0,>=2.0.0 in /usr/local/lib/python3.7/dist-packages (from google-auth<3,>=1.6.3->tensorboard<2.9,>=2.8->tensorflow->keras-tcn==3.4.4) (4.2.4)\n",
            "Requirement already satisfied: requests-oauthlib>=0.7.0 in /usr/local/lib/python3.7/dist-packages (from google-auth-oauthlib<0.5,>=0.4.1->tensorboard<2.9,>=2.8->tensorflow->keras-tcn==3.4.4) (1.3.1)\n",
            "Requirement already satisfied: importlib-metadata>=4.4 in /usr/local/lib/python3.7/dist-packages (from markdown>=2.6.8->tensorboard<2.9,>=2.8->tensorflow->keras-tcn==3.4.4) (4.11.4)\n",
            "Requirement already satisfied: zipp>=0.5 in /usr/local/lib/python3.7/dist-packages (from importlib-metadata>=4.4->markdown>=2.6.8->tensorboard<2.9,>=2.8->tensorflow->keras-tcn==3.4.4) (3.8.0)\n",
            "Requirement already satisfied: pyasn1<0.5.0,>=0.4.6 in /usr/local/lib/python3.7/dist-packages (from pyasn1-modules>=0.2.1->google-auth<3,>=1.6.3->tensorboard<2.9,>=2.8->tensorflow->keras-tcn==3.4.4) (0.4.8)\n",
            "Requirement already satisfied: urllib3!=1.25.0,!=1.25.1,<1.26,>=1.21.1 in /usr/local/lib/python3.7/dist-packages (from requests<3,>=2.21.0->tensorboard<2.9,>=2.8->tensorflow->keras-tcn==3.4.4) (1.24.3)\n",
            "Requirement already satisfied: chardet<4,>=3.0.2 in /usr/local/lib/python3.7/dist-packages (from requests<3,>=2.21.0->tensorboard<2.9,>=2.8->tensorflow->keras-tcn==3.4.4) (3.0.4)\n",
            "Requirement already satisfied: certifi>=2017.4.17 in /usr/local/lib/python3.7/dist-packages (from requests<3,>=2.21.0->tensorboard<2.9,>=2.8->tensorflow->keras-tcn==3.4.4) (2022.6.15)\n",
            "Requirement already satisfied: idna<3,>=2.5 in /usr/local/lib/python3.7/dist-packages (from requests<3,>=2.21.0->tensorboard<2.9,>=2.8->tensorflow->keras-tcn==3.4.4) (2.10)\n",
            "Requirement already satisfied: oauthlib>=3.0.0 in /usr/local/lib/python3.7/dist-packages (from requests-oauthlib>=0.7.0->google-auth-oauthlib<0.5,>=0.4.1->tensorboard<2.9,>=2.8->tensorflow->keras-tcn==3.4.4) (3.2.0)\n",
            "Requirement already satisfied: typeguard>=2.7 in /usr/local/lib/python3.7/dist-packages (from tensorflow_addons->keras-tcn==3.4.4) (2.7.1)\n",
            "Requirement already satisfied: packaging in /usr/local/lib/python3.7/dist-packages (from tensorflow_addons->keras-tcn==3.4.4) (21.3)\n",
            "Requirement already satisfied: pyparsing!=3.0.5,>=2.0.2 in /usr/local/lib/python3.7/dist-packages (from packaging->tensorflow_addons->keras-tcn==3.4.4) (3.0.9)\n"
          ]
        }
      ],
      "source": [
        "\n",
        "!pip install git+https://github.com/philipperemy/keras-tcn.git@master\n"
      ]
    },
    {
      "cell_type": "code",
      "execution_count": 166,
      "metadata": {
        "id": "-hAmB8ooDo6m"
      },
      "outputs": [],
      "source": [
        "import matplotlib.pyplot as plt\n",
        "import numpy as np\n",
        "import pandas as pd\n",
        "from tensorflow.keras import Sequential\n",
        "from tensorflow.keras.layers import Dense\n",
        "from tensorflow import keras\n",
        "import tensorflow as tf\n",
        "from tcn.tcn import TCN"
      ]
    },
    {
      "cell_type": "code",
      "source": [
        "import os\n",
        "from google.colab import drive\n",
        "drive.mount('/content/drive')\n",
        "os.environ['KAGGLE_CONFIG_DIR'] = '/content/drive/MyDrive/kaggle/' #注意kaggle文件夹包含json文件\n",
        " \n",
        "os.chdir('/content/drive/MyDrive/kaggle/') #切换到kaggle文件夹"
      ],
      "metadata": {
        "colab": {
          "base_uri": "https://localhost:8080/"
        },
        "id": "iN6W-EfSq-jR",
        "outputId": "7e1dd359-9a3c-482d-8489-d27ecbb728bb"
      },
      "execution_count": 167,
      "outputs": [
        {
          "output_type": "stream",
          "name": "stdout",
          "text": [
            "Drive already mounted at /content/drive; to attempt to forcibly remount, call drive.mount(\"/content/drive\", force_remount=True).\n"
          ]
        }
      ]
    },
    {
      "cell_type": "code",
      "source": [
        "def normalization(data):\n",
        "    _range = np.max(data) - np.min(data)\n",
        "    return (data - np.min(data)) / _range\n",
        " \n",
        " \n",
        "def standardization(data):\n",
        "    mu = np.mean(data, axis=0)\n",
        "    sigma = np.std(data, axis=0)\n",
        "    return (data - mu) / sigma"
      ],
      "metadata": {
        "id": "jkH_7dnaEFbW"
      },
      "execution_count": 168,
      "outputs": []
    },
    {
      "cell_type": "code",
      "source": [
        "milk = pd.read_csv('/content/drive/MyDrive/Network Analytics.csv', index_col=0, parse_dates=True)\n",
        "milk = normalization(milk)\n",
        "print(milk.head())\n",
        "milk = milk.values  # just keep np array here for simplicity."
      ],
      "metadata": {
        "colab": {
          "base_uri": "https://localhost:8080/"
        },
        "id": "NMhJyeSK6FEv",
        "outputId": "aeb9d3db-8ada-4600-a382-8366040619c3"
      },
      "execution_count": 169,
      "outputs": [
        {
          "output_type": "stream",
          "name": "stdout",
          "text": [
            "                     OutboundUtilzation (%)\n",
            "Timestamp                                  \n",
            "2017-10-10 07:01:00                0.962485\n",
            "2017-10-10 07:21:00                0.991176\n",
            "2017-10-10 07:26:00                0.972936\n",
            "2017-10-10 07:31:00                0.980330\n",
            "2017-10-10 07:36:00                0.995308\n"
          ]
        }
      ]
    },
    {
      "cell_type": "code",
      "source": [
        "from keras.callbacks import History \n",
        "history = History()"
      ],
      "metadata": {
        "id": "7HZTz0ea6F64"
      },
      "execution_count": 170,
      "outputs": []
    },
    {
      "cell_type": "markdown",
      "metadata": {
        "id": "V0zFTtXVJgGX"
      },
      "source": [
        "# 1 step pred"
      ]
    },
    {
      "cell_type": "code",
      "execution_count": 171,
      "metadata": {
        "id": "qChc5U-0DgUB",
        "colab": {
          "base_uri": "https://localhost:8080/",
          "height": 1000
        },
        "outputId": "65b98254-3155-4a02-c947-0c1a03542d22"
      },
      "outputs": [
        {
          "output_type": "stream",
          "name": "stdout",
          "text": [
            "(25567, 64, 1)\n",
            "(25567, 1)\n",
            "[[0.51176079]\n",
            " [0.48188243]\n",
            " [0.87708541]\n",
            " ...\n",
            " [0.05389427]\n",
            " [0.35506167]\n",
            " [0.5888253 ]]\n",
            "Model: \"sequential_35\"\n",
            "_________________________________________________________________\n",
            " Layer (type)                Output Shape              Param #   \n",
            "=================================================================\n",
            " tcn_12 (TCN)                (None, 64)                91136     \n",
            "                                                                 \n",
            " dense_14 (Dense)            (None, 1)                 65        \n",
            "                                                                 \n",
            "=================================================================\n",
            "Total params: 91,201\n",
            "Trainable params: 91,201\n",
            "Non-trainable params: 0\n",
            "_________________________________________________________________\n",
            "Train...\n",
            "Epoch 1/20\n",
            "799/799 - 11s - loss: 0.1870 - 11s/epoch - 14ms/step\n",
            "Epoch 2/20\n",
            "799/799 - 10s - loss: 0.0734 - 10s/epoch - 12ms/step\n",
            "Epoch 3/20\n",
            "799/799 - 5s - loss: 0.0677 - 5s/epoch - 6ms/step\n",
            "Epoch 4/20\n",
            "799/799 - 5s - loss: 0.0654 - 5s/epoch - 6ms/step\n",
            "Epoch 5/20\n",
            "799/799 - 6s - loss: 0.0633 - 6s/epoch - 7ms/step\n",
            "Epoch 6/20\n",
            "799/799 - 5s - loss: 0.0615 - 5s/epoch - 6ms/step\n",
            "Epoch 7/20\n",
            "799/799 - 5s - loss: 0.0603 - 5s/epoch - 6ms/step\n",
            "Epoch 8/20\n",
            "799/799 - 5s - loss: 0.0595 - 5s/epoch - 6ms/step\n",
            "Epoch 9/20\n",
            "799/799 - 5s - loss: 0.0588 - 5s/epoch - 6ms/step\n",
            "Epoch 10/20\n",
            "799/799 - 5s - loss: 0.0586 - 5s/epoch - 6ms/step\n",
            "Epoch 11/20\n",
            "799/799 - 5s - loss: 0.0585 - 5s/epoch - 6ms/step\n",
            "Epoch 12/20\n",
            "799/799 - 5s - loss: 0.0581 - 5s/epoch - 6ms/step\n",
            "Epoch 13/20\n",
            "799/799 - 5s - loss: 0.0586 - 5s/epoch - 6ms/step\n",
            "Epoch 14/20\n",
            "799/799 - 5s - loss: 0.0580 - 5s/epoch - 6ms/step\n",
            "Epoch 15/20\n",
            "799/799 - 5s - loss: 0.0579 - 5s/epoch - 6ms/step\n",
            "Epoch 16/20\n",
            "799/799 - 5s - loss: 0.0582 - 5s/epoch - 6ms/step\n",
            "Epoch 17/20\n",
            "799/799 - 5s - loss: 0.0579 - 5s/epoch - 6ms/step\n",
            "Epoch 18/20\n",
            "799/799 - 5s - loss: 0.0576 - 5s/epoch - 6ms/step\n",
            "Epoch 19/20\n",
            "799/799 - 5s - loss: 0.0581 - 5s/epoch - 6ms/step\n",
            "Epoch 20/20\n",
            "799/799 - 6s - loss: 0.0575 - 6s/epoch - 7ms/step\n"
          ]
        },
        {
          "output_type": "display_data",
          "data": {
            "text/plain": [
              "<Figure size 432x288 with 1 Axes>"
            ],
            "image/png": "[encoded data removed]"
          },
          "metadata": {
            "needs_background": "light"
          }
        },
        {
          "output_type": "display_data",
          "data": {
            "text/plain": [
              "<Figure size 432x288 with 1 Axes>"
            ],
            "image/png": "[encoded data removed]"
          },
          "metadata": {
            "needs_background": "light"
          }
        }
      ],
      "source": [
        "# https://datamarket.com/data/set/22ox/monthly-milk-production-pounds-per-cow-jan-62-dec-75#!ds=22ox&display=line\n",
        "\n",
        "\n",
        "##\n",
        "# It's a very naive (toy) example to show how to do time series forecasting.\n",
        "# - There are no training-testing sets here. Everything is training set for simplicity.\n",
        "# - There is no input/output normalization.\n",
        "# - The model is simple.\n",
        "##\n",
        "\n",
        "\n",
        "\n",
        "lookback_window = 64  # months.\n",
        "\n",
        "\n",
        "\n",
        "x, y = [], []\n",
        "for i in range(lookback_window, len(milk)):\n",
        "    x.append(milk[i - lookback_window:i])\n",
        "    y.append(milk[i])\n",
        "x = np.array(x)\n",
        "y = np.array(y)\n",
        "\n",
        "print(x.shape)\n",
        "print(y.shape)\n",
        "print(y)\n",
        "# noinspection PyArgumentEqualDefault\n",
        "model = Sequential([\n",
        "    TCN(input_shape=(lookback_window, 1),\n",
        "        kernel_size=2,\n",
        "        use_skip_connections=False,\n",
        "        use_batch_norm=False,\n",
        "        use_weight_norm=False,\n",
        "        use_layer_norm=False\n",
        "        ),\n",
        "    Dense(1, activation='linear')\n",
        "])\n",
        "\n",
        "model.summary()\n",
        "model.compile('adam', 'mae',)\n",
        "\n",
        "print('Train...')\n",
        "model.fit(x, y, epochs=20, verbose=2, callbacks=[history])\n",
        "\n",
        "p = model.predict(x)\n",
        "\n",
        "p = p[:100]\n",
        "y = y[:100]\n",
        "plt.plot(p)\n",
        "plt.plot(y)\n",
        "plt.title('Monthly Milk Production (in pounds)')\n",
        "plt.legend(['predicted', 'actual'])\n",
        "plt.show()\n",
        "\n",
        "\n",
        "plt.plot(history.history['loss'][:10])\n",
        "plt.title('loss')\n",
        "plt.legend(['loss',])\n",
        "plt.show()\n",
        "\n"
      ]
    },
    {
      "cell_type": "code",
      "execution_count": 172,
      "metadata": {
        "id": "BVcdH4YTFowB",
        "colab": {
          "base_uri": "https://localhost:8080/"
        },
        "outputId": "e7d5ba29-a133-4d6e-b702-3cd16e4a3fc7"
      },
      "outputs": [
        {
          "output_type": "execute_result",
          "data": {
            "text/plain": [
              "((25567, 64, 1), (100, 1))"
            ]
          },
          "metadata": {},
          "execution_count": 172
        }
      ],
      "source": [
        "x.shape,y.shape"
      ]
    },
    {
      "cell_type": "markdown",
      "source": [
        "# try merge curve"
      ],
      "metadata": {
        "id": "lEyleMJQrpnc"
      }
    },
    {
      "cell_type": "code",
      "source": [
        "milk = pd.read_csv('/content/drive/MyDrive/Network Analytics.csv', index_col=0, parse_dates=True)\n",
        "milk = normalization(milk)\n",
        "print(milk.head())\n",
        "milk = milk.values  # just keep np array here for simplicity."
      ],
      "metadata": {
        "colab": {
          "base_uri": "https://localhost:8080/"
        },
        "id": "M2nA2JJLFc2W",
        "outputId": "ab1d533f-2e0b-4c8e-e083-21027a841da6"
      },
      "execution_count": 173,
      "outputs": [
        {
          "output_type": "stream",
          "name": "stdout",
          "text": [
            "                     OutboundUtilzation (%)\n",
            "Timestamp                                  \n",
            "2017-10-10 07:01:00                0.962485\n",
            "2017-10-10 07:21:00                0.991176\n",
            "2017-10-10 07:26:00                0.972936\n",
            "2017-10-10 07:31:00                0.980330\n",
            "2017-10-10 07:36:00                0.995308\n"
          ]
        }
      ]
    },
    {
      "cell_type": "code",
      "source": [
        "# https://datamarket.com/data/set/22ox/monthly-milk-production-pounds-per-cow-jan-62-dec-75#!ds=22ox&display=line\n",
        "\n",
        "\n",
        "##\n",
        "# It's a very naive (toy) example to show how to do time series forecasting.\n",
        "# - There are no training-testing sets here. Everything is training set for simplicity.\n",
        "# - There is no input/output normalization.\n",
        "# - The model is simple.\n",
        "##\n",
        "\n",
        "lookback_window = 64  # months.\n",
        "\n",
        "\n",
        "\n",
        "x, y = [], []\n",
        "for i in range(lookback_window, len(milk)):\n",
        "    x.append(milk[i - lookback_window:i])\n",
        "    y.append(milk[i])\n",
        "x = np.array(x)\n",
        "y = np.array(y)\n",
        "\n",
        "print(x.shape)\n",
        "print(y.shape)\n",
        "\n",
        "# noinspection PyArgumentEqualDefault\n",
        "model = Sequential([\n",
        "    TCN(input_shape=(lookback_window, 1),\n",
        "        kernel_size=4,\n",
        "        use_skip_connections=False,\n",
        "        use_batch_norm=False,\n",
        "        use_weight_norm=False,\n",
        "        use_layer_norm=False\n",
        "        ),\n",
        "    Dense(1, activation='linear')\n",
        "])\n",
        "\n",
        "model.summary()\n",
        "model.compile('adam', 'mae')\n",
        "\n",
        "print('Train...')\n",
        "model.fit(x, y, epochs=20, verbose=2, callbacks=[history])\n",
        "\n",
        "p = model.predict(x)\n",
        "\n",
        "p = p[:100]\n",
        "y = y[:100]\n",
        "plt.plot(p)\n",
        "plt.plot(y)\n",
        "plt.title('Monthly Milk Production (in pounds)')\n",
        "plt.legend(['predicted', 'actual'])\n",
        "plt.show()\n",
        "\n",
        "\n",
        "plt.plot(history.history['loss'][:10])\n",
        "plt.title('loss')\n",
        "plt.legend(['loss',])\n",
        "plt.show()\n"
      ],
      "metadata": {
        "colab": {
          "base_uri": "https://localhost:8080/",
          "height": 1000
        },
        "id": "sZ2xyi2hrwF9",
        "outputId": "9f6f733c-7fa5-4c4f-eea3-5713021bb6cf"
      },
      "execution_count": 174,
      "outputs": [
        {
          "output_type": "stream",
          "name": "stdout",
          "text": [
            "(25567, 64, 1)\n",
            "(25567, 1)\n",
            "Model: \"sequential_36\"\n",
            "_________________________________________________________________\n",
            " Layer (type)                Output Shape              Param #   \n",
            "=================================================================\n",
            " tcn_13 (TCN)                (None, 64)                181376    \n",
            "                                                                 \n",
            " dense_15 (Dense)            (None, 1)                 65        \n",
            "                                                                 \n",
            "=================================================================\n",
            "Total params: 181,441\n",
            "Trainable params: 181,441\n",
            "Non-trainable params: 0\n",
            "_________________________________________________________________\n",
            "Train...\n",
            "Epoch 1/20\n",
            "799/799 - 7s - loss: 0.1519 - 7s/epoch - 9ms/step\n",
            "Epoch 2/20\n",
            "799/799 - 5s - loss: 0.0749 - 5s/epoch - 7ms/step\n",
            "Epoch 3/20\n",
            "799/799 - 5s - loss: 0.0707 - 5s/epoch - 7ms/step\n",
            "Epoch 4/20\n",
            "799/799 - 5s - loss: 0.0631 - 5s/epoch - 7ms/step\n",
            "Epoch 5/20\n",
            "799/799 - 10s - loss: 0.0630 - 10s/epoch - 12ms/step\n",
            "Epoch 6/20\n",
            "799/799 - 5s - loss: 0.0624 - 5s/epoch - 7ms/step\n",
            "Epoch 7/20\n",
            "799/799 - 5s - loss: 0.0603 - 5s/epoch - 7ms/step\n",
            "Epoch 8/20\n",
            "799/799 - 5s - loss: 0.0597 - 5s/epoch - 7ms/step\n",
            "Epoch 9/20\n",
            "799/799 - 5s - loss: 0.0602 - 5s/epoch - 7ms/step\n",
            "Epoch 10/20\n",
            "799/799 - 5s - loss: 0.0592 - 5s/epoch - 7ms/step\n",
            "Epoch 11/20\n",
            "799/799 - 5s - loss: 0.0588 - 5s/epoch - 7ms/step\n",
            "Epoch 12/20\n",
            "799/799 - 5s - loss: 0.0587 - 5s/epoch - 7ms/step\n",
            "Epoch 13/20\n",
            "799/799 - 5s - loss: 0.0586 - 5s/epoch - 7ms/step\n",
            "Epoch 14/20\n",
            "799/799 - 5s - loss: 0.0586 - 5s/epoch - 7ms/step\n",
            "Epoch 15/20\n",
            "799/799 - 5s - loss: 0.0578 - 5s/epoch - 7ms/step\n",
            "Epoch 16/20\n",
            "799/799 - 5s - loss: 0.0577 - 5s/epoch - 7ms/step\n",
            "Epoch 17/20\n",
            "799/799 - 5s - loss: 0.0575 - 5s/epoch - 7ms/step\n",
            "Epoch 18/20\n",
            "799/799 - 6s - loss: 0.0576 - 6s/epoch - 7ms/step\n",
            "Epoch 19/20\n",
            "799/799 - 5s - loss: 0.0575 - 5s/epoch - 7ms/step\n",
            "Epoch 20/20\n",
            "799/799 - 5s - loss: 0.0573 - 5s/epoch - 7ms/step\n"
          ]
        },
        {
          "output_type": "display_data",
          "data": {
            "text/plain": [
              "<Figure size 432x288 with 1 Axes>"
            ],
            "image/png": "[encoded data removed]"
          },
          "metadata": {
            "needs_background": "light"
          }
        },
        {
          "output_type": "display_data",
          "data": {
            "text/plain": [
              "<Figure size 432x288 with 1 Axes>"
            ],
            "image/png": "[encoded data removed]"
          },
          "metadata": {
            "needs_background": "light"
          }
        }
      ]
    },
    {
      "cell_type": "markdown",
      "source": [
        "# try to concatenate\n"
      ],
      "metadata": {
        "id": "tYL7AGwsFbBp"
      }
    },
    {
      "cell_type": "code",
      "source": [
        "milk = pd.read_csv('/content/drive/MyDrive/Network Analytics.csv', index_col=0, parse_dates=True)\n",
        "milk = normalization(milk)\n",
        "print(milk.head())\n",
        "milk = milk.values  # just keep np array here for simplicity."
      ],
      "metadata": {
        "colab": {
          "base_uri": "https://localhost:8080/"
        },
        "id": "GiI4aguNGHaO",
        "outputId": "e1268982-fb91-424c-dd68-0dc26440a8a2"
      },
      "execution_count": 175,
      "outputs": [
        {
          "output_type": "stream",
          "name": "stdout",
          "text": [
            "                     OutboundUtilzation (%)\n",
            "Timestamp                                  \n",
            "2017-10-10 07:01:00                0.962485\n",
            "2017-10-10 07:21:00                0.991176\n",
            "2017-10-10 07:26:00                0.972936\n",
            "2017-10-10 07:31:00                0.980330\n",
            "2017-10-10 07:36:00                0.995308\n"
          ]
        }
      ]
    },
    {
      "cell_type": "code",
      "source": [
        "# https://datamarket.com/data/set/22ox/monthly-milk-production-pounds-per-cow-jan-62-dec-75#!ds=22ox&display=line\n",
        "\n",
        "\n",
        "##\n",
        "# It's a very naive (toy) example to show how to do time series forecasting.\n",
        "# - There are no training-testing sets here. Everything is training set for simplicity.\n",
        "# - There is no input/output normalization.\n",
        "# - The model is simple.\n",
        "##\n",
        "\n",
        "lookback_window = 64  # months.\n",
        "\n",
        "\n",
        "\n",
        "x, y = [], []\n",
        "for i in range(lookback_window, len(milk)):\n",
        "    x.append(milk[i - lookback_window:i])\n",
        "    y.append(milk[i])\n",
        "x = np.array(x)\n",
        "y = np.array(y)\n",
        "\n",
        "print(x.shape)\n",
        "print(y.shape)\n",
        "\n",
        "# noinspection PyArgumentEqualDefault\n",
        "\n",
        "input1_= tf.keras.Input(shape=(lookback_window, 1), name='input1')\n",
        "input2_ = tf.keras.Input((lookback_window, 1), name='input2')\n",
        "\n",
        "\n",
        "input1 = TCN(\n",
        "        kernel_size=4,\n",
        "        use_skip_connections=False,\n",
        "        use_batch_norm=False,\n",
        "        use_weight_norm=False,\n",
        "        use_layer_norm=False\n",
        "        )(input1_)\n",
        "large_size_model = Dense(1, activation='linear')(input1)\n",
        "input2 = TCN(\n",
        "        kernel_size=2,\n",
        "        use_skip_connections=False,\n",
        "        use_batch_norm=False,\n",
        "        use_weight_norm=False,\n",
        "        use_layer_norm=False\n",
        "        )(input2_)\n",
        "small_size_model = Dense(1, activation='linear')(input2)\n",
        "added = tf.keras.layers.concatenate([large_size_model, small_size_model])\n",
        "\n",
        "\n",
        "model_output = Dense(1, activation='linear')(added)\n",
        "\n",
        "\n",
        "\n",
        "\n",
        "\n",
        "model =  tf.keras.models.Model(inputs=[input1_,input2_], outputs=model_output)\n",
        "\n",
        "model.summary()\n",
        "model.compile('adam', 'mae')\n",
        "\n",
        "print('Train...')\n",
        "model.fit([x,x], y, epochs=20, verbose=2, callbacks=[history])\n",
        "\n",
        "p = model.predict([x,x])\n",
        "\n",
        "p = p[:100]\n",
        "y = y[:100]\n",
        "plt.plot(p)\n",
        "plt.plot(y)\n",
        "plt.title('Monthly Milk Production (in pounds)')\n",
        "plt.legend(['predicted', 'actual'])\n",
        "plt.show()\n",
        "\n",
        "\n",
        "plt.plot(history.history['loss'][:10])\n",
        "plt.title('loss')\n",
        "plt.legend(['loss',])\n",
        "plt.show()\n"
      ],
      "metadata": {
        "colab": {
          "base_uri": "https://localhost:8080/",
          "height": 1000
        },
        "id": "lOnvha-BFeV5",
        "outputId": "84931017-93ba-4ae4-be9e-3fa923184afe"
      },
      "execution_count": 176,
      "outputs": [
        {
          "output_type": "stream",
          "name": "stdout",
          "text": [
            "(25567, 64, 1)\n",
            "(25567, 1)\n",
            "Model: \"model_2\"\n",
            "__________________________________________________________________________________________________\n",
            " Layer (type)                   Output Shape         Param #     Connected to                     \n",
            "==================================================================================================\n",
            " input1 (InputLayer)            [(None, 64, 1)]      0           []                               \n",
            "                                                                                                  \n",
            " input2 (InputLayer)            [(None, 64, 1)]      0           []                               \n",
            "                                                                                                  \n",
            " tcn_14 (TCN)                   (None, 64)           181376      ['input1[0][0]']                 \n",
            "                                                                                                  \n",
            " tcn_15 (TCN)                   (None, 64)           91136       ['input2[0][0]']                 \n",
            "                                                                                                  \n",
            " dense_16 (Dense)               (None, 1)            65          ['tcn_14[0][0]']                 \n",
            "                                                                                                  \n",
            " dense_17 (Dense)               (None, 1)            65          ['tcn_15[0][0]']                 \n",
            "                                                                                                  \n",
            " concatenate_2 (Concatenate)    (None, 2)            0           ['dense_16[0][0]',               \n",
            "                                                                  'dense_17[0][0]']               \n",
            "                                                                                                  \n",
            " dense_18 (Dense)               (None, 1)            3           ['concatenate_2[0][0]']          \n",
            "                                                                                                  \n",
            "==================================================================================================\n",
            "Total params: 272,645\n",
            "Trainable params: 272,645\n",
            "Non-trainable params: 0\n",
            "__________________________________________________________________________________________________\n",
            "Train...\n",
            "Epoch 1/20\n",
            "799/799 - 13s - loss: 0.1813 - 13s/epoch - 17ms/step\n",
            "Epoch 2/20\n",
            "799/799 - 9s - loss: 0.0690 - 9s/epoch - 12ms/step\n",
            "Epoch 3/20\n",
            "799/799 - 9s - loss: 0.0646 - 9s/epoch - 12ms/step\n",
            "Epoch 4/20\n",
            "799/799 - 9s - loss: 0.0613 - 9s/epoch - 12ms/step\n",
            "Epoch 5/20\n",
            "799/799 - 9s - loss: 0.0598 - 9s/epoch - 12ms/step\n",
            "Epoch 6/20\n",
            "799/799 - 9s - loss: 0.0589 - 9s/epoch - 11ms/step\n",
            "Epoch 7/20\n",
            "799/799 - 9s - loss: 0.0580 - 9s/epoch - 12ms/step\n",
            "Epoch 8/20\n",
            "799/799 - 9s - loss: 0.0572 - 9s/epoch - 12ms/step\n",
            "Epoch 9/20\n",
            "799/799 - 10s - loss: 0.0572 - 10s/epoch - 12ms/step\n",
            "Epoch 10/20\n",
            "799/799 - 9s - loss: 0.0569 - 9s/epoch - 11ms/step\n",
            "Epoch 11/20\n",
            "799/799 - 9s - loss: 0.0569 - 9s/epoch - 12ms/step\n",
            "Epoch 12/20\n",
            "799/799 - 9s - loss: 0.0565 - 9s/epoch - 11ms/step\n",
            "Epoch 13/20\n",
            "799/799 - 9s - loss: 0.0561 - 9s/epoch - 12ms/step\n",
            "Epoch 14/20\n",
            "799/799 - 9s - loss: 0.0562 - 9s/epoch - 12ms/step\n",
            "Epoch 15/20\n",
            "799/799 - 9s - loss: 0.0560 - 9s/epoch - 11ms/step\n",
            "Epoch 16/20\n",
            "799/799 - 9s - loss: 0.0556 - 9s/epoch - 11ms/step\n",
            "Epoch 17/20\n",
            "799/799 - 9s - loss: 0.0554 - 9s/epoch - 11ms/step\n",
            "Epoch 18/20\n",
            "799/799 - 9s - loss: 0.0551 - 9s/epoch - 11ms/step\n",
            "Epoch 19/20\n",
            "799/799 - 9s - loss: 0.0549 - 9s/epoch - 12ms/step\n",
            "Epoch 20/20\n",
            "799/799 - 9s - loss: 0.0542 - 9s/epoch - 12ms/step\n"
          ]
        },
        {
          "output_type": "display_data",
          "data": {
            "text/plain": [
              "<Figure size 432x288 with 1 Axes>"
            ],
            "image/png": "[encoded data removed]"
          },
          "metadata": {
            "needs_background": "light"
          }
        },
        {
          "output_type": "display_data",
          "data": {
            "text/plain": [
              "<Figure size 432x288 with 1 Axes>"
            ],
            "image/png": "[encoded data removed]"
          },
          "metadata": {
            "needs_background": "light"
          }
        }
      ]
    },
    {
      "cell_type": "markdown",
      "metadata": {
        "id": "uLG0O8SJvarg"
      },
      "source": [
        "# 3 muti step pred test"
      ]
    },
    {
      "cell_type": "code",
      "execution_count": 177,
      "metadata": {
        "id": "GV7mQW4Svarn",
        "colab": {
          "base_uri": "https://localhost:8080/"
        },
        "outputId": "e3909972-4656-479b-d09f-158bcf591607"
      },
      "outputs": [
        {
          "output_type": "stream",
          "name": "stdout",
          "text": [
            "                     OutboundUtilzation (%)\n",
            "Timestamp                                  \n",
            "2017-10-10 07:01:00                 96.2442\n",
            "2017-10-10 07:21:00                 99.1131\n",
            "2017-10-10 07:26:00                 97.2892\n",
            "2017-10-10 07:31:00                 98.0286\n",
            "2017-10-10 07:36:00                 99.5263\n",
            "(8539, 12, 1)\n",
            "(8539, 3)\n"
          ]
        }
      ],
      "source": [
        "\n",
        "milk = pd.read_csv('/content/drive/MyDrive/Network Analytics.csv', index_col=0, parse_dates=True)\n",
        "\n",
        "print(milk.head())\n",
        "\n",
        "lookback_window = 12  # months.\n",
        "pred_window = 3  # months.\n",
        "\n",
        "# milk = milk.values # just keep np array here for simplicity.\n",
        "\n",
        "x, y = [], []\n",
        "for i in range(lookback_window, len(milk)-pred_window,pred_window):\n",
        "    x.append(milk[i - lookback_window:i])\n",
        "    y.append(milk[i:i+pred_window])\n",
        "\n",
        "x,y\n",
        "x = np.array(x,dtype=object).astype(np.float32)\n",
        "y = np.array(y,dtype=object).astype(np.float32)\n",
        "y = y.squeeze()\n",
        "\n",
        "\n",
        "\n",
        "\n",
        "\n",
        "np.set_printoptions(threshold=5)\n",
        "print(x.shape)\n",
        "print(y.shape)"
      ]
    },
    {
      "cell_type": "code",
      "execution_count": 178,
      "metadata": {
        "id": "Xsu5-Ryivuh0",
        "colab": {
          "base_uri": "https://localhost:8080/",
          "height": 1000
        },
        "outputId": "7a80105c-3900-4c08-8f73-6e5243d67c1d"
      },
      "outputs": [
        {
          "output_type": "stream",
          "name": "stdout",
          "text": [
            "Model: \"sequential_37\"\n",
            "_________________________________________________________________\n",
            " Layer (type)                Output Shape              Param #   \n",
            "=================================================================\n",
            " tcn_16 (TCN)                (None, 64)                91136     \n",
            "                                                                 \n",
            " dense_19 (Dense)            (None, 3)                 195       \n",
            "                                                                 \n",
            "=================================================================\n",
            "Total params: 91,331\n",
            "Trainable params: 91,331\n",
            "Non-trainable params: 0\n",
            "_________________________________________________________________\n",
            "Train...\n",
            "Epoch 1/100\n",
            "267/267 - 3s - loss: 27.3210 - 3s/epoch - 12ms/step\n",
            "Epoch 2/100\n",
            "267/267 - 2s - loss: 10.6117 - 2s/epoch - 6ms/step\n",
            "Epoch 3/100\n",
            "267/267 - 2s - loss: 10.2302 - 2s/epoch - 6ms/step\n",
            "Epoch 4/100\n",
            "267/267 - 2s - loss: 9.5603 - 2s/epoch - 6ms/step\n",
            "Epoch 5/100\n",
            "267/267 - 2s - loss: 9.2849 - 2s/epoch - 6ms/step\n",
            "Epoch 6/100\n",
            "267/267 - 2s - loss: 9.0120 - 2s/epoch - 6ms/step\n",
            "Epoch 7/100\n",
            "267/267 - 2s - loss: 8.8014 - 2s/epoch - 6ms/step\n",
            "Epoch 8/100\n",
            "267/267 - 2s - loss: 8.7372 - 2s/epoch - 6ms/step\n",
            "Epoch 9/100\n",
            "267/267 - 2s - loss: 8.6924 - 2s/epoch - 6ms/step\n",
            "Epoch 10/100\n",
            "267/267 - 2s - loss: 8.8315 - 2s/epoch - 6ms/step\n",
            "Epoch 11/100\n",
            "267/267 - 2s - loss: 8.7208 - 2s/epoch - 6ms/step\n",
            "Epoch 12/100\n",
            "267/267 - 2s - loss: 8.8769 - 2s/epoch - 6ms/step\n",
            "Epoch 13/100\n",
            "267/267 - 2s - loss: 8.5349 - 2s/epoch - 6ms/step\n",
            "Epoch 14/100\n",
            "267/267 - 2s - loss: 8.6645 - 2s/epoch - 6ms/step\n",
            "Epoch 15/100\n",
            "267/267 - 2s - loss: 8.3761 - 2s/epoch - 6ms/step\n",
            "Epoch 16/100\n",
            "267/267 - 2s - loss: 8.7095 - 2s/epoch - 6ms/step\n",
            "Epoch 17/100\n",
            "267/267 - 2s - loss: 8.4804 - 2s/epoch - 6ms/step\n",
            "Epoch 18/100\n",
            "267/267 - 2s - loss: 8.3403 - 2s/epoch - 6ms/step\n",
            "Epoch 19/100\n",
            "267/267 - 2s - loss: 8.4196 - 2s/epoch - 6ms/step\n",
            "Epoch 20/100\n",
            "267/267 - 2s - loss: 8.3883 - 2s/epoch - 6ms/step\n",
            "Epoch 21/100\n",
            "267/267 - 2s - loss: 8.3911 - 2s/epoch - 6ms/step\n",
            "Epoch 22/100\n",
            "267/267 - 2s - loss: 8.4466 - 2s/epoch - 6ms/step\n",
            "Epoch 23/100\n",
            "267/267 - 2s - loss: 8.3580 - 2s/epoch - 6ms/step\n",
            "Epoch 24/100\n",
            "267/267 - 2s - loss: 8.2890 - 2s/epoch - 6ms/step\n",
            "Epoch 25/100\n",
            "267/267 - 2s - loss: 8.2548 - 2s/epoch - 6ms/step\n",
            "Epoch 26/100\n",
            "267/267 - 2s - loss: 8.2946 - 2s/epoch - 6ms/step\n",
            "Epoch 27/100\n",
            "267/267 - 2s - loss: 8.3043 - 2s/epoch - 6ms/step\n",
            "Epoch 28/100\n",
            "267/267 - 2s - loss: 8.2807 - 2s/epoch - 6ms/step\n",
            "Epoch 29/100\n",
            "267/267 - 2s - loss: 8.3066 - 2s/epoch - 6ms/step\n",
            "Epoch 30/100\n"
          ]
        },
        {
          "output_type": "error",
          "ename": "KeyboardInterrupt",
          "evalue": "ignored",
          "traceback": [
            "\u001b[0;31m---------------------------------------------------------------------------\u001b[0m",
            "\u001b[0;31mKeyboardInterrupt\u001b[0m                         Traceback (most recent call last)",
            "\u001b[0;32m<ipython-input-178-fb4cd9b6585d>\u001b[0m in \u001b[0;36m<module>\u001b[0;34m()\u001b[0m\n\u001b[1;32m     16\u001b[0m \u001b[0;34m\u001b[0m\u001b[0m\n\u001b[1;32m     17\u001b[0m \u001b[0mprint\u001b[0m\u001b[0;34m(\u001b[0m\u001b[0;34m'Train...'\u001b[0m\u001b[0;34m)\u001b[0m\u001b[0;34m\u001b[0m\u001b[0;34m\u001b[0m\u001b[0m\n\u001b[0;32m---> 18\u001b[0;31m \u001b[0mmodel\u001b[0m\u001b[0;34m.\u001b[0m\u001b[0mfit\u001b[0m\u001b[0;34m(\u001b[0m\u001b[0mx\u001b[0m\u001b[0;34m,\u001b[0m \u001b[0my\u001b[0m\u001b[0;34m,\u001b[0m \u001b[0mepochs\u001b[0m\u001b[0;34m=\u001b[0m\u001b[0;36m100\u001b[0m\u001b[0;34m,\u001b[0m \u001b[0mverbose\u001b[0m\u001b[0;34m=\u001b[0m\u001b[0;36m2\u001b[0m\u001b[0;34m)\u001b[0m\u001b[0;34m\u001b[0m\u001b[0;34m\u001b[0m\u001b[0m\n\u001b[0m",
            "\u001b[0;32m/usr/local/lib/python3.7/dist-packages/keras/utils/traceback_utils.py\u001b[0m in \u001b[0;36merror_handler\u001b[0;34m(*args, **kwargs)\u001b[0m\n\u001b[1;32m     62\u001b[0m     \u001b[0mfiltered_tb\u001b[0m \u001b[0;34m=\u001b[0m \u001b[0;32mNone\u001b[0m\u001b[0;34m\u001b[0m\u001b[0;34m\u001b[0m\u001b[0m\n\u001b[1;32m     63\u001b[0m     \u001b[0;32mtry\u001b[0m\u001b[0;34m:\u001b[0m\u001b[0;34m\u001b[0m\u001b[0;34m\u001b[0m\u001b[0m\n\u001b[0;32m---> 64\u001b[0;31m       \u001b[0;32mreturn\u001b[0m \u001b[0mfn\u001b[0m\u001b[0;34m(\u001b[0m\u001b[0;34m*\u001b[0m\u001b[0margs\u001b[0m\u001b[0;34m,\u001b[0m \u001b[0;34m**\u001b[0m\u001b[0mkwargs\u001b[0m\u001b[0;34m)\u001b[0m\u001b[0;34m\u001b[0m\u001b[0;34m\u001b[0m\u001b[0m\n\u001b[0m\u001b[1;32m     65\u001b[0m     \u001b[0;32mexcept\u001b[0m \u001b[0mException\u001b[0m \u001b[0;32mas\u001b[0m \u001b[0me\u001b[0m\u001b[0;34m:\u001b[0m  \u001b[0;31m# pylint: disable=broad-except\u001b[0m\u001b[0;34m\u001b[0m\u001b[0;34m\u001b[0m\u001b[0m\n\u001b[1;32m     66\u001b[0m       \u001b[0mfiltered_tb\u001b[0m \u001b[0;34m=\u001b[0m \u001b[0m_process_traceback_frames\u001b[0m\u001b[0;34m(\u001b[0m\u001b[0me\u001b[0m\u001b[0;34m.\u001b[0m\u001b[0m__traceback__\u001b[0m\u001b[0;34m)\u001b[0m\u001b[0;34m\u001b[0m\u001b[0;34m\u001b[0m\u001b[0m\n",
            "\u001b[0;32m/usr/local/lib/python3.7/dist-packages/keras/engine/training.py\u001b[0m in \u001b[0;36mfit\u001b[0;34m(self, x, y, batch_size, epochs, verbose, callbacks, validation_split, validation_data, shuffle, class_weight, sample_weight, initial_epoch, steps_per_epoch, validation_steps, validation_batch_size, validation_freq, max_queue_size, workers, use_multiprocessing)\u001b[0m\n\u001b[1;32m   1382\u001b[0m                 _r=1):\n\u001b[1;32m   1383\u001b[0m               \u001b[0mcallbacks\u001b[0m\u001b[0;34m.\u001b[0m\u001b[0mon_train_batch_begin\u001b[0m\u001b[0;34m(\u001b[0m\u001b[0mstep\u001b[0m\u001b[0;34m)\u001b[0m\u001b[0;34m\u001b[0m\u001b[0;34m\u001b[0m\u001b[0m\n\u001b[0;32m-> 1384\u001b[0;31m               \u001b[0mtmp_logs\u001b[0m \u001b[0;34m=\u001b[0m \u001b[0mself\u001b[0m\u001b[0;34m.\u001b[0m\u001b[0mtrain_function\u001b[0m\u001b[0;34m(\u001b[0m\u001b[0miterator\u001b[0m\u001b[0;34m)\u001b[0m\u001b[0;34m\u001b[0m\u001b[0;34m\u001b[0m\u001b[0m\n\u001b[0m\u001b[1;32m   1385\u001b[0m               \u001b[0;32mif\u001b[0m \u001b[0mdata_handler\u001b[0m\u001b[0;34m.\u001b[0m\u001b[0mshould_sync\u001b[0m\u001b[0;34m:\u001b[0m\u001b[0;34m\u001b[0m\u001b[0;34m\u001b[0m\u001b[0m\n\u001b[1;32m   1386\u001b[0m                 \u001b[0mcontext\u001b[0m\u001b[0;34m.\u001b[0m\u001b[0masync_wait\u001b[0m\u001b[0;34m(\u001b[0m\u001b[0;34m)\u001b[0m\u001b[0;34m\u001b[0m\u001b[0;34m\u001b[0m\u001b[0m\n",
            "\u001b[0;32m/usr/local/lib/python3.7/dist-packages/tensorflow/python/util/traceback_utils.py\u001b[0m in \u001b[0;36merror_handler\u001b[0;34m(*args, **kwargs)\u001b[0m\n\u001b[1;32m    148\u001b[0m     \u001b[0mfiltered_tb\u001b[0m \u001b[0;34m=\u001b[0m \u001b[0;32mNone\u001b[0m\u001b[0;34m\u001b[0m\u001b[0;34m\u001b[0m\u001b[0m\n\u001b[1;32m    149\u001b[0m     \u001b[0;32mtry\u001b[0m\u001b[0;34m:\u001b[0m\u001b[0;34m\u001b[0m\u001b[0;34m\u001b[0m\u001b[0m\n\u001b[0;32m--> 150\u001b[0;31m       \u001b[0;32mreturn\u001b[0m \u001b[0mfn\u001b[0m\u001b[0;34m(\u001b[0m\u001b[0;34m*\u001b[0m\u001b[0margs\u001b[0m\u001b[0;34m,\u001b[0m \u001b[0;34m**\u001b[0m\u001b[0mkwargs\u001b[0m\u001b[0;34m)\u001b[0m\u001b[0;34m\u001b[0m\u001b[0;34m\u001b[0m\u001b[0m\n\u001b[0m\u001b[1;32m    151\u001b[0m     \u001b[0;32mexcept\u001b[0m \u001b[0mException\u001b[0m \u001b[0;32mas\u001b[0m \u001b[0me\u001b[0m\u001b[0;34m:\u001b[0m\u001b[0;34m\u001b[0m\u001b[0;34m\u001b[0m\u001b[0m\n\u001b[1;32m    152\u001b[0m       \u001b[0mfiltered_tb\u001b[0m \u001b[0;34m=\u001b[0m \u001b[0m_process_traceback_frames\u001b[0m\u001b[0;34m(\u001b[0m\u001b[0me\u001b[0m\u001b[0;34m.\u001b[0m\u001b[0m__traceback__\u001b[0m\u001b[0;34m)\u001b[0m\u001b[0;34m\u001b[0m\u001b[0;34m\u001b[0m\u001b[0m\n",
            "\u001b[0;32m/usr/local/lib/python3.7/dist-packages/tensorflow/python/eager/def_function.py\u001b[0m in \u001b[0;36m__call__\u001b[0;34m(self, *args, **kwds)\u001b[0m\n\u001b[1;32m    913\u001b[0m \u001b[0;34m\u001b[0m\u001b[0m\n\u001b[1;32m    914\u001b[0m       \u001b[0;32mwith\u001b[0m \u001b[0mOptionalXlaContext\u001b[0m\u001b[0;34m(\u001b[0m\u001b[0mself\u001b[0m\u001b[0;34m.\u001b[0m\u001b[0m_jit_compile\u001b[0m\u001b[0;34m)\u001b[0m\u001b[0;34m:\u001b[0m\u001b[0;34m\u001b[0m\u001b[0;34m\u001b[0m\u001b[0m\n\u001b[0;32m--> 915\u001b[0;31m         \u001b[0mresult\u001b[0m \u001b[0;34m=\u001b[0m \u001b[0mself\u001b[0m\u001b[0;34m.\u001b[0m\u001b[0m_call\u001b[0m\u001b[0;34m(\u001b[0m\u001b[0;34m*\u001b[0m\u001b[0margs\u001b[0m\u001b[0;34m,\u001b[0m \u001b[0;34m**\u001b[0m\u001b[0mkwds\u001b[0m\u001b[0;34m)\u001b[0m\u001b[0;34m\u001b[0m\u001b[0;34m\u001b[0m\u001b[0m\n\u001b[0m\u001b[1;32m    916\u001b[0m \u001b[0;34m\u001b[0m\u001b[0m\n\u001b[1;32m    917\u001b[0m       \u001b[0mnew_tracing_count\u001b[0m \u001b[0;34m=\u001b[0m \u001b[0mself\u001b[0m\u001b[0;34m.\u001b[0m\u001b[0mexperimental_get_tracing_count\u001b[0m\u001b[0;34m(\u001b[0m\u001b[0;34m)\u001b[0m\u001b[0;34m\u001b[0m\u001b[0;34m\u001b[0m\u001b[0m\n",
            "\u001b[0;32m/usr/local/lib/python3.7/dist-packages/tensorflow/python/eager/def_function.py\u001b[0m in \u001b[0;36m_call\u001b[0;34m(self, *args, **kwds)\u001b[0m\n\u001b[1;32m    945\u001b[0m       \u001b[0;31m# In this case we have created variables on the first call, so we run the\u001b[0m\u001b[0;34m\u001b[0m\u001b[0;34m\u001b[0m\u001b[0;34m\u001b[0m\u001b[0m\n\u001b[1;32m    946\u001b[0m       \u001b[0;31m# defunned version which is guaranteed to never create variables.\u001b[0m\u001b[0;34m\u001b[0m\u001b[0;34m\u001b[0m\u001b[0;34m\u001b[0m\u001b[0m\n\u001b[0;32m--> 947\u001b[0;31m       \u001b[0;32mreturn\u001b[0m \u001b[0mself\u001b[0m\u001b[0;34m.\u001b[0m\u001b[0m_stateless_fn\u001b[0m\u001b[0;34m(\u001b[0m\u001b[0;34m*\u001b[0m\u001b[0margs\u001b[0m\u001b[0;34m,\u001b[0m \u001b[0;34m**\u001b[0m\u001b[0mkwds\u001b[0m\u001b[0;34m)\u001b[0m  \u001b[0;31m# pylint: disable=not-callable\u001b[0m\u001b[0;34m\u001b[0m\u001b[0;34m\u001b[0m\u001b[0m\n\u001b[0m\u001b[1;32m    948\u001b[0m     \u001b[0;32melif\u001b[0m \u001b[0mself\u001b[0m\u001b[0;34m.\u001b[0m\u001b[0m_stateful_fn\u001b[0m \u001b[0;32mis\u001b[0m \u001b[0;32mnot\u001b[0m \u001b[0;32mNone\u001b[0m\u001b[0;34m:\u001b[0m\u001b[0;34m\u001b[0m\u001b[0;34m\u001b[0m\u001b[0m\n\u001b[1;32m    949\u001b[0m       \u001b[0;31m# Release the lock early so that multiple threads can perform the call\u001b[0m\u001b[0;34m\u001b[0m\u001b[0;34m\u001b[0m\u001b[0;34m\u001b[0m\u001b[0m\n",
            "\u001b[0;32m/usr/local/lib/python3.7/dist-packages/tensorflow/python/eager/function.py\u001b[0m in \u001b[0;36m__call__\u001b[0;34m(self, *args, **kwargs)\u001b[0m\n\u001b[1;32m   2955\u001b[0m        filtered_flat_args) = self._maybe_define_function(args, kwargs)\n\u001b[1;32m   2956\u001b[0m     return graph_function._call_flat(\n\u001b[0;32m-> 2957\u001b[0;31m         filtered_flat_args, captured_inputs=graph_function.captured_inputs)  # pylint: disable=protected-access\n\u001b[0m\u001b[1;32m   2958\u001b[0m \u001b[0;34m\u001b[0m\u001b[0m\n\u001b[1;32m   2959\u001b[0m   \u001b[0;34m@\u001b[0m\u001b[0mproperty\u001b[0m\u001b[0;34m\u001b[0m\u001b[0;34m\u001b[0m\u001b[0m\n",
            "\u001b[0;32m/usr/local/lib/python3.7/dist-packages/tensorflow/python/eager/function.py\u001b[0m in \u001b[0;36m_call_flat\u001b[0;34m(self, args, captured_inputs, cancellation_manager)\u001b[0m\n\u001b[1;32m   1852\u001b[0m       \u001b[0;31m# No tape is watching; skip to running the function.\u001b[0m\u001b[0;34m\u001b[0m\u001b[0;34m\u001b[0m\u001b[0;34m\u001b[0m\u001b[0m\n\u001b[1;32m   1853\u001b[0m       return self._build_call_outputs(self._inference_function.call(\n\u001b[0;32m-> 1854\u001b[0;31m           ctx, args, cancellation_manager=cancellation_manager))\n\u001b[0m\u001b[1;32m   1855\u001b[0m     forward_backward = self._select_forward_and_backward_functions(\n\u001b[1;32m   1856\u001b[0m         \u001b[0margs\u001b[0m\u001b[0;34m,\u001b[0m\u001b[0;34m\u001b[0m\u001b[0;34m\u001b[0m\u001b[0m\n",
            "\u001b[0;32m/usr/local/lib/python3.7/dist-packages/tensorflow/python/eager/function.py\u001b[0m in \u001b[0;36mcall\u001b[0;34m(self, ctx, args, cancellation_manager)\u001b[0m\n\u001b[1;32m    502\u001b[0m               \u001b[0minputs\u001b[0m\u001b[0;34m=\u001b[0m\u001b[0margs\u001b[0m\u001b[0;34m,\u001b[0m\u001b[0;34m\u001b[0m\u001b[0;34m\u001b[0m\u001b[0m\n\u001b[1;32m    503\u001b[0m               \u001b[0mattrs\u001b[0m\u001b[0;34m=\u001b[0m\u001b[0mattrs\u001b[0m\u001b[0;34m,\u001b[0m\u001b[0;34m\u001b[0m\u001b[0;34m\u001b[0m\u001b[0m\n\u001b[0;32m--> 504\u001b[0;31m               ctx=ctx)\n\u001b[0m\u001b[1;32m    505\u001b[0m         \u001b[0;32melse\u001b[0m\u001b[0;34m:\u001b[0m\u001b[0;34m\u001b[0m\u001b[0;34m\u001b[0m\u001b[0m\n\u001b[1;32m    506\u001b[0m           outputs = execute.execute_with_cancellation(\n",
            "\u001b[0;32m/usr/local/lib/python3.7/dist-packages/tensorflow/python/eager/execute.py\u001b[0m in \u001b[0;36mquick_execute\u001b[0;34m(op_name, num_outputs, inputs, attrs, ctx, name)\u001b[0m\n\u001b[1;32m     53\u001b[0m     \u001b[0mctx\u001b[0m\u001b[0;34m.\u001b[0m\u001b[0mensure_initialized\u001b[0m\u001b[0;34m(\u001b[0m\u001b[0;34m)\u001b[0m\u001b[0;34m\u001b[0m\u001b[0;34m\u001b[0m\u001b[0m\n\u001b[1;32m     54\u001b[0m     tensors = pywrap_tfe.TFE_Py_Execute(ctx._handle, device_name, op_name,\n\u001b[0;32m---> 55\u001b[0;31m                                         inputs, attrs, num_outputs)\n\u001b[0m\u001b[1;32m     56\u001b[0m   \u001b[0;32mexcept\u001b[0m \u001b[0mcore\u001b[0m\u001b[0;34m.\u001b[0m\u001b[0m_NotOkStatusException\u001b[0m \u001b[0;32mas\u001b[0m \u001b[0me\u001b[0m\u001b[0;34m:\u001b[0m\u001b[0;34m\u001b[0m\u001b[0;34m\u001b[0m\u001b[0m\n\u001b[1;32m     57\u001b[0m     \u001b[0;32mif\u001b[0m \u001b[0mname\u001b[0m \u001b[0;32mis\u001b[0m \u001b[0;32mnot\u001b[0m \u001b[0;32mNone\u001b[0m\u001b[0;34m:\u001b[0m\u001b[0;34m\u001b[0m\u001b[0;34m\u001b[0m\u001b[0m\n",
            "\u001b[0;31mKeyboardInterrupt\u001b[0m: "
          ]
        }
      ],
      "source": [
        "\n",
        "# noinspection PyArgumentEqualDefault\n",
        "model = Sequential([\n",
        "    TCN(input_shape=(lookback_window, 1),\n",
        "        kernel_size=2,\n",
        "        use_skip_connections=False,\n",
        "        use_batch_norm=False,\n",
        "        use_weight_norm=False,\n",
        "        use_layer_norm=False\n",
        "        ),\n",
        "    Dense(pred_window, activation='linear')\n",
        "])\n",
        "\n",
        "model.summary()\n",
        "model.compile('adam', 'mae')\n",
        "\n",
        "print('Train...')\n",
        "model.fit(x, y, epochs=100, verbose=2)\n"
      ]
    },
    {
      "cell_type": "code",
      "execution_count": null,
      "metadata": {
        "id": "yKZRoqq0vqEf"
      },
      "outputs": [],
      "source": [
        "\n",
        "p = model.predict(x)\n",
        "p = p.flatten()\n",
        "y = y.flatten()\n",
        "p = p[:100]\n",
        "y = y[:100]\n",
        "plt.plot(p)\n",
        "plt.plot(y)\n",
        "plt.title('Monthly Milk Production (in pounds)')\n",
        "plt.legend(['predicted', 'actual'])\n",
        "plt.show()"
      ]
    },
    {
      "cell_type": "code",
      "execution_count": null,
      "metadata": {
        "id": "1pmCgKyXvarn"
      },
      "outputs": [],
      "source": [
        "x.shape,y.shape"
      ]
    },
    {
      "cell_type": "markdown",
      "source": [
        "# TCN summary\n",
        "## 1.  训练集即测试集（仅仅是过拟合）\n",
        "## 2.  3-step-tcn 是将3步变成三维进行预测，从原理上有点小问题，即通过1-12预测13-15；但最好还是return_sequence = true,然后迭代预测，此时也是通过1-12预测13-15，没有新的点加入（即非自回归预测模型 ACF PACF）。"
      ],
      "metadata": {
        "id": "_0K-YV2fBcKj"
      }
    },
    {
      "cell_type": "markdown",
      "source": [
        "# lstm 1 step"
      ],
      "metadata": {
        "id": "ewXTKFw9_4Up"
      }
    },
    {
      "cell_type": "markdown",
      "source": [
        "![Imgur](https://i.imgur.com/FAGMvlc.png)\n",
        "https://en.wikipedia.org/wiki/Long_short-term_memory\n",
        "\n",
        "hidden state(also known as output of lstm units)restricted from minus one to one!!"
      ],
      "metadata": {
        "id": "l6g--2OLNDfb"
      }
    },
    {
      "cell_type": "code",
      "source": [
        "milk = pd.read_csv('/content/drive/MyDrive/Network Analytics.csv', index_col=0, parse_dates=True)\n",
        "milk = normalization(milk)\n",
        "print(milk.head())\n",
        "milk = milk.values  # just keep np array here for simplicity."
      ],
      "metadata": {
        "colab": {
          "base_uri": "https://localhost:8080/"
        },
        "id": "AV3RauNGCbJT",
        "outputId": "0a581c59-2ef7-4ca3-f2d8-d3053444222e"
      },
      "execution_count": 179,
      "outputs": [
        {
          "output_type": "stream",
          "name": "stdout",
          "text": [
            "                     OutboundUtilzation (%)\n",
            "Timestamp                                  \n",
            "2017-10-10 07:01:00                0.962485\n",
            "2017-10-10 07:21:00                0.991176\n",
            "2017-10-10 07:26:00                0.972936\n",
            "2017-10-10 07:31:00                0.980330\n",
            "2017-10-10 07:36:00                0.995308\n"
          ]
        }
      ]
    },
    {
      "cell_type": "code",
      "source": [
        "\n",
        "# milk = pd.read_csv('/content/drive/MyDrive/Network Analytics.csv', index_col=0, parse_dates=True)\n",
        "# milk = normalization(milk)  #数据标准归一化\n",
        "# print(milk.head())\n",
        "\n",
        "lookback_window = 64  # months.\n",
        "\n",
        "# milk = milk.values  # just keep np array here for simplicity.\n",
        "\n",
        "x, y = [], []\n",
        "for i in range(lookback_window, len(milk)):\n",
        "    x.append(milk[i - lookback_window:i])\n",
        "    y.append(milk[i])\n",
        "x = np.array(x)\n",
        "y = np.array(y)\n",
        "\n",
        "print(x.shape)\n",
        "print(y.shape)\n"
      ],
      "metadata": {
        "id": "3-1jZY5m_9pr",
        "colab": {
          "base_uri": "https://localhost:8080/"
        },
        "outputId": "7660d7c4-27fc-4c72-ff36-04d2400b87a9"
      },
      "execution_count": 180,
      "outputs": [
        {
          "output_type": "stream",
          "name": "stdout",
          "text": [
            "(25567, 64, 1)\n",
            "(25567, 1)\n"
          ]
        }
      ]
    },
    {
      "cell_type": "code",
      "source": [
        "y\n"
      ],
      "metadata": {
        "id": "ZXy_21_0Kf-m"
      },
      "execution_count": null,
      "outputs": []
    },
    {
      "cell_type": "code",
      "source": [
        "\n",
        "# noinspection PyArgumentEqualDefault\n",
        "model = Sequential([tf.keras.layers.LSTM(1,input_shape=(lookback_window, 1)),\n",
        "      ])\n",
        "\n",
        "model.summary()\n",
        "model.compile('adam', 'mae')\n",
        "\n",
        "print('Train...')\n",
        "model.fit(x, y, epochs=20, verbose=2, callbacks=[history])\n"
      ],
      "metadata": {
        "id": "0DM4ZXetBsKB",
        "colab": {
          "base_uri": "https://localhost:8080/"
        },
        "outputId": "e58afc56-620c-48d0-eda1-4e998aa05322"
      },
      "execution_count": 181,
      "outputs": [
        {
          "output_type": "stream",
          "name": "stdout",
          "text": [
            "Model: \"sequential_38\"\n",
            "_________________________________________________________________\n",
            " Layer (type)                Output Shape              Param #   \n",
            "=================================================================\n",
            " lstm_38 (LSTM)              (None, 1)                 12        \n",
            "                                                                 \n",
            "=================================================================\n",
            "Total params: 12\n",
            "Trainable params: 12\n",
            "Non-trainable params: 0\n",
            "_________________________________________________________________\n",
            "Train...\n",
            "Epoch 1/20\n",
            "799/799 - 5s - loss: 0.4999 - 5s/epoch - 7ms/step\n",
            "Epoch 2/20\n",
            "799/799 - 3s - loss: 0.1915 - 3s/epoch - 4ms/step\n",
            "Epoch 3/20\n",
            "799/799 - 3s - loss: 0.1309 - 3s/epoch - 4ms/step\n",
            "Epoch 4/20\n",
            "799/799 - 3s - loss: 0.0943 - 3s/epoch - 4ms/step\n",
            "Epoch 5/20\n",
            "799/799 - 3s - loss: 0.0870 - 3s/epoch - 4ms/step\n",
            "Epoch 6/20\n",
            "799/799 - 3s - loss: 0.0830 - 3s/epoch - 4ms/step\n",
            "Epoch 7/20\n",
            "799/799 - 3s - loss: 0.0795 - 3s/epoch - 4ms/step\n",
            "Epoch 8/20\n",
            "799/799 - 3s - loss: 0.0765 - 3s/epoch - 4ms/step\n",
            "Epoch 9/20\n",
            "799/799 - 3s - loss: 0.0738 - 3s/epoch - 4ms/step\n",
            "Epoch 10/20\n",
            "799/799 - 3s - loss: 0.0715 - 3s/epoch - 4ms/step\n",
            "Epoch 11/20\n",
            "799/799 - 3s - loss: 0.0694 - 3s/epoch - 4ms/step\n",
            "Epoch 12/20\n",
            "799/799 - 3s - loss: 0.0677 - 3s/epoch - 4ms/step\n",
            "Epoch 13/20\n",
            "799/799 - 3s - loss: 0.0663 - 3s/epoch - 4ms/step\n",
            "Epoch 14/20\n",
            "799/799 - 3s - loss: 0.0651 - 3s/epoch - 4ms/step\n",
            "Epoch 15/20\n",
            "799/799 - 3s - loss: 0.0642 - 3s/epoch - 4ms/step\n",
            "Epoch 16/20\n",
            "799/799 - 3s - loss: 0.0635 - 3s/epoch - 4ms/step\n",
            "Epoch 17/20\n",
            "799/799 - 3s - loss: 0.0629 - 3s/epoch - 4ms/step\n",
            "Epoch 18/20\n",
            "799/799 - 3s - loss: 0.0625 - 3s/epoch - 4ms/step\n",
            "Epoch 19/20\n",
            "799/799 - 3s - loss: 0.0622 - 3s/epoch - 4ms/step\n",
            "Epoch 20/20\n",
            "799/799 - 3s - loss: 0.0620 - 3s/epoch - 4ms/step\n"
          ]
        },
        {
          "output_type": "execute_result",
          "data": {
            "text/plain": [
              "<keras.callbacks.History at 0x7fdc5f34e650>"
            ]
          },
          "metadata": {},
          "execution_count": 181
        }
      ]
    },
    {
      "cell_type": "code",
      "source": [
        "y[:100]"
      ],
      "metadata": {
        "colab": {
          "base_uri": "https://localhost:8080/"
        },
        "id": "nJ7zo2n3LErX",
        "outputId": "2222aafd-a0af-4b4f-bacc-d7a5c221de97"
      },
      "execution_count": 182,
      "outputs": [
        {
          "output_type": "execute_result",
          "data": {
            "text/plain": [
              "array([[0.51176079],\n",
              "       [0.48188243],\n",
              "       [0.87708541],\n",
              "       ...,\n",
              "       [0.16329294],\n",
              "       [0.36659919],\n",
              "       [0.43514831]])"
            ]
          },
          "metadata": {},
          "execution_count": 182
        }
      ]
    },
    {
      "cell_type": "code",
      "source": [
        "\n",
        "p = model.predict(x)\n",
        "p = p[:100,-1]\n",
        "y = y[:100]\n",
        "plt.plot(p)\n",
        "plt.plot(y)\n",
        "plt.title('Monthly Milk Production (in pounds)')\n",
        "plt.legend(['predicted', 'actual'])\n",
        "plt.show()\n",
        "\n",
        "\n",
        "plt.plot(history.history['loss'][:10])\n",
        "plt.title('loss')\n",
        "plt.legend(['loss',])\n",
        "plt.show()\n"
      ],
      "metadata": {
        "id": "6W87oa5CBx40",
        "colab": {
          "base_uri": "https://localhost:8080/",
          "height": 545
        },
        "outputId": "64fc51f0-e9c3-44b4-b298-5d01c09b41d9"
      },
      "execution_count": 183,
      "outputs": [
        {
          "output_type": "display_data",
          "data": {
            "text/plain": [
              "<Figure size 432x288 with 1 Axes>"
            ],
            "image/png": "[encoded data removed]"
          },
          "metadata": {
            "needs_background": "light"
          }
        },
        {
          "output_type": "display_data",
          "data": {
            "text/plain": [
              "<Figure size 432x288 with 1 Axes>"
            ],
            "image/png": "[encoded data removed]"
          },
          "metadata": {
            "needs_background": "light"
          }
        }
      ]
    },
    {
      "cell_type": "markdown",
      "source": [
        "因为只有12个可调参数，根本学习不到特征\n"
      ],
      "metadata": {
        "id": "4_SFlCBcDj9A"
      }
    },
    {
      "cell_type": "markdown",
      "source": [
        "# lstm 3 step"
      ],
      "metadata": {
        "id": "ArSGGCxyEklT"
      }
    },
    {
      "cell_type": "code",
      "source": [
        "def normalization(data):\n",
        "    _range = np.max(data) - np.min(data)\n",
        "    return ((data - np.min(data)) / _range)"
      ],
      "metadata": {
        "id": "lixdbF27Lz0q"
      },
      "execution_count": null,
      "outputs": []
    },
    {
      "cell_type": "code",
      "execution_count": null,
      "metadata": {
        "id": "JdycwSY-J_PS"
      },
      "outputs": [],
      "source": [
        "\n",
        "milk = pd.read_csv('/content/drive/MyDrive/Network Analytics.csv', index_col=0, parse_dates=True)\n",
        "milk = normalization(milk)  #数据标准归一化\n",
        "print(milk.head())\n",
        "\n",
        "lookback_window = 64  # months.\n",
        "pred_window = 3  # months.\n",
        "\n",
        "milk = milk.values # just keep np array here for simplicity.\n",
        "\n",
        "x, y = [], []\n",
        "for i in range(lookback_window, len(milk)-pred_window,pred_window):\n",
        "    x.append(milk[i - lookback_window:i])\n",
        "    y.append(milk[i:i+pred_window])\n",
        "\n",
        "x,y\n",
        "x = np.array(x,dtype=object).astype(np.float32)\n",
        "y = np.array(y,dtype=object).astype(np.float32)\n",
        "y = y.squeeze()\n",
        "\n",
        "\n",
        "\n",
        "\n",
        "\n",
        "np.set_printoptions(threshold=5)\n",
        "print(x.shape)\n",
        "print(y.shape)"
      ]
    },
    {
      "cell_type": "code",
      "execution_count": null,
      "metadata": {
        "id": "aWMoCLpoKDXx"
      },
      "outputs": [],
      "source": [
        "\n",
        "# noinspection PyArgumentEqualDefault\n",
        "model = Sequential([tf.keras.layers.LSTM(3,input_shape=(lookback_window, 1))\n",
        "\n",
        "])\n",
        "\n",
        "model.summary()\n",
        "model.compile('adam', 'mae')\n",
        "\n",
        "print('Train...')\n",
        "model.fit(x, y, epochs=100, verbose=2)\n"
      ]
    },
    {
      "cell_type": "code",
      "execution_count": null,
      "metadata": {
        "id": "cnCcmTMsKNDT"
      },
      "outputs": [],
      "source": [
        "\n",
        "p = model.predict(x)\n",
        "p = p.flatten()\n",
        "y = y.flatten()\n",
        "plt.plot(p)\n",
        "plt.plot(y)\n",
        "plt.title('Monthly Milk Production (in pounds)')\n",
        "plt.legend(['predicted', 'actual'])\n",
        "plt.show()"
      ]
    }
  ],
  "metadata": {
    "accelerator": "GPU",
    "colab": {
      "machine_shape": "hm",
      "name": "TCN_report.ipynb",
      "provenance": [],
      "collapsed_sections": [
        "uLG0O8SJvarg"
      ],
      "mount_file_id": "18SGD7Wr29fEgcn8tVcF_W3SIITmFOMN4",
      "authorship_tag": "ABX9TyNsITzmTN6jaMPi6U6L9zy/",
      "include_colab_link": true
    },
    "kernelspec": {
      "display_name": "Python 3",
      "name": "python3"
    },
    "language_info": {
      "name": "python"
    }
  },
  "nbformat": 4,
  "nbformat_minor": 0
}