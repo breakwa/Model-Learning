{
  "cells": [
    {
      "cell_type": "markdown",
      "metadata": {
        "id": "gt8-lqLPJafi"
      },
      "source": [
        "# config"
      ]
    },
    {
      "cell_type": "code",
      "execution_count": 1,
      "metadata": {
        "colab": {
          "base_uri": "https://localhost:8080/"
        },
        "id": "34ghg7-VDv09",
        "outputId": "4ab468e0-d261-4c29-aa48-bd84749d9d3f"
      },
      "outputs": [
        {
          "output_type": "stream",
          "name": "stdout",
          "text": [
            "Looking in indexes: https://pypi.org/simple, https://us-python.pkg.dev/colab-wheels/public/simple/\n",
            "Collecting git+https://github.com/philipperemy/keras-tcn.git@master\n",
            "  Cloning https://github.com/philipperemy/keras-tcn.git (to revision master) to /tmp/pip-req-build-_ls7d1k_\n",
            "  Running command git clone -q https://github.com/philipperemy/keras-tcn.git /tmp/pip-req-build-_ls7d1k_\n",
            "Requirement already satisfied: numpy in /usr/local/lib/python3.7/dist-packages (from keras-tcn==3.4.4) (1.21.6)\n",
            "Requirement already satisfied: tensorflow in /usr/local/lib/python3.7/dist-packages (from keras-tcn==3.4.4) (2.8.2+zzzcolab20220527125636)\n",
            "Collecting tensorflow_addons\n",
            "  Downloading tensorflow_addons-0.17.1-cp37-cp37m-manylinux_2_17_x86_64.manylinux2014_x86_64.whl (1.1 MB)\n",
            "\u001b[K     |████████████████████████████████| 1.1 MB 12.8 MB/s \n",
            "\u001b[?25hRequirement already satisfied: keras-preprocessing>=1.1.1 in /usr/local/lib/python3.7/dist-packages (from tensorflow->keras-tcn==3.4.4) (1.1.2)\n",
            "Requirement already satisfied: six>=1.12.0 in /usr/local/lib/python3.7/dist-packages (from tensorflow->keras-tcn==3.4.4) (1.15.0)\n",
            "Requirement already satisfied: h5py>=2.9.0 in /usr/local/lib/python3.7/dist-packages (from tensorflow->keras-tcn==3.4.4) (3.1.0)\n",
            "Requirement already satisfied: tensorflow-io-gcs-filesystem>=0.23.1 in /usr/local/lib/python3.7/dist-packages (from tensorflow->keras-tcn==3.4.4) (0.26.0)\n",
            "Requirement already satisfied: tensorboard<2.9,>=2.8 in /usr/local/lib/python3.7/dist-packages (from tensorflow->keras-tcn==3.4.4) (2.8.0)\n",
            "Requirement already satisfied: tensorflow-estimator<2.9,>=2.8 in /usr/local/lib/python3.7/dist-packages (from tensorflow->keras-tcn==3.4.4) (2.8.0)\n",
            "Requirement already satisfied: termcolor>=1.1.0 in /usr/local/lib/python3.7/dist-packages (from tensorflow->keras-tcn==3.4.4) (1.1.0)\n",
            "Requirement already satisfied: opt-einsum>=2.3.2 in /usr/local/lib/python3.7/dist-packages (from tensorflow->keras-tcn==3.4.4) (3.3.0)\n",
            "Requirement already satisfied: keras<2.9,>=2.8.0rc0 in /usr/local/lib/python3.7/dist-packages (from tensorflow->keras-tcn==3.4.4) (2.8.0)\n",
            "Requirement already satisfied: google-pasta>=0.1.1 in /usr/local/lib/python3.7/dist-packages (from tensorflow->keras-tcn==3.4.4) (0.2.0)\n",
            "Requirement already satisfied: flatbuffers>=1.12 in /usr/local/lib/python3.7/dist-packages (from tensorflow->keras-tcn==3.4.4) (2.0)\n",
            "Requirement already satisfied: libclang>=9.0.1 in /usr/local/lib/python3.7/dist-packages (from tensorflow->keras-tcn==3.4.4) (14.0.1)\n",
            "Requirement already satisfied: typing-extensions>=3.6.6 in /usr/local/lib/python3.7/dist-packages (from tensorflow->keras-tcn==3.4.4) (4.1.1)\n",
            "Requirement already satisfied: protobuf<3.20,>=3.9.2 in /usr/local/lib/python3.7/dist-packages (from tensorflow->keras-tcn==3.4.4) (3.17.3)\n",
            "Requirement already satisfied: gast>=0.2.1 in /usr/local/lib/python3.7/dist-packages (from tensorflow->keras-tcn==3.4.4) (0.5.3)\n",
            "Requirement already satisfied: setuptools in /usr/local/lib/python3.7/dist-packages (from tensorflow->keras-tcn==3.4.4) (57.4.0)\n",
            "Requirement already satisfied: wrapt>=1.11.0 in /usr/local/lib/python3.7/dist-packages (from tensorflow->keras-tcn==3.4.4) (1.14.1)\n",
            "Requirement already satisfied: astunparse>=1.6.0 in /usr/local/lib/python3.7/dist-packages (from tensorflow->keras-tcn==3.4.4) (1.6.3)\n",
            "Requirement already satisfied: absl-py>=0.4.0 in /usr/local/lib/python3.7/dist-packages (from tensorflow->keras-tcn==3.4.4) (1.1.0)\n",
            "Requirement already satisfied: grpcio<2.0,>=1.24.3 in /usr/local/lib/python3.7/dist-packages (from tensorflow->keras-tcn==3.4.4) (1.46.3)\n",
            "Requirement already satisfied: wheel<1.0,>=0.23.0 in /usr/local/lib/python3.7/dist-packages (from astunparse>=1.6.0->tensorflow->keras-tcn==3.4.4) (0.37.1)\n",
            "Requirement already satisfied: cached-property in /usr/local/lib/python3.7/dist-packages (from h5py>=2.9.0->tensorflow->keras-tcn==3.4.4) (1.5.2)\n",
            "Requirement already satisfied: tensorboard-plugin-wit>=1.6.0 in /usr/local/lib/python3.7/dist-packages (from tensorboard<2.9,>=2.8->tensorflow->keras-tcn==3.4.4) (1.8.1)\n",
            "Requirement already satisfied: werkzeug>=0.11.15 in /usr/local/lib/python3.7/dist-packages (from tensorboard<2.9,>=2.8->tensorflow->keras-tcn==3.4.4) (1.0.1)\n",
            "Requirement already satisfied: requests<3,>=2.21.0 in /usr/local/lib/python3.7/dist-packages (from tensorboard<2.9,>=2.8->tensorflow->keras-tcn==3.4.4) (2.23.0)\n",
            "Requirement already satisfied: google-auth-oauthlib<0.5,>=0.4.1 in /usr/local/lib/python3.7/dist-packages (from tensorboard<2.9,>=2.8->tensorflow->keras-tcn==3.4.4) (0.4.6)\n",
            "Requirement already satisfied: markdown>=2.6.8 in /usr/local/lib/python3.7/dist-packages (from tensorboard<2.9,>=2.8->tensorflow->keras-tcn==3.4.4) (3.3.7)\n",
            "Requirement already satisfied: google-auth<3,>=1.6.3 in /usr/local/lib/python3.7/dist-packages (from tensorboard<2.9,>=2.8->tensorflow->keras-tcn==3.4.4) (1.35.0)\n",
            "Requirement already satisfied: tensorboard-data-server<0.7.0,>=0.6.0 in /usr/local/lib/python3.7/dist-packages (from tensorboard<2.9,>=2.8->tensorflow->keras-tcn==3.4.4) (0.6.1)\n",
            "Requirement already satisfied: rsa<5,>=3.1.4 in /usr/local/lib/python3.7/dist-packages (from google-auth<3,>=1.6.3->tensorboard<2.9,>=2.8->tensorflow->keras-tcn==3.4.4) (4.8)\n",
            "Requirement already satisfied: cachetools<5.0,>=2.0.0 in /usr/local/lib/python3.7/dist-packages (from google-auth<3,>=1.6.3->tensorboard<2.9,>=2.8->tensorflow->keras-tcn==3.4.4) (4.2.4)\n",
            "Requirement already satisfied: pyasn1-modules>=0.2.1 in /usr/local/lib/python3.7/dist-packages (from google-auth<3,>=1.6.3->tensorboard<2.9,>=2.8->tensorflow->keras-tcn==3.4.4) (0.2.8)\n",
            "Requirement already satisfied: requests-oauthlib>=0.7.0 in /usr/local/lib/python3.7/dist-packages (from google-auth-oauthlib<0.5,>=0.4.1->tensorboard<2.9,>=2.8->tensorflow->keras-tcn==3.4.4) (1.3.1)\n",
            "Requirement already satisfied: importlib-metadata>=4.4 in /usr/local/lib/python3.7/dist-packages (from markdown>=2.6.8->tensorboard<2.9,>=2.8->tensorflow->keras-tcn==3.4.4) (4.11.4)\n",
            "Requirement already satisfied: zipp>=0.5 in /usr/local/lib/python3.7/dist-packages (from importlib-metadata>=4.4->markdown>=2.6.8->tensorboard<2.9,>=2.8->tensorflow->keras-tcn==3.4.4) (3.8.0)\n",
            "Requirement already satisfied: pyasn1<0.5.0,>=0.4.6 in /usr/local/lib/python3.7/dist-packages (from pyasn1-modules>=0.2.1->google-auth<3,>=1.6.3->tensorboard<2.9,>=2.8->tensorflow->keras-tcn==3.4.4) (0.4.8)\n",
            "Requirement already satisfied: idna<3,>=2.5 in /usr/local/lib/python3.7/dist-packages (from requests<3,>=2.21.0->tensorboard<2.9,>=2.8->tensorflow->keras-tcn==3.4.4) (2.10)\n",
            "Requirement already satisfied: chardet<4,>=3.0.2 in /usr/local/lib/python3.7/dist-packages (from requests<3,>=2.21.0->tensorboard<2.9,>=2.8->tensorflow->keras-tcn==3.4.4) (3.0.4)\n",
            "Requirement already satisfied: urllib3!=1.25.0,!=1.25.1,<1.26,>=1.21.1 in /usr/local/lib/python3.7/dist-packages (from requests<3,>=2.21.0->tensorboard<2.9,>=2.8->tensorflow->keras-tcn==3.4.4) (1.24.3)\n",
            "Requirement already satisfied: certifi>=2017.4.17 in /usr/local/lib/python3.7/dist-packages (from requests<3,>=2.21.0->tensorboard<2.9,>=2.8->tensorflow->keras-tcn==3.4.4) (2022.6.15)\n",
            "Requirement already satisfied: oauthlib>=3.0.0 in /usr/local/lib/python3.7/dist-packages (from requests-oauthlib>=0.7.0->google-auth-oauthlib<0.5,>=0.4.1->tensorboard<2.9,>=2.8->tensorflow->keras-tcn==3.4.4) (3.2.0)\n",
            "Requirement already satisfied: packaging in /usr/local/lib/python3.7/dist-packages (from tensorflow_addons->keras-tcn==3.4.4) (21.3)\n",
            "Requirement already satisfied: typeguard>=2.7 in /usr/local/lib/python3.7/dist-packages (from tensorflow_addons->keras-tcn==3.4.4) (2.7.1)\n",
            "Requirement already satisfied: pyparsing!=3.0.5,>=2.0.2 in /usr/local/lib/python3.7/dist-packages (from packaging->tensorflow_addons->keras-tcn==3.4.4) (3.0.9)\n",
            "Building wheels for collected packages: keras-tcn\n",
            "  Building wheel for keras-tcn (setup.py) ... \u001b[?25l\u001b[?25hdone\n",
            "  Created wheel for keras-tcn: filename=keras_tcn-3.4.4-py3-none-any.whl size=13744 sha256=c596e37cabab2dba3cf381ca812cd0f369d439108fd9913a030761fdbe068779\n",
            "  Stored in directory: /tmp/pip-ephem-wheel-cache-8044eibx/wheels/3a/fc/89/246d0373172708e0d1f0248fac960ff98c31ddd05f3f56390c\n",
            "Successfully built keras-tcn\n",
            "Installing collected packages: tensorflow-addons, keras-tcn\n",
            "Successfully installed keras-tcn-3.4.4 tensorflow-addons-0.17.1\n"
          ]
        }
      ],
      "source": [
        "\n",
        "!pip install git+https://github.com/philipperemy/keras-tcn.git@master\n"
      ]
    },
    {
      "cell_type": "code",
      "execution_count": 46,
      "metadata": {
        "id": "-hAmB8ooDo6m"
      },
      "outputs": [],
      "source": [
        "import matplotlib.pyplot as plt\n",
        "import numpy as np\n",
        "import pandas as pd\n",
        "from tensorflow.keras import Sequential\n",
        "from tensorflow.keras.layers import Dense\n",
        "from tensorflow import keras\n",
        "import tensorflow as tf\n",
        "from tcn.tcn import TCN"
      ]
    },
    {
      "cell_type": "code",
      "source": [
        "import os\n",
        "from google.colab import drive\n",
        "drive.mount('/content/drive')\n",
        "os.environ['KAGGLE_CONFIG_DIR'] = '/content/drive/MyDrive/kaggle/' #注意kaggle文件夹包含json文件\n",
        " \n",
        "os.chdir('/content/drive/MyDrive/kaggle/') #切换到kaggle文件夹"
      ],
      "metadata": {
        "colab": {
          "base_uri": "https://localhost:8080/"
        },
        "id": "iN6W-EfSq-jR",
        "outputId": "9ebcd294-129c-425e-c326-24e575b75f10"
      },
      "execution_count": 4,
      "outputs": [
        {
          "output_type": "stream",
          "name": "stdout",
          "text": [
            "Mounted at /content/drive\n"
          ]
        }
      ]
    },
    {
      "cell_type": "code",
      "source": [
        "milk = pd.read_csv('/content/drive/MyDrive/Network Analytics.csv', index_col=0, parse_dates=True)\n",
        "\n",
        "print(milk.head())\n",
        "milk = milk.values  # just keep np array here for simplicity."
      ],
      "metadata": {
        "colab": {
          "base_uri": "https://localhost:8080/"
        },
        "id": "NMhJyeSK6FEv",
        "outputId": "58bd8d1c-7531-4c39-eb5f-66d2860f670b"
      },
      "execution_count": 17,
      "outputs": [
        {
          "output_type": "stream",
          "name": "stdout",
          "text": [
            "                     OutboundUtilzation (%)\n",
            "Timestamp                                  \n",
            "2017-10-10 07:01:00                 96.2442\n",
            "2017-10-10 07:21:00                 99.1131\n",
            "2017-10-10 07:26:00                 97.2892\n",
            "2017-10-10 07:31:00                 98.0286\n",
            "2017-10-10 07:36:00                 99.5263\n"
          ]
        }
      ]
    },
    {
      "cell_type": "code",
      "source": [
        "from keras.callbacks import History \n",
        "history = History()"
      ],
      "metadata": {
        "id": "7HZTz0ea6F64"
      },
      "execution_count": 37,
      "outputs": []
    },
    {
      "cell_type": "markdown",
      "metadata": {
        "id": "V0zFTtXVJgGX"
      },
      "source": [
        "# 1 step pred"
      ]
    },
    {
      "cell_type": "code",
      "execution_count": 61,
      "metadata": {
        "id": "qChc5U-0DgUB",
        "colab": {
          "base_uri": "https://localhost:8080/",
          "height": 1000
        },
        "outputId": "51bb64ac-5854-4beb-e5ca-eaab7331db1c"
      },
      "outputs": [
        {
          "output_type": "stream",
          "name": "stdout",
          "text": [
            "(25567, 64, 1)\n",
            "(25567, 1)\n",
            "Model: \"sequential_19\"\n",
            "_________________________________________________________________\n",
            " Layer (type)                Output Shape              Param #   \n",
            "=================================================================\n",
            " tcn_41 (TCN)                (None, 64)                91136     \n",
            "                                                                 \n",
            " dense_48 (Dense)            (None, 1)                 65        \n",
            "                                                                 \n",
            "=================================================================\n",
            "Total params: 91,201\n",
            "Trainable params: 91,201\n",
            "Non-trainable params: 0\n",
            "_________________________________________________________________\n",
            "Train...\n",
            "Epoch 1/10\n",
            "799/799 - 8s - loss: 15.7708 - 8s/epoch - 9ms/step\n",
            "Epoch 2/10\n",
            "799/799 - 6s - loss: 7.3444 - 6s/epoch - 8ms/step\n",
            "Epoch 3/10\n",
            "799/799 - 7s - loss: 6.6029 - 7s/epoch - 9ms/step\n",
            "Epoch 4/10\n",
            "799/799 - 5s - loss: 6.3722 - 5s/epoch - 6ms/step\n",
            "Epoch 5/10\n",
            "799/799 - 5s - loss: 6.3899 - 5s/epoch - 6ms/step\n",
            "Epoch 6/10\n",
            "799/799 - 5s - loss: 6.0884 - 5s/epoch - 6ms/step\n",
            "Epoch 7/10\n",
            "799/799 - 5s - loss: 6.0572 - 5s/epoch - 6ms/step\n",
            "Epoch 8/10\n",
            "799/799 - 5s - loss: 5.9328 - 5s/epoch - 6ms/step\n",
            "Epoch 9/10\n",
            "799/799 - 5s - loss: 5.9053 - 5s/epoch - 6ms/step\n",
            "Epoch 10/10\n",
            "799/799 - 5s - loss: 5.9000 - 5s/epoch - 6ms/step\n"
          ]
        },
        {
          "output_type": "display_data",
          "data": {
            "text/plain": [
              "<Figure size 432x288 with 1 Axes>"
            ],
            "image/png": "[encoded data removed]"
          },
          "metadata": {
            "needs_background": "light"
          }
        },
        {
          "output_type": "display_data",
          "data": {
            "text/plain": [
              "<Figure size 432x288 with 1 Axes>"
            ],
            "image/png": "[encoded data removed]"
          },
          "metadata": {
            "needs_background": "light"
          }
        }
      ],
      "source": [
        "# https://datamarket.com/data/set/22ox/monthly-milk-production-pounds-per-cow-jan-62-dec-75#!ds=22ox&display=line\n",
        "\n",
        "\n",
        "##\n",
        "# It's a very naive (toy) example to show how to do time series forecasting.\n",
        "# - There are no training-testing sets here. Everything is training set for simplicity.\n",
        "# - There is no input/output normalization.\n",
        "# - The model is simple.\n",
        "##\n",
        "\n",
        "\n",
        "\n",
        "lookback_window = 64  # months.\n",
        "\n",
        "\n",
        "\n",
        "x, y = [], []\n",
        "for i in range(lookback_window, len(milk)):\n",
        "    x.append(milk[i - lookback_window:i])\n",
        "    y.append(milk[i])\n",
        "x = np.array(x)\n",
        "y = np.array(y)\n",
        "\n",
        "print(x.shape)\n",
        "print(y.shape)\n",
        "\n",
        "# noinspection PyArgumentEqualDefault\n",
        "model = Sequential([\n",
        "    TCN(input_shape=(lookback_window, 1),\n",
        "        kernel_size=2,\n",
        "        use_skip_connections=False,\n",
        "        use_batch_norm=False,\n",
        "        use_weight_norm=False,\n",
        "        use_layer_norm=False\n",
        "        ),\n",
        "    Dense(1, activation='linear')\n",
        "])\n",
        "\n",
        "model.summary()\n",
        "model.compile('adam', 'mae',)\n",
        "\n",
        "print('Train...')\n",
        "model.fit(x, y, epochs=10, verbose=2, callbacks=[history])\n",
        "\n",
        "p = model.predict(x)\n",
        "\n",
        "p = p[:100]\n",
        "y = y[:100]\n",
        "plt.plot(p)\n",
        "plt.plot(y)\n",
        "plt.title('Monthly Milk Production (in pounds)')\n",
        "plt.legend(['predicted', 'actual'])\n",
        "plt.show()\n",
        "\n",
        "\n",
        "plt.plot(history.history['loss'][:10])\n",
        "plt.title('loss')\n",
        "plt.legend(['loss',])\n",
        "plt.show()\n",
        "\n"
      ]
    },
    {
      "cell_type": "code",
      "execution_count": null,
      "metadata": {
        "id": "BVcdH4YTFowB"
      },
      "outputs": [],
      "source": [
        "x.shape,y.shape"
      ]
    },
    {
      "cell_type": "markdown",
      "source": [
        "# try merge curve"
      ],
      "metadata": {
        "id": "lEyleMJQrpnc"
      }
    },
    {
      "cell_type": "code",
      "source": [
        "# https://datamarket.com/data/set/22ox/monthly-milk-production-pounds-per-cow-jan-62-dec-75#!ds=22ox&display=line\n",
        "\n",
        "\n",
        "##\n",
        "# It's a very naive (toy) example to show how to do time series forecasting.\n",
        "# - There are no training-testing sets here. Everything is training set for simplicity.\n",
        "# - There is no input/output normalization.\n",
        "# - The model is simple.\n",
        "##\n",
        "\n",
        "lookback_window = 64  # months.\n",
        "\n",
        "\n",
        "\n",
        "x, y = [], []\n",
        "for i in range(lookback_window, len(milk)):\n",
        "    x.append(milk[i - lookback_window:i])\n",
        "    y.append(milk[i])\n",
        "x = np.array(x)\n",
        "y = np.array(y)\n",
        "\n",
        "print(x.shape)\n",
        "print(y.shape)\n",
        "\n",
        "# noinspection PyArgumentEqualDefault\n",
        "model = Sequential([\n",
        "    TCN(input_shape=(lookback_window, 1),\n",
        "        kernel_size=4,\n",
        "        use_skip_connections=False,\n",
        "        use_batch_norm=False,\n",
        "        use_weight_norm=False,\n",
        "        use_layer_norm=False\n",
        "        ),\n",
        "    Dense(1, activation='linear')\n",
        "])\n",
        "\n",
        "model.summary()\n",
        "model.compile('adam', 'mae')\n",
        "\n",
        "print('Train...')\n",
        "model.fit(x, y, epochs=10, verbose=2, callbacks=[history])\n",
        "\n",
        "p = model.predict(x)\n",
        "\n",
        "p = p[:100]\n",
        "y = y[:100]\n",
        "plt.plot(p)\n",
        "plt.plot(y)\n",
        "plt.title('Monthly Milk Production (in pounds)')\n",
        "plt.legend(['predicted', 'actual'])\n",
        "plt.show()\n",
        "\n",
        "\n",
        "plt.plot(history.history['loss'][:10])\n",
        "plt.title('loss')\n",
        "plt.legend(['loss',])\n",
        "plt.show()\n"
      ],
      "metadata": {
        "colab": {
          "base_uri": "https://localhost:8080/",
          "height": 1000
        },
        "id": "sZ2xyi2hrwF9",
        "outputId": "8f3a4b7a-09c4-4a3e-b022-856f1d085e96"
      },
      "execution_count": 62,
      "outputs": [
        {
          "output_type": "stream",
          "name": "stdout",
          "text": [
            "(25567, 64, 1)\n",
            "(25567, 1)\n",
            "Model: \"sequential_20\"\n",
            "_________________________________________________________________\n",
            " Layer (type)                Output Shape              Param #   \n",
            "=================================================================\n",
            " tcn_42 (TCN)                (None, 64)                181376    \n",
            "                                                                 \n",
            " dense_49 (Dense)            (None, 1)                 65        \n",
            "                                                                 \n",
            "=================================================================\n",
            "Total params: 181,441\n",
            "Trainable params: 181,441\n",
            "Non-trainable params: 0\n",
            "_________________________________________________________________\n",
            "Train...\n",
            "Epoch 1/10\n",
            "799/799 - 8s - loss: 16.2717 - 8s/epoch - 10ms/step\n",
            "Epoch 2/10\n",
            "799/799 - 5s - loss: 7.2780 - 5s/epoch - 7ms/step\n",
            "Epoch 3/10\n",
            "799/799 - 5s - loss: 6.5358 - 5s/epoch - 7ms/step\n",
            "Epoch 4/10\n",
            "799/799 - 5s - loss: 6.2138 - 5s/epoch - 7ms/step\n",
            "Epoch 5/10\n",
            "799/799 - 5s - loss: 6.0308 - 5s/epoch - 7ms/step\n",
            "Epoch 6/10\n",
            "799/799 - 5s - loss: 5.9372 - 5s/epoch - 7ms/step\n",
            "Epoch 7/10\n",
            "799/799 - 5s - loss: 5.8690 - 5s/epoch - 7ms/step\n",
            "Epoch 8/10\n",
            "799/799 - 5s - loss: 5.8966 - 5s/epoch - 7ms/step\n",
            "Epoch 9/10\n",
            "799/799 - 5s - loss: 5.8633 - 5s/epoch - 7ms/step\n",
            "Epoch 10/10\n",
            "799/799 - 5s - loss: 5.8089 - 5s/epoch - 7ms/step\n"
          ]
        },
        {
          "output_type": "display_data",
          "data": {
            "text/plain": [
              "<Figure size 432x288 with 1 Axes>"
            ],
            "image/png": "[encoded data removed]"
          },
          "metadata": {
            "needs_background": "light"
          }
        },
        {
          "output_type": "display_data",
          "data": {
            "text/plain": [
              "<Figure size 432x288 with 1 Axes>"
            ],
            "image/png": "[encoded data removed]"
          },
          "metadata": {
            "needs_background": "light"
          }
        }
      ]
    },
    {
      "cell_type": "markdown",
      "source": [
        "# try to concatenate\n"
      ],
      "metadata": {
        "id": "tYL7AGwsFbBp"
      }
    },
    {
      "cell_type": "code",
      "source": [
        "# https://datamarket.com/data/set/22ox/monthly-milk-production-pounds-per-cow-jan-62-dec-75#!ds=22ox&display=line\n",
        "\n",
        "\n",
        "##\n",
        "# It's a very naive (toy) example to show how to do time series forecasting.\n",
        "# - There are no training-testing sets here. Everything is training set for simplicity.\n",
        "# - There is no input/output normalization.\n",
        "# - The model is simple.\n",
        "##\n",
        "\n",
        "lookback_window = 64  # months.\n",
        "\n",
        "\n",
        "\n",
        "x, y = [], []\n",
        "for i in range(lookback_window, len(milk)):\n",
        "    x.append(milk[i - lookback_window:i])\n",
        "    y.append(milk[i])\n",
        "x = np.array(x)\n",
        "y = np.array(y)\n",
        "\n",
        "print(x.shape)\n",
        "print(y.shape)\n",
        "\n",
        "# noinspection PyArgumentEqualDefault\n",
        "\n",
        "input1_= tf.keras.Input(shape=(lookback_window, 1), name='input1')\n",
        "input2_ = tf.keras.Input((lookback_window, 1), name='input2')\n",
        "\n",
        "\n",
        "input1 = TCN(\n",
        "        kernel_size=4,\n",
        "        use_skip_connections=False,\n",
        "        use_batch_norm=False,\n",
        "        use_weight_norm=False,\n",
        "        use_layer_norm=False\n",
        "        )(input1_)\n",
        "large_size_model = Dense(1, activation='linear')(input1)\n",
        "input2 = TCN(\n",
        "        kernel_size=2,\n",
        "        use_skip_connections=False,\n",
        "        use_batch_norm=False,\n",
        "        use_weight_norm=False,\n",
        "        use_layer_norm=False\n",
        "        )(input2_)\n",
        "small_size_model = Dense(1, activation='linear')(input2)\n",
        "added = tf.keras.layers.concatenate([large_size_model, small_size_model])\n",
        "\n",
        "\n",
        "model_output = Dense(1, activation='linear')(added)\n",
        "\n",
        "\n",
        "\n",
        "\n",
        "\n",
        "model =  tf.keras.models.Model(inputs=[input1_,input2_], outputs=model_output)\n",
        "\n",
        "model.summary()\n",
        "model.compile('adam', 'mae')\n",
        "\n",
        "print('Train...')\n",
        "model.fit([x,x], y, epochs=10, verbose=2, callbacks=[history])\n",
        "\n",
        "p = model.predict([x,x])\n",
        "\n",
        "p = p[:100]\n",
        "y = y[:100]\n",
        "plt.plot(p)\n",
        "plt.plot(y)\n",
        "plt.title('Monthly Milk Production (in pounds)')\n",
        "plt.legend(['predicted', 'actual'])\n",
        "plt.show()\n",
        "\n",
        "\n",
        "plt.plot(history.history['loss'][:10])\n",
        "plt.title('loss')\n",
        "plt.legend(['loss',])\n",
        "plt.show()\n"
      ],
      "metadata": {
        "colab": {
          "base_uri": "https://localhost:8080/",
          "height": 1000
        },
        "id": "lOnvha-BFeV5",
        "outputId": "2a98800c-3a4a-46f8-a189-d4c92026b556"
      },
      "execution_count": 63,
      "outputs": [
        {
          "output_type": "stream",
          "name": "stdout",
          "text": [
            "(25567, 64, 1)\n",
            "(25567, 1)\n",
            "Model: \"model_9\"\n",
            "__________________________________________________________________________________________________\n",
            " Layer (type)                   Output Shape         Param #     Connected to                     \n",
            "==================================================================================================\n",
            " input1 (InputLayer)            [(None, 64, 1)]      0           []                               \n",
            "                                                                                                  \n",
            " input2 (InputLayer)            [(None, 64, 1)]      0           []                               \n",
            "                                                                                                  \n",
            " tcn_43 (TCN)                   (None, 64)           181376      ['input1[0][0]']                 \n",
            "                                                                                                  \n",
            " tcn_44 (TCN)                   (None, 64)           91136       ['input2[0][0]']                 \n",
            "                                                                                                  \n",
            " dense_50 (Dense)               (None, 1)            65          ['tcn_43[0][0]']                 \n",
            "                                                                                                  \n",
            " dense_51 (Dense)               (None, 1)            65          ['tcn_44[0][0]']                 \n",
            "                                                                                                  \n",
            " concatenate_3 (Concatenate)    (None, 2)            0           ['dense_50[0][0]',               \n",
            "                                                                  'dense_51[0][0]']               \n",
            "                                                                                                  \n",
            " dense_52 (Dense)               (None, 1)            3           ['concatenate_3[0][0]']          \n",
            "                                                                                                  \n",
            "==================================================================================================\n",
            "Total params: 272,645\n",
            "Trainable params: 272,645\n",
            "Non-trainable params: 0\n",
            "__________________________________________________________________________________________________\n",
            "Train...\n",
            "Epoch 1/10\n",
            "799/799 - 12s - loss: 18.6668 - 12s/epoch - 15ms/step\n",
            "Epoch 2/10\n",
            "799/799 - 9s - loss: 7.4942 - 9s/epoch - 11ms/step\n",
            "Epoch 3/10\n",
            "799/799 - 9s - loss: 6.6336 - 9s/epoch - 11ms/step\n",
            "Epoch 4/10\n",
            "799/799 - 9s - loss: 6.2870 - 9s/epoch - 12ms/step\n",
            "Epoch 5/10\n",
            "799/799 - 9s - loss: 6.0259 - 9s/epoch - 11ms/step\n",
            "Epoch 6/10\n",
            "799/799 - 9s - loss: 6.0313 - 9s/epoch - 11ms/step\n",
            "Epoch 7/10\n",
            "799/799 - 10s - loss: 5.9181 - 10s/epoch - 12ms/step\n",
            "Epoch 8/10\n",
            "799/799 - 9s - loss: 5.8634 - 9s/epoch - 11ms/step\n",
            "Epoch 9/10\n",
            "799/799 - 9s - loss: 5.8911 - 9s/epoch - 11ms/step\n",
            "Epoch 10/10\n",
            "799/799 - 9s - loss: 5.8071 - 9s/epoch - 11ms/step\n"
          ]
        },
        {
          "output_type": "display_data",
          "data": {
            "text/plain": [
              "<Figure size 432x288 with 1 Axes>"
            ],
            "image/png": "[encoded data removed]"
          },
          "metadata": {
            "needs_background": "light"
          }
        },
        {
          "output_type": "display_data",
          "data": {
            "text/plain": [
              "<Figure size 432x288 with 1 Axes>"
            ],
            "image/png": "[encoded data removed]"
          },
          "metadata": {
            "needs_background": "light"
          }
        }
      ]
    },
    {
      "cell_type": "markdown",
      "metadata": {
        "id": "uLG0O8SJvarg"
      },
      "source": [
        "# 3 muti step pred test"
      ]
    },
    {
      "cell_type": "code",
      "execution_count": null,
      "metadata": {
        "id": "GV7mQW4Svarn"
      },
      "outputs": [],
      "source": [
        "\n",
        "milk = pd.read_csv('/content/Network Analytics2.csv', index_col=0, parse_dates=True)\n",
        "\n",
        "print(milk.head())\n",
        "\n",
        "lookback_window = 12  # months.\n",
        "pred_window = 3  # months.\n",
        "\n",
        "milk = milk.values # just keep np array here for simplicity.\n",
        "\n",
        "x, y = [], []\n",
        "for i in range(lookback_window, len(milk)-pred_window,pred_window):\n",
        "    x.append(milk[i - lookback_window:i])\n",
        "    y.append(milk[i:i+pred_window])\n",
        "\n",
        "x,y\n",
        "x = np.array(x,dtype=object).astype(np.float32)\n",
        "y = np.array(y,dtype=object).astype(np.float32)\n",
        "y = y.squeeze()\n",
        "\n",
        "\n",
        "\n",
        "\n",
        "\n",
        "np.set_printoptions(threshold=5)\n",
        "print(x.shape)\n",
        "print(y.shape)"
      ]
    },
    {
      "cell_type": "code",
      "execution_count": null,
      "metadata": {
        "id": "Xsu5-Ryivuh0"
      },
      "outputs": [],
      "source": [
        "\n",
        "# noinspection PyArgumentEqualDefault\n",
        "model = Sequential([\n",
        "    TCN(input_shape=(lookback_window, 1),\n",
        "        kernel_size=2,\n",
        "        use_skip_connections=False,\n",
        "        use_batch_norm=False,\n",
        "        use_weight_norm=False,\n",
        "        use_layer_norm=False\n",
        "        ),\n",
        "    Dense(pred_window, activation='linear')\n",
        "])\n",
        "\n",
        "model.summary()\n",
        "model.compile('adam', 'mae')\n",
        "\n",
        "print('Train...')\n",
        "model.fit(x, y, epochs=100, verbose=2)\n"
      ]
    },
    {
      "cell_type": "code",
      "execution_count": null,
      "metadata": {
        "id": "yKZRoqq0vqEf"
      },
      "outputs": [],
      "source": [
        "\n",
        "p = model.predict(x)\n",
        "p = p.flatten()\n",
        "y = y.flatten()\n",
        "plt.plot(p)\n",
        "plt.plot(y)\n",
        "plt.title('Monthly Milk Production (in pounds)')\n",
        "plt.legend(['predicted', 'actual'])\n",
        "plt.show()"
      ]
    },
    {
      "cell_type": "code",
      "execution_count": null,
      "metadata": {
        "id": "1pmCgKyXvarn"
      },
      "outputs": [],
      "source": [
        "x.shape,y.shape"
      ]
    },
    {
      "cell_type": "markdown",
      "source": [
        "# TCN summary\n",
        "## 1.  训练集即测试集（仅仅是过拟合）\n",
        "## 2.  3-step-tcn 是将3步变成三维进行预测，从原理上有点小问题，即通过1-12预测13-15；但最好还是return_sequence = true,然后迭代预测，此时也是通过1-12预测13-15，没有新的点加入（即非自回归预测模型 ACF PACF）。"
      ],
      "metadata": {
        "id": "_0K-YV2fBcKj"
      }
    },
    {
      "cell_type": "markdown",
      "source": [
        "# lstm 1 step"
      ],
      "metadata": {
        "id": "ewXTKFw9_4Up"
      }
    },
    {
      "cell_type": "markdown",
      "source": [
        "![Imgur](https://i.imgur.com/FAGMvlc.png)\n",
        "https://en.wikipedia.org/wiki/Long_short-term_memory\n",
        "\n",
        "hidden state(also known as output of lstm units)restricted from minus one to one!!"
      ],
      "metadata": {
        "id": "l6g--2OLNDfb"
      }
    },
    {
      "cell_type": "code",
      "source": [
        "def normalization(data):\n",
        "    _range = np.max(data) - np.min(data)\n",
        "    return (data - np.min(data)) / _range\n",
        " \n",
        " \n",
        "def standardization(data):\n",
        "    mu = np.mean(data, axis=0)\n",
        "    sigma = np.std(data, axis=0)\n",
        "    return (data - mu) / sigma"
      ],
      "metadata": {
        "id": "jkH_7dnaEFbW"
      },
      "execution_count": null,
      "outputs": []
    },
    {
      "cell_type": "code",
      "source": [
        "\n",
        "milk = pd.read_csv('/content/Network Analytics2.csv', index_col=0, parse_dates=True)\n",
        "milk = normalization(milk)  #数据标准归一化\n",
        "print(milk.head())\n",
        "\n",
        "lookback_window = 12  # months.\n",
        "\n",
        "milk = milk.values  # just keep np array here for simplicity.\n",
        "\n",
        "x, y = [], []\n",
        "for i in range(lookback_window, len(milk)):\n",
        "    x.append(milk[i - lookback_window:i])\n",
        "    y.append(milk[i])\n",
        "x = np.array(x)\n",
        "y = np.array(y)\n",
        "\n",
        "print(x.shape)\n",
        "print(y.shape)\n"
      ],
      "metadata": {
        "id": "3-1jZY5m_9pr"
      },
      "execution_count": null,
      "outputs": []
    },
    {
      "cell_type": "code",
      "source": [
        "\n",
        "# noinspection PyArgumentEqualDefault\n",
        "model = Sequential([tf.keras.layers.LSTM(1,input_shape=(lookback_window, 1))\n",
        "\n",
        "])\n",
        "\n",
        "model.summary()\n",
        "model.compile('adam', 'mae')\n",
        "\n",
        "print('Train...')\n",
        "model.fit(x, y, epochs=100, verbose=2)\n"
      ],
      "metadata": {
        "id": "0DM4ZXetBsKB"
      },
      "execution_count": null,
      "outputs": []
    },
    {
      "cell_type": "code",
      "source": [
        "\n",
        "p = model.predict(x)\n",
        "\n",
        "plt.plot(p)\n",
        "plt.plot(y)\n",
        "plt.title('Monthly Milk Production (in pounds)')\n",
        "plt.legend(['predicted', 'actual'])\n",
        "plt.show()"
      ],
      "metadata": {
        "id": "6W87oa5CBx40"
      },
      "execution_count": null,
      "outputs": []
    },
    {
      "cell_type": "markdown",
      "source": [
        "因为只有12个可调参数，根本学习不到特征\n"
      ],
      "metadata": {
        "id": "4_SFlCBcDj9A"
      }
    },
    {
      "cell_type": "markdown",
      "source": [
        "# lstm 3 step"
      ],
      "metadata": {
        "id": "ArSGGCxyEklT"
      }
    },
    {
      "cell_type": "code",
      "source": [
        "def normalization(data):\n",
        "    _range = np.max(data) - np.min(data)\n",
        "    return ((data - np.min(data)) / _range)"
      ],
      "metadata": {
        "id": "lixdbF27Lz0q"
      },
      "execution_count": null,
      "outputs": []
    },
    {
      "cell_type": "code",
      "execution_count": null,
      "metadata": {
        "id": "JdycwSY-J_PS"
      },
      "outputs": [],
      "source": [
        "\n",
        "milk = pd.read_csv('/content/Network Analytics2.csv', index_col=0, parse_dates=True)\n",
        "milk = normalization(milk)  #数据标准归一化\n",
        "print(milk.head())\n",
        "\n",
        "lookback_window = 12  # months.\n",
        "pred_window = 3  # months.\n",
        "\n",
        "milk = milk.values # just keep np array here for simplicity.\n",
        "\n",
        "x, y = [], []\n",
        "for i in range(lookback_window, len(milk)-pred_window,pred_window):\n",
        "    x.append(milk[i - lookback_window:i])\n",
        "    y.append(milk[i:i+pred_window])\n",
        "\n",
        "x,y\n",
        "x = np.array(x,dtype=object).astype(np.float32)\n",
        "y = np.array(y,dtype=object).astype(np.float32)\n",
        "y = y.squeeze()\n",
        "\n",
        "\n",
        "\n",
        "\n",
        "\n",
        "np.set_printoptions(threshold=5)\n",
        "print(x.shape)\n",
        "print(y.shape)"
      ]
    },
    {
      "cell_type": "code",
      "execution_count": null,
      "metadata": {
        "id": "aWMoCLpoKDXx"
      },
      "outputs": [],
      "source": [
        "\n",
        "# noinspection PyArgumentEqualDefault\n",
        "model = Sequential([tf.keras.layers.LSTM(3,input_shape=(lookback_window, 1))\n",
        "\n",
        "])\n",
        "\n",
        "model.summary()\n",
        "model.compile('adam', 'mae')\n",
        "\n",
        "print('Train...')\n",
        "model.fit(x, y, epochs=100, verbose=2)\n"
      ]
    },
    {
      "cell_type": "code",
      "execution_count": null,
      "metadata": {
        "id": "cnCcmTMsKNDT"
      },
      "outputs": [],
      "source": [
        "\n",
        "p = model.predict(x)\n",
        "p = p.flatten()\n",
        "y = y.flatten()\n",
        "plt.plot(p)\n",
        "plt.plot(y)\n",
        "plt.title('Monthly Milk Production (in pounds)')\n",
        "plt.legend(['predicted', 'actual'])\n",
        "plt.show()"
      ]
    }
  ],
  "metadata": {
    "accelerator": "GPU",
    "colab": {
      "machine_shape": "hm",
      "name": "TCN_report.ipynb",
      "provenance": [],
      "collapsed_sections": []
    },
    "kernelspec": {
      "display_name": "Python 3",
      "name": "python3"
    },
    "language_info": {
      "name": "python"
    }
  },
  "nbformat": 4,
  "nbformat_minor": 0
}